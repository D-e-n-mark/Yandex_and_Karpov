{
 "cells": [
  {
   "cell_type": "markdown",
   "id": "69f23e18",
   "metadata": {
    "id": "c81daeeb"
   },
   "source": [
    "# Исследование надежности заемщиков\n"
   ]
  },
  {
   "cell_type": "markdown",
   "id": "71cf4d97",
   "metadata": {},
   "source": [
    "**Цель исследования**  \n",
    "Выявить полезные для банка особенности клиента, влияющие на возврат кредита в срок."
   ]
  },
  {
   "cell_type": "markdown",
   "id": "8d411997",
   "metadata": {},
   "source": [
    "**Входные данные**\n",
    "* данные о клиентах банка (файл `data.csv`)\n",
    "\n",
    "`children` – количество детей    \n",
    "`days_employed` –  количество дней, которое проработал клиент  \n",
    "`dob_years` – возраст клиента  \n",
    "`education` – образование  \n",
    "`family_status` – семейный статус  \n",
    "`family_status_id` – id статуса  \n",
    "`gender` – пол  \n",
    "`income_type` – тип дохода   \n",
    "`debt` – вернул ли клиент заем в срок  \n",
    "`total_income` – доход клиента  \n",
    "`purpose` – цель заема  \n",
    "\n",
    "**Ход исследования**\n",
    "1. Изучение общей информации о данных\n",
    "2. Предобработка данных\n",
    "3. Исследование данных и ответ на поставленные вопросы\n",
    "4. Общий вывод\n",
    "\n",
    "**Навыки и инструменты**  \n",
    "\n",
    "`предобработка данных`  \n",
    "\n",
    "`Python`  \n",
    "`Pandas`  \n",
    "`Plotly`  \n",
    "\n",
    "**Вывод**  \n",
    "\n",
    "Наиболее рискованным для банка с точки зрения возврата кредита будет не женатый / не замужний клиент с 4 детьми, с категорией дохода \"Е\", с целью совершения операций с автомобилем. Но, видимо, в нашем датафрейме нет наблюдений, удовлетворяющих всем этим запросам"
   ]
  },
  {
   "cell_type": "markdown",
   "id": "ed701c59",
   "metadata": {
    "id": "744d7639"
   },
   "source": [
    "## Изучение общей информации о данных"
   ]
  },
  {
   "cell_type": "markdown",
   "id": "50d836dd",
   "metadata": {},
   "source": [
    "**1. Импорт библиотек. Считывание данных из csv-файла в датафрейм**"
   ]
  },
  {
   "cell_type": "code",
   "execution_count": 27,
   "id": "d4d30b2a",
   "metadata": {},
   "outputs": [],
   "source": [
    "import pandas as pd\n",
    "import plotly.express as px"
   ]
  },
  {
   "cell_type": "code",
   "execution_count": 6,
   "id": "ba4bdafb",
   "metadata": {
    "id": "7bcf75c9"
   },
   "outputs": [],
   "source": [
    "data = pd.read_csv('/datasets/data.csv')"
   ]
  },
  {
   "cell_type": "markdown",
   "id": "959b5567",
   "metadata": {
    "id": "b8038fe3"
   },
   "source": [
    "**2. Выведем первые 20 строчек датафрейма `data` на экран.**"
   ]
  },
  {
   "cell_type": "code",
   "execution_count": 7,
   "id": "c91308a8",
   "metadata": {
    "id": "2a7cab99",
    "outputId": "1a8f3ef2-d323-4ec2-ddf7-89670b5944c4"
   },
   "outputs": [
    {
     "data": {
      "text/html": [
       "<div>\n",
       "<style scoped>\n",
       "    .dataframe tbody tr th:only-of-type {\n",
       "        vertical-align: middle;\n",
       "    }\n",
       "\n",
       "    .dataframe tbody tr th {\n",
       "        vertical-align: top;\n",
       "    }\n",
       "\n",
       "    .dataframe thead th {\n",
       "        text-align: right;\n",
       "    }\n",
       "</style>\n",
       "<table border=\"1\" class=\"dataframe\">\n",
       "  <thead>\n",
       "    <tr style=\"text-align: right;\">\n",
       "      <th></th>\n",
       "      <th>children</th>\n",
       "      <th>days_employed</th>\n",
       "      <th>dob_years</th>\n",
       "      <th>education</th>\n",
       "      <th>education_id</th>\n",
       "      <th>family_status</th>\n",
       "      <th>family_status_id</th>\n",
       "      <th>gender</th>\n",
       "      <th>income_type</th>\n",
       "      <th>debt</th>\n",
       "      <th>total_income</th>\n",
       "      <th>purpose</th>\n",
       "    </tr>\n",
       "  </thead>\n",
       "  <tbody>\n",
       "    <tr>\n",
       "      <th>0</th>\n",
       "      <td>1</td>\n",
       "      <td>-8437.673028</td>\n",
       "      <td>42</td>\n",
       "      <td>высшее</td>\n",
       "      <td>0</td>\n",
       "      <td>женат / замужем</td>\n",
       "      <td>0</td>\n",
       "      <td>F</td>\n",
       "      <td>сотрудник</td>\n",
       "      <td>0</td>\n",
       "      <td>253875.639453</td>\n",
       "      <td>покупка жилья</td>\n",
       "    </tr>\n",
       "    <tr>\n",
       "      <th>1</th>\n",
       "      <td>1</td>\n",
       "      <td>-4024.803754</td>\n",
       "      <td>36</td>\n",
       "      <td>среднее</td>\n",
       "      <td>1</td>\n",
       "      <td>женат / замужем</td>\n",
       "      <td>0</td>\n",
       "      <td>F</td>\n",
       "      <td>сотрудник</td>\n",
       "      <td>0</td>\n",
       "      <td>112080.014102</td>\n",
       "      <td>приобретение автомобиля</td>\n",
       "    </tr>\n",
       "    <tr>\n",
       "      <th>2</th>\n",
       "      <td>0</td>\n",
       "      <td>-5623.422610</td>\n",
       "      <td>33</td>\n",
       "      <td>Среднее</td>\n",
       "      <td>1</td>\n",
       "      <td>женат / замужем</td>\n",
       "      <td>0</td>\n",
       "      <td>M</td>\n",
       "      <td>сотрудник</td>\n",
       "      <td>0</td>\n",
       "      <td>145885.952297</td>\n",
       "      <td>покупка жилья</td>\n",
       "    </tr>\n",
       "    <tr>\n",
       "      <th>3</th>\n",
       "      <td>3</td>\n",
       "      <td>-4124.747207</td>\n",
       "      <td>32</td>\n",
       "      <td>среднее</td>\n",
       "      <td>1</td>\n",
       "      <td>женат / замужем</td>\n",
       "      <td>0</td>\n",
       "      <td>M</td>\n",
       "      <td>сотрудник</td>\n",
       "      <td>0</td>\n",
       "      <td>267628.550329</td>\n",
       "      <td>дополнительное образование</td>\n",
       "    </tr>\n",
       "    <tr>\n",
       "      <th>4</th>\n",
       "      <td>0</td>\n",
       "      <td>340266.072047</td>\n",
       "      <td>53</td>\n",
       "      <td>среднее</td>\n",
       "      <td>1</td>\n",
       "      <td>гражданский брак</td>\n",
       "      <td>1</td>\n",
       "      <td>F</td>\n",
       "      <td>пенсионер</td>\n",
       "      <td>0</td>\n",
       "      <td>158616.077870</td>\n",
       "      <td>сыграть свадьбу</td>\n",
       "    </tr>\n",
       "    <tr>\n",
       "      <th>5</th>\n",
       "      <td>0</td>\n",
       "      <td>-926.185831</td>\n",
       "      <td>27</td>\n",
       "      <td>высшее</td>\n",
       "      <td>0</td>\n",
       "      <td>гражданский брак</td>\n",
       "      <td>1</td>\n",
       "      <td>M</td>\n",
       "      <td>компаньон</td>\n",
       "      <td>0</td>\n",
       "      <td>255763.565419</td>\n",
       "      <td>покупка жилья</td>\n",
       "    </tr>\n",
       "    <tr>\n",
       "      <th>6</th>\n",
       "      <td>0</td>\n",
       "      <td>-2879.202052</td>\n",
       "      <td>43</td>\n",
       "      <td>высшее</td>\n",
       "      <td>0</td>\n",
       "      <td>женат / замужем</td>\n",
       "      <td>0</td>\n",
       "      <td>F</td>\n",
       "      <td>компаньон</td>\n",
       "      <td>0</td>\n",
       "      <td>240525.971920</td>\n",
       "      <td>операции с жильем</td>\n",
       "    </tr>\n",
       "    <tr>\n",
       "      <th>7</th>\n",
       "      <td>0</td>\n",
       "      <td>-152.779569</td>\n",
       "      <td>50</td>\n",
       "      <td>СРЕДНЕЕ</td>\n",
       "      <td>1</td>\n",
       "      <td>женат / замужем</td>\n",
       "      <td>0</td>\n",
       "      <td>M</td>\n",
       "      <td>сотрудник</td>\n",
       "      <td>0</td>\n",
       "      <td>135823.934197</td>\n",
       "      <td>образование</td>\n",
       "    </tr>\n",
       "    <tr>\n",
       "      <th>8</th>\n",
       "      <td>2</td>\n",
       "      <td>-6929.865299</td>\n",
       "      <td>35</td>\n",
       "      <td>ВЫСШЕЕ</td>\n",
       "      <td>0</td>\n",
       "      <td>гражданский брак</td>\n",
       "      <td>1</td>\n",
       "      <td>F</td>\n",
       "      <td>сотрудник</td>\n",
       "      <td>0</td>\n",
       "      <td>95856.832424</td>\n",
       "      <td>на проведение свадьбы</td>\n",
       "    </tr>\n",
       "    <tr>\n",
       "      <th>9</th>\n",
       "      <td>0</td>\n",
       "      <td>-2188.756445</td>\n",
       "      <td>41</td>\n",
       "      <td>среднее</td>\n",
       "      <td>1</td>\n",
       "      <td>женат / замужем</td>\n",
       "      <td>0</td>\n",
       "      <td>M</td>\n",
       "      <td>сотрудник</td>\n",
       "      <td>0</td>\n",
       "      <td>144425.938277</td>\n",
       "      <td>покупка жилья для семьи</td>\n",
       "    </tr>\n",
       "    <tr>\n",
       "      <th>10</th>\n",
       "      <td>2</td>\n",
       "      <td>-4171.483647</td>\n",
       "      <td>36</td>\n",
       "      <td>высшее</td>\n",
       "      <td>0</td>\n",
       "      <td>женат / замужем</td>\n",
       "      <td>0</td>\n",
       "      <td>M</td>\n",
       "      <td>компаньон</td>\n",
       "      <td>0</td>\n",
       "      <td>113943.491460</td>\n",
       "      <td>покупка недвижимости</td>\n",
       "    </tr>\n",
       "    <tr>\n",
       "      <th>11</th>\n",
       "      <td>0</td>\n",
       "      <td>-792.701887</td>\n",
       "      <td>40</td>\n",
       "      <td>среднее</td>\n",
       "      <td>1</td>\n",
       "      <td>женат / замужем</td>\n",
       "      <td>0</td>\n",
       "      <td>F</td>\n",
       "      <td>сотрудник</td>\n",
       "      <td>0</td>\n",
       "      <td>77069.234271</td>\n",
       "      <td>покупка коммерческой недвижимости</td>\n",
       "    </tr>\n",
       "    <tr>\n",
       "      <th>12</th>\n",
       "      <td>0</td>\n",
       "      <td>NaN</td>\n",
       "      <td>65</td>\n",
       "      <td>среднее</td>\n",
       "      <td>1</td>\n",
       "      <td>гражданский брак</td>\n",
       "      <td>1</td>\n",
       "      <td>M</td>\n",
       "      <td>пенсионер</td>\n",
       "      <td>0</td>\n",
       "      <td>NaN</td>\n",
       "      <td>сыграть свадьбу</td>\n",
       "    </tr>\n",
       "    <tr>\n",
       "      <th>13</th>\n",
       "      <td>0</td>\n",
       "      <td>-1846.641941</td>\n",
       "      <td>54</td>\n",
       "      <td>неоконченное высшее</td>\n",
       "      <td>2</td>\n",
       "      <td>женат / замужем</td>\n",
       "      <td>0</td>\n",
       "      <td>F</td>\n",
       "      <td>сотрудник</td>\n",
       "      <td>0</td>\n",
       "      <td>130458.228857</td>\n",
       "      <td>приобретение автомобиля</td>\n",
       "    </tr>\n",
       "    <tr>\n",
       "      <th>14</th>\n",
       "      <td>0</td>\n",
       "      <td>-1844.956182</td>\n",
       "      <td>56</td>\n",
       "      <td>высшее</td>\n",
       "      <td>0</td>\n",
       "      <td>гражданский брак</td>\n",
       "      <td>1</td>\n",
       "      <td>F</td>\n",
       "      <td>компаньон</td>\n",
       "      <td>1</td>\n",
       "      <td>165127.911772</td>\n",
       "      <td>покупка жилой недвижимости</td>\n",
       "    </tr>\n",
       "    <tr>\n",
       "      <th>15</th>\n",
       "      <td>1</td>\n",
       "      <td>-972.364419</td>\n",
       "      <td>26</td>\n",
       "      <td>среднее</td>\n",
       "      <td>1</td>\n",
       "      <td>женат / замужем</td>\n",
       "      <td>0</td>\n",
       "      <td>F</td>\n",
       "      <td>сотрудник</td>\n",
       "      <td>0</td>\n",
       "      <td>116820.904450</td>\n",
       "      <td>строительство собственной недвижимости</td>\n",
       "    </tr>\n",
       "    <tr>\n",
       "      <th>16</th>\n",
       "      <td>0</td>\n",
       "      <td>-1719.934226</td>\n",
       "      <td>35</td>\n",
       "      <td>среднее</td>\n",
       "      <td>1</td>\n",
       "      <td>женат / замужем</td>\n",
       "      <td>0</td>\n",
       "      <td>F</td>\n",
       "      <td>сотрудник</td>\n",
       "      <td>0</td>\n",
       "      <td>289202.704229</td>\n",
       "      <td>недвижимость</td>\n",
       "    </tr>\n",
       "    <tr>\n",
       "      <th>17</th>\n",
       "      <td>0</td>\n",
       "      <td>-2369.999720</td>\n",
       "      <td>33</td>\n",
       "      <td>высшее</td>\n",
       "      <td>0</td>\n",
       "      <td>гражданский брак</td>\n",
       "      <td>1</td>\n",
       "      <td>M</td>\n",
       "      <td>сотрудник</td>\n",
       "      <td>0</td>\n",
       "      <td>90410.586745</td>\n",
       "      <td>строительство недвижимости</td>\n",
       "    </tr>\n",
       "    <tr>\n",
       "      <th>18</th>\n",
       "      <td>0</td>\n",
       "      <td>400281.136913</td>\n",
       "      <td>53</td>\n",
       "      <td>среднее</td>\n",
       "      <td>1</td>\n",
       "      <td>вдовец / вдова</td>\n",
       "      <td>2</td>\n",
       "      <td>F</td>\n",
       "      <td>пенсионер</td>\n",
       "      <td>0</td>\n",
       "      <td>56823.777243</td>\n",
       "      <td>на покупку подержанного автомобиля</td>\n",
       "    </tr>\n",
       "    <tr>\n",
       "      <th>19</th>\n",
       "      <td>0</td>\n",
       "      <td>-10038.818549</td>\n",
       "      <td>48</td>\n",
       "      <td>СРЕДНЕЕ</td>\n",
       "      <td>1</td>\n",
       "      <td>в разводе</td>\n",
       "      <td>3</td>\n",
       "      <td>F</td>\n",
       "      <td>сотрудник</td>\n",
       "      <td>0</td>\n",
       "      <td>242831.107982</td>\n",
       "      <td>на покупку своего автомобиля</td>\n",
       "    </tr>\n",
       "  </tbody>\n",
       "</table>\n",
       "</div>"
      ],
      "text/plain": [
       "    children  days_employed  dob_years            education  education_id  \\\n",
       "0          1   -8437.673028         42               высшее             0   \n",
       "1          1   -4024.803754         36              среднее             1   \n",
       "2          0   -5623.422610         33              Среднее             1   \n",
       "3          3   -4124.747207         32              среднее             1   \n",
       "4          0  340266.072047         53              среднее             1   \n",
       "5          0    -926.185831         27               высшее             0   \n",
       "6          0   -2879.202052         43               высшее             0   \n",
       "7          0    -152.779569         50              СРЕДНЕЕ             1   \n",
       "8          2   -6929.865299         35               ВЫСШЕЕ             0   \n",
       "9          0   -2188.756445         41              среднее             1   \n",
       "10         2   -4171.483647         36               высшее             0   \n",
       "11         0    -792.701887         40              среднее             1   \n",
       "12         0            NaN         65              среднее             1   \n",
       "13         0   -1846.641941         54  неоконченное высшее             2   \n",
       "14         0   -1844.956182         56               высшее             0   \n",
       "15         1    -972.364419         26              среднее             1   \n",
       "16         0   -1719.934226         35              среднее             1   \n",
       "17         0   -2369.999720         33               высшее             0   \n",
       "18         0  400281.136913         53              среднее             1   \n",
       "19         0  -10038.818549         48              СРЕДНЕЕ             1   \n",
       "\n",
       "       family_status  family_status_id gender income_type  debt  \\\n",
       "0    женат / замужем                 0      F   сотрудник     0   \n",
       "1    женат / замужем                 0      F   сотрудник     0   \n",
       "2    женат / замужем                 0      M   сотрудник     0   \n",
       "3    женат / замужем                 0      M   сотрудник     0   \n",
       "4   гражданский брак                 1      F   пенсионер     0   \n",
       "5   гражданский брак                 1      M   компаньон     0   \n",
       "6    женат / замужем                 0      F   компаньон     0   \n",
       "7    женат / замужем                 0      M   сотрудник     0   \n",
       "8   гражданский брак                 1      F   сотрудник     0   \n",
       "9    женат / замужем                 0      M   сотрудник     0   \n",
       "10   женат / замужем                 0      M   компаньон     0   \n",
       "11   женат / замужем                 0      F   сотрудник     0   \n",
       "12  гражданский брак                 1      M   пенсионер     0   \n",
       "13   женат / замужем                 0      F   сотрудник     0   \n",
       "14  гражданский брак                 1      F   компаньон     1   \n",
       "15   женат / замужем                 0      F   сотрудник     0   \n",
       "16   женат / замужем                 0      F   сотрудник     0   \n",
       "17  гражданский брак                 1      M   сотрудник     0   \n",
       "18    вдовец / вдова                 2      F   пенсионер     0   \n",
       "19         в разводе                 3      F   сотрудник     0   \n",
       "\n",
       "     total_income                                 purpose  \n",
       "0   253875.639453                           покупка жилья  \n",
       "1   112080.014102                 приобретение автомобиля  \n",
       "2   145885.952297                           покупка жилья  \n",
       "3   267628.550329              дополнительное образование  \n",
       "4   158616.077870                         сыграть свадьбу  \n",
       "5   255763.565419                           покупка жилья  \n",
       "6   240525.971920                       операции с жильем  \n",
       "7   135823.934197                             образование  \n",
       "8    95856.832424                   на проведение свадьбы  \n",
       "9   144425.938277                 покупка жилья для семьи  \n",
       "10  113943.491460                    покупка недвижимости  \n",
       "11   77069.234271       покупка коммерческой недвижимости  \n",
       "12            NaN                         сыграть свадьбу  \n",
       "13  130458.228857                 приобретение автомобиля  \n",
       "14  165127.911772              покупка жилой недвижимости  \n",
       "15  116820.904450  строительство собственной недвижимости  \n",
       "16  289202.704229                            недвижимость  \n",
       "17   90410.586745              строительство недвижимости  \n",
       "18   56823.777243      на покупку подержанного автомобиля  \n",
       "19  242831.107982            на покупку своего автомобиля  "
      ]
     },
     "execution_count": 7,
     "metadata": {},
     "output_type": "execute_result"
    }
   ],
   "source": [
    "data.head(20)"
   ]
  },
  {
   "cell_type": "markdown",
   "id": "4ffae113",
   "metadata": {
    "id": "1c12e233"
   },
   "source": [
    "**3. Выведем основную информацию о датафрейме.**"
   ]
  },
  {
   "cell_type": "code",
   "execution_count": 8,
   "id": "51fce70c",
   "metadata": {
    "id": "2b757bca",
    "outputId": "15376089-8dad-46c9-b520-c05248d43158"
   },
   "outputs": [
    {
     "name": "stdout",
     "output_type": "stream",
     "text": [
      "<class 'pandas.core.frame.DataFrame'>\n",
      "RangeIndex: 21525 entries, 0 to 21524\n",
      "Data columns (total 12 columns):\n",
      " #   Column            Non-Null Count  Dtype  \n",
      "---  ------            --------------  -----  \n",
      " 0   children          21525 non-null  int64  \n",
      " 1   days_employed     19351 non-null  float64\n",
      " 2   dob_years         21525 non-null  int64  \n",
      " 3   education         21525 non-null  object \n",
      " 4   education_id      21525 non-null  int64  \n",
      " 5   family_status     21525 non-null  object \n",
      " 6   family_status_id  21525 non-null  int64  \n",
      " 7   gender            21525 non-null  object \n",
      " 8   income_type       21525 non-null  object \n",
      " 9   debt              21525 non-null  int64  \n",
      " 10  total_income      19351 non-null  float64\n",
      " 11  purpose           21525 non-null  object \n",
      "dtypes: float64(2), int64(5), object(5)\n",
      "memory usage: 2.0+ MB\n"
     ]
    }
   ],
   "source": [
    "data.info()"
   ]
  },
  {
   "cell_type": "markdown",
   "id": "e9444111",
   "metadata": {
    "editable": false,
    "id": "333ec665"
   },
   "source": [
    "## Предобработка данных"
   ]
  },
  {
   "cell_type": "markdown",
   "id": "11a49c53",
   "metadata": {
    "editable": false,
    "id": "02d92d53"
   },
   "source": [
    "### Удаление пропусков"
   ]
  },
  {
   "cell_type": "markdown",
   "id": "82417830",
   "metadata": {
    "id": "cd84967c"
   },
   "source": [
    "**4. Выведем количество пропущенных значений для каждого столбца.**"
   ]
  },
  {
   "cell_type": "code",
   "execution_count": 9,
   "id": "aeaa2d16",
   "metadata": {
    "id": "7f9b2309",
    "outputId": "81f4d817-781c-465c-ed15-91ce4446810d",
    "scrolled": true
   },
   "outputs": [
    {
     "data": {
      "text/plain": [
       "children               0\n",
       "days_employed       2174\n",
       "dob_years              0\n",
       "education              0\n",
       "education_id           0\n",
       "family_status          0\n",
       "family_status_id       0\n",
       "gender                 0\n",
       "income_type            0\n",
       "debt                   0\n",
       "total_income        2174\n",
       "purpose                0\n",
       "dtype: int64"
      ]
     },
     "execution_count": 9,
     "metadata": {},
     "output_type": "execute_result"
    }
   ],
   "source": [
    "data.isna().sum()"
   ]
  },
  {
   "cell_type": "markdown",
   "id": "5a80b41a",
   "metadata": {
    "id": "db86e27b"
   },
   "source": [
    "**5. Заменим пропусков в 'income_type' медианным значением**"
   ]
  },
  {
   "cell_type": "code",
   "execution_count": 10,
   "id": "04b62165",
   "metadata": {
    "id": "42006a93"
   },
   "outputs": [],
   "source": [
    "for t in data['income_type'].unique():\n",
    "    data.loc[(data['income_type'] == t) & (data['total_income'].isna()), 'total_income'] = \\\n",
    "    data.loc[(data['income_type'] == t), 'total_income'].median()"
   ]
  },
  {
   "cell_type": "markdown",
   "id": "eddadf41",
   "metadata": {
    "id": "89da5ece"
   },
   "source": [
    "### Обработка аномальных значений"
   ]
  },
  {
   "cell_type": "markdown",
   "id": "0ca38620",
   "metadata": {
    "id": "57964554"
   },
   "source": [
    "**6. Заменим все отрицательные значения в столбце 'days_employed' положительными с помощью метода `abs()`.**"
   ]
  },
  {
   "cell_type": "code",
   "execution_count": 11,
   "id": "ef29039b",
   "metadata": {
    "id": "f6f055bf"
   },
   "outputs": [],
   "source": [
    "data['days_employed'] = data['days_employed'].abs()"
   ]
  },
  {
   "cell_type": "markdown",
   "id": "4c0be78b",
   "metadata": {
    "id": "6107dd2f"
   },
   "source": [
    "**7. Для каждого типа занятости выведем медианное значение трудового стажа `days_employed` в днях.**"
   ]
  },
  {
   "cell_type": "code",
   "execution_count": 12,
   "id": "18bd525d",
   "metadata": {
    "deletable": false,
    "id": "85a5faf6",
    "outputId": "801ef80e-522b-4668-f34e-565af7432bcf"
   },
   "outputs": [
    {
     "data": {
      "text/plain": [
       "income_type\n",
       "безработный        366413.652744\n",
       "в декрете            3296.759962\n",
       "госслужащий          2689.368353\n",
       "компаньон            1547.382223\n",
       "пенсионер          365213.306266\n",
       "предприниматель       520.848083\n",
       "сотрудник            1574.202821\n",
       "студент               578.751554\n",
       "Name: days_employed, dtype: float64"
      ]
     },
     "execution_count": 12,
     "metadata": {},
     "output_type": "execute_result"
    }
   ],
   "source": [
    "data.groupby('income_type')['days_employed'].agg('median')"
   ]
  },
  {
   "cell_type": "markdown",
   "id": "9216d489",
   "metadata": {
    "id": "38d1a030"
   },
   "source": [
    "У двух типов (безработные и пенсионеры) получаются аномально большие значения. Исправить такие значения сложно, поэтому оставим их как есть. Тем более этот столбец не понадобится для исследования."
   ]
  },
  {
   "cell_type": "markdown",
   "id": "c6b7cbac",
   "metadata": {
    "id": "d8a9f147"
   },
   "source": [
    "**8. Выведем перечень уникальных значений столбца `children`.**"
   ]
  },
  {
   "cell_type": "code",
   "execution_count": 13,
   "id": "90279754",
   "metadata": {
    "id": "ef5056eb",
    "outputId": "6975b15c-7f95-4697-d16d-a0c79b657b03"
   },
   "outputs": [
    {
     "data": {
      "text/plain": [
       "array([ 1,  0,  3,  2, -1,  4, 20,  5], dtype=int64)"
      ]
     },
     "execution_count": 13,
     "metadata": {},
     "output_type": "execute_result"
    }
   ],
   "source": [
    "data['children'].unique()"
   ]
  },
  {
   "cell_type": "markdown",
   "id": "28cb4f72",
   "metadata": {
    "id": "40b9ebf2"
   },
   "source": [
    "**9. В столбце `children` есть два аномальных значения. Удалим строки, в которых встречаются такие аномальные значения из датафрейма `data`.**"
   ]
  },
  {
   "cell_type": "code",
   "execution_count": 14,
   "id": "cba44c05",
   "metadata": {
    "id": "3ff9801d"
   },
   "outputs": [],
   "source": [
    "data = data[(data['children'] != -1) & (data['children'] != 20)]"
   ]
  },
  {
   "cell_type": "markdown",
   "id": "5ca7a295",
   "metadata": {
    "id": "bbc4d0ce"
   },
   "source": [
    "**10. Ещё раз выведем перечень уникальных значений столбца `children`, чтобы убедиться, что артефакты удалены.**"
   ]
  },
  {
   "cell_type": "code",
   "execution_count": 15,
   "id": "7a72a90f",
   "metadata": {
    "id": "ad4fa8b7",
    "outputId": "b2097101-d49d-44d9-901b-32a65c9463d1"
   },
   "outputs": [
    {
     "data": {
      "text/plain": [
       "array([1, 0, 3, 2, 4, 5], dtype=int64)"
      ]
     },
     "execution_count": 15,
     "metadata": {},
     "output_type": "execute_result"
    }
   ],
   "source": [
    "data['children'].unique()"
   ]
  },
  {
   "cell_type": "markdown",
   "id": "f6ed03ac",
   "metadata": {
    "id": "75440b63"
   },
   "source": [
    "### Удаление пропусков (продолжение)"
   ]
  },
  {
   "cell_type": "markdown",
   "id": "04416a14",
   "metadata": {
    "id": "f4ea573f"
   },
   "source": [
    "**11. Заполним пропуски в столбце `days_employed` медианными значениями по каждму типа занятости `income_type`.**"
   ]
  },
  {
   "cell_type": "code",
   "execution_count": 16,
   "id": "c49a733f",
   "metadata": {
    "id": "af6b1a7e"
   },
   "outputs": [],
   "source": [
    "for t in data['income_type'].unique():\n",
    "    data.loc[(data['income_type'] == t) & (data['days_employed'].isna()), 'days_employed'] = \\\n",
    "    data.loc[(data['income_type'] == t), 'days_employed'].median()"
   ]
  },
  {
   "cell_type": "markdown",
   "id": "2bc23704",
   "metadata": {
    "id": "2753f40d"
   },
   "source": [
    "**12. Убедимся, что все пропуски заполнены.**"
   ]
  },
  {
   "cell_type": "code",
   "execution_count": 17,
   "id": "001bf7c2",
   "metadata": {
    "id": "55f78bc2",
    "outputId": "8da1e4e1-358e-4e87-98c9-f261bce0a7b2"
   },
   "outputs": [
    {
     "data": {
      "text/plain": [
       "children            0\n",
       "days_employed       0\n",
       "dob_years           0\n",
       "education           0\n",
       "education_id        0\n",
       "family_status       0\n",
       "family_status_id    0\n",
       "gender              0\n",
       "income_type         0\n",
       "debt                0\n",
       "total_income        0\n",
       "purpose             0\n",
       "dtype: int64"
      ]
     },
     "execution_count": 17,
     "metadata": {},
     "output_type": "execute_result"
    }
   ],
   "source": [
    "data.isna().sum()"
   ]
  },
  {
   "cell_type": "markdown",
   "id": "7e71456d",
   "metadata": {
    "id": "ddc81e43"
   },
   "source": [
    "### Изменение типов данных"
   ]
  },
  {
   "cell_type": "markdown",
   "id": "d0e8788d",
   "metadata": {
    "id": "42d19d24"
   },
   "source": [
    "**13. Заменим вещественный тип данных в столбце `total_income` на целочисленный с помощью метода `astype()`.**"
   ]
  },
  {
   "cell_type": "code",
   "execution_count": 18,
   "id": "f41f2fac",
   "metadata": {
    "id": "920b65ad"
   },
   "outputs": [],
   "source": [
    "data['total_income'] = data['total_income'].astype(int)"
   ]
  },
  {
   "cell_type": "markdown",
   "id": "ec5499cc",
   "metadata": {
    "id": "80c420ba"
   },
   "source": [
    "### Обработка дубликатов"
   ]
  },
  {
   "cell_type": "markdown",
   "id": "81f9e04c",
   "metadata": {},
   "source": [
    "**14. Обработаем неявные дубликаты в столбце `education`. В этом столбце есть одни и те же значения, но записанные по-разному: с использованием заглавных и строчных букв. Приведем их к нижнему регистру.**"
   ]
  },
  {
   "cell_type": "code",
   "execution_count": 19,
   "id": "a76f90cb",
   "metadata": {
    "deletable": false
   },
   "outputs": [],
   "source": [
    "data['education'] = data['education'].str.lower()"
   ]
  },
  {
   "cell_type": "markdown",
   "id": "12d3bd5f",
   "metadata": {
    "id": "dc587695"
   },
   "source": [
    "**15. Выведем на экран количество строк-дубликатов в данных. Если такие строки присутствуют, удалим их.**"
   ]
  },
  {
   "cell_type": "code",
   "execution_count": 20,
   "id": "4b996bc8",
   "metadata": {
    "id": "3ee445e4",
    "outputId": "9684deba-1934-42d1-99e1-cda61740f822"
   },
   "outputs": [
    {
     "data": {
      "text/plain": [
       "71"
      ]
     },
     "execution_count": 20,
     "metadata": {},
     "output_type": "execute_result"
    }
   ],
   "source": [
    "data.duplicated().sum()"
   ]
  },
  {
   "cell_type": "code",
   "execution_count": 21,
   "id": "01b16896",
   "metadata": {
    "id": "8575fe05"
   },
   "outputs": [],
   "source": [
    "data = data.drop_duplicates()"
   ]
  },
  {
   "cell_type": "markdown",
   "id": "701d332e",
   "metadata": {
    "id": "9904cf55"
   },
   "source": [
    "### Категоризация данных"
   ]
  },
  {
   "cell_type": "markdown",
   "id": "40d1845c",
   "metadata": {
    "id": "72fcc8a2"
   },
   "source": [
    "**16. На основании диапазонов, указанных ниже, создадим в датафрейме `data` столбец `total_income_category` с категориями:**\n",
    "\n",
    "- 0–30000 — `'E'`;\n",
    "- 30001–50000 — `'D'`;\n",
    "- 50001–200000 — `'C'`;\n",
    "- 200001–1000000 — `'B'`;\n",
    "- 1000001 и выше — `'A'`.\n",
    "\n",
    "\n",
    "**Например, кредитополучателю с доходом 25000 назначим категорию `'E'`, а клиенту, получающему 235000, — `'B'`.**"
   ]
  },
  {
   "cell_type": "code",
   "execution_count": 22,
   "id": "d478825a",
   "metadata": {
    "id": "e1771346"
   },
   "outputs": [],
   "source": [
    "def categorize_income(income):\n",
    "    try:\n",
    "        if 0 <= income <= 30000:\n",
    "            return 'E'\n",
    "        elif 30001 <= income <= 50000:\n",
    "            return 'D'\n",
    "        elif 50001 <= income <= 200000:\n",
    "            return 'C'\n",
    "        elif 200001 <= income <= 1000000:\n",
    "            return 'B'\n",
    "        elif income >= 1000001:\n",
    "            return 'A'\n",
    "    except:\n",
    "        pass"
   ]
  },
  {
   "cell_type": "code",
   "execution_count": 23,
   "id": "39c1dfaa",
   "metadata": {
    "id": "d5f3586d"
   },
   "outputs": [],
   "source": [
    "data['total_income_category'] = data['total_income'].apply(categorize_income)"
   ]
  },
  {
   "cell_type": "markdown",
   "id": "7c3c53f2",
   "metadata": {
    "id": "dde49b5c"
   },
   "source": [
    "**17. Выведем на экран перечень уникальных целей взятия кредита из столбца `purpose`.**"
   ]
  },
  {
   "cell_type": "code",
   "execution_count": 24,
   "id": "6a28c1b4",
   "metadata": {
    "id": "f67ce9b3",
    "outputId": "673c12d9-7d7e-4ae0-9812-c622c89dd244"
   },
   "outputs": [
    {
     "data": {
      "text/plain": [
       "array(['покупка жилья', 'приобретение автомобиля',\n",
       "       'дополнительное образование', 'сыграть свадьбу',\n",
       "       'операции с жильем', 'образование', 'на проведение свадьбы',\n",
       "       'покупка жилья для семьи', 'покупка недвижимости',\n",
       "       'покупка коммерческой недвижимости', 'покупка жилой недвижимости',\n",
       "       'строительство собственной недвижимости', 'недвижимость',\n",
       "       'строительство недвижимости', 'на покупку подержанного автомобиля',\n",
       "       'на покупку своего автомобиля',\n",
       "       'операции с коммерческой недвижимостью',\n",
       "       'строительство жилой недвижимости', 'жилье',\n",
       "       'операции со своей недвижимостью', 'автомобили',\n",
       "       'заняться образованием', 'сделка с подержанным автомобилем',\n",
       "       'получение образования', 'автомобиль', 'свадьба',\n",
       "       'получение дополнительного образования', 'покупка своего жилья',\n",
       "       'операции с недвижимостью', 'получение высшего образования',\n",
       "       'свой автомобиль', 'сделка с автомобилем',\n",
       "       'профильное образование', 'высшее образование',\n",
       "       'покупка жилья для сдачи', 'на покупку автомобиля', 'ремонт жилью',\n",
       "       'заняться высшим образованием'], dtype=object)"
      ]
     },
     "execution_count": 24,
     "metadata": {},
     "output_type": "execute_result"
    }
   ],
   "source": [
    "data['purpose'].unique()"
   ]
  },
  {
   "cell_type": "markdown",
   "id": "ef5a6025",
   "metadata": {
    "id": "85d0aef0"
   },
   "source": [
    "**18. Создадим функцию, которая на основании данных из столбца `purpose` сформирует новый столбец `purpose_category`, в который войдут следующие категории:**\n",
    "\n",
    "- `'операции с автомобилем'`,\n",
    "- `'операции с недвижимостью'`,\n",
    "- `'проведение свадьбы'`,\n",
    "- `'получение образования'`.\n",
    "\n",
    "**Например, если в столбце `purpose` находится подстрока `'на покупку автомобиля'`, то в столбце `purpose_category` появится строка `'операции с автомобилем'`.**"
   ]
  },
  {
   "cell_type": "code",
   "execution_count": 29,
   "id": "e6dcc4a2",
   "metadata": {},
   "outputs": [],
   "source": [
    "def categorize_purpose(row):\n",
    "    try:\n",
    "        if 'автом' in row:\n",
    "            return 'операции с автомобилем'\n",
    "        elif 'жил' in row or 'недвиж' in row:\n",
    "            return 'операции с недвижимостью'\n",
    "        elif 'свад' in row:\n",
    "            return 'проведение свадьбы'\n",
    "        elif 'образов' in row:\n",
    "            return 'получение образования'\n",
    "    except:\n",
    "        return 'нет категории'"
   ]
  },
  {
   "cell_type": "code",
   "execution_count": 30,
   "id": "081e4fc4",
   "metadata": {
    "id": "bf36e69b"
   },
   "outputs": [],
   "source": [
    "data['purpose_category'] = data['purpose'].apply(categorize_purpose)"
   ]
  },
  {
   "cell_type": "code",
   "execution_count": null,
   "id": "4dfbc216",
   "metadata": {
    "scrolled": true
   },
   "outputs": [],
   "source": [
    "data['purpose_category']"
   ]
  },
  {
   "cell_type": "markdown",
   "id": "9a18c9fb",
   "metadata": {
    "id": "09b242bf"
   },
   "source": [
    "### Шаг 3. Исследование данных"
   ]
  },
  {
   "cell_type": "code",
   "execution_count": null,
   "id": "89df800c",
   "metadata": {
    "scrolled": true
   },
   "outputs": [],
   "source": [
    "def pivot(data, index):\n",
    "    pivot = data.pivot_table(index = index, values = 'debt', aggfunc = ['count', 'sum', 'mean']).reset_index()\n",
    "    pivot.columns = [index, 'Кол-во клиентов', 'Кол-во должников', 'Доля невозврата']\n",
    "    display(pivot.sort_values('Доля невозврата', ascending = False))\n",
    "    \n",
    "    fig = px.bar(pivot, x = index, y = 'Доля невозврата', color = 'Доля невозврата', title = 'Доля невозврата по ' + index)\n",
    "    fig.show()\n",
    "\n",
    "pivot(data, 'children')"
   ]
  },
  {
   "cell_type": "markdown",
   "id": "76c06c43",
   "metadata": {
    "id": "c5d66278"
   },
   "source": [
    "#### 3.1 Есть ли зависимость между количеством детей и возвратом кредита в срок?"
   ]
  },
  {
   "cell_type": "markdown",
   "id": "a9a37046",
   "metadata": {},
   "source": [
    "Чтобы многократно не писать код с разным количеством условий пройдемся циклом по всем уникальным значениям столбца children и поделим количество тех, у кого нет долгов на тех, у кого они есть. Таким образом получим процентый показатель (применив f строки)"
   ]
  },
  {
   "cell_type": "code",
   "execution_count": null,
   "id": "263f9181",
   "metadata": {
    "id": "2cacfc4a",
    "scrolled": false
   },
   "outputs": [],
   "source": [
    "data = data.rename(columns = {'debt': 'Доля должников, %', \\\n",
    "                              'children': 'Кол-во детей', \\\n",
    "                              'family_status': 'Семейное положение', \\\n",
    "                              'total_income_category': 'Категория дохода', \\\n",
    "                              'purpose_category': 'Цель кредита'})\n",
    "\n",
    "def debt_ratio(data, index):\n",
    "    pivot = data.pivot_table(index = index, values = 'Доля должников, %', aggfunc = ['count', 'sum', 'mean']).reset_index()\n",
    "    pivot.columns = [index, 'Кол-во клиентов', 'Кол-во должников', 'Доля невозврата, %']\n",
    "    pivot['Доля невозврата, %'] = (pivot['Доля невозврата, %'] * 100).round(decimals=2)\n",
    "    display(pivot.sort_values('Доля невозврата, %', ascending = False))\n",
    "    \n",
    "    fig = px.bar(pivot, x = index, y = 'Доля невозврата, %', color = 'Доля невозврата, %', title = 'Доля невозврата по ' + index)\n",
    "    fig.show()\n",
    "    \n",
    "debt_ratio(data, 'Кол-во детей') # применяем функцию, передав в качестве аргумента нужный датафрейм и название столбца"
   ]
  },
  {
   "cell_type": "markdown",
   "id": "7134da38",
   "metadata": {},
   "source": [
    "**Проверим по какой причине процент должников, у которых 5 детей так низок**"
   ]
  },
  {
   "cell_type": "code",
   "execution_count": 26,
   "id": "9e68ea0a",
   "metadata": {},
   "outputs": [
    {
     "name": "stdout",
     "output_type": "stream",
     "text": [
      "0 9\n"
     ]
    }
   ],
   "source": [
    "debt_5 = data.loc[(data['Кол-во детей'] == 5) & (data['Доля должников, %'] == 1)]['Кол-во детей'].count() \n",
    "no_debt_5 = data.loc[(data['Кол-во детей'] == 5) & (data['Доля должников, %'] == 0)]['Кол-во детей'].count()\n",
    "print(debt_5, no_debt_5)"
   ]
  },
  {
   "cell_type": "markdown",
   "id": "9f542cc2",
   "metadata": {
    "id": "3a6b99ec"
   },
   "source": [
    "**Вывод:** "
   ]
  },
  {
   "cell_type": "markdown",
   "id": "3f38af24",
   "metadata": {},
   "source": [
    "Среди людей без детей наблюдается наименьший процент должников, что может охрарактеризовать эту категорию как наиболее ответственных заемщиков. Причина нулевого процента должников среди тех, у кого 5 детей же скорее из-за того, что в выборке по фильтру `data.loc[(data['children'] == 5]` всего 9 наблюдений, 0 из которых имеют долги. "
   ]
  },
  {
   "cell_type": "markdown",
   "id": "071b3b08",
   "metadata": {
    "id": "97be82ca"
   },
   "source": [
    "#### 3.2 Есть ли зависимость между семейным положением и возвратом кредита в срок?"
   ]
  },
  {
   "cell_type": "code",
   "execution_count": 27,
   "id": "df774bdc",
   "metadata": {
    "id": "dc3f7ee8",
    "scrolled": false
   },
   "outputs": [
    {
     "data": {
      "text/html": [
       "<div>\n",
       "<style scoped>\n",
       "    .dataframe tbody tr th:only-of-type {\n",
       "        vertical-align: middle;\n",
       "    }\n",
       "\n",
       "    .dataframe tbody tr th {\n",
       "        vertical-align: top;\n",
       "    }\n",
       "\n",
       "    .dataframe thead th {\n",
       "        text-align: right;\n",
       "    }\n",
       "</style>\n",
       "<table border=\"1\" class=\"dataframe\">\n",
       "  <thead>\n",
       "    <tr style=\"text-align: right;\">\n",
       "      <th></th>\n",
       "      <th>Семейное положение</th>\n",
       "      <th>Кол-во клиентов</th>\n",
       "      <th>Кол-во должников</th>\n",
       "      <th>Доля невозврата, %</th>\n",
       "    </tr>\n",
       "  </thead>\n",
       "  <tbody>\n",
       "    <tr>\n",
       "      <th>0</th>\n",
       "      <td>Не женат / не замужем</td>\n",
       "      <td>2796</td>\n",
       "      <td>273</td>\n",
       "      <td>9.76</td>\n",
       "    </tr>\n",
       "    <tr>\n",
       "      <th>3</th>\n",
       "      <td>гражданский брак</td>\n",
       "      <td>4134</td>\n",
       "      <td>385</td>\n",
       "      <td>9.31</td>\n",
       "    </tr>\n",
       "    <tr>\n",
       "      <th>4</th>\n",
       "      <td>женат / замужем</td>\n",
       "      <td>12261</td>\n",
       "      <td>927</td>\n",
       "      <td>7.56</td>\n",
       "    </tr>\n",
       "    <tr>\n",
       "      <th>1</th>\n",
       "      <td>в разводе</td>\n",
       "      <td>1189</td>\n",
       "      <td>84</td>\n",
       "      <td>7.06</td>\n",
       "    </tr>\n",
       "    <tr>\n",
       "      <th>2</th>\n",
       "      <td>вдовец / вдова</td>\n",
       "      <td>951</td>\n",
       "      <td>63</td>\n",
       "      <td>6.62</td>\n",
       "    </tr>\n",
       "  </tbody>\n",
       "</table>\n",
       "</div>"
      ],
      "text/plain": [
       "      Семейное положение  Кол-во клиентов  Кол-во должников  \\\n",
       "0  Не женат / не замужем             2796               273   \n",
       "3       гражданский брак             4134               385   \n",
       "4        женат / замужем            12261               927   \n",
       "1              в разводе             1189                84   \n",
       "2         вдовец / вдова              951                63   \n",
       "\n",
       "   Доля невозврата, %  \n",
       "0                9.76  \n",
       "3                9.31  \n",
       "4                7.56  \n",
       "1                7.06  \n",
       "2                6.62  "
      ]
     },
     "metadata": {},
     "output_type": "display_data"
    },
    {
     "data": {
      "application/vnd.plotly.v1+json": {
       "config": {
        "plotlyServerURL": "https://plot.ly"
       },
       "data": [
        {
         "alignmentgroup": "True",
         "hovertemplate": "Семейное положение=%{x}<br>Доля невозврата, %=%{marker.color}<extra></extra>",
         "legendgroup": "",
         "marker": {
          "color": [
           9.76,
           7.06,
           6.62,
           9.31,
           7.56
          ],
          "coloraxis": "coloraxis",
          "pattern": {
           "shape": ""
          }
         },
         "name": "",
         "offsetgroup": "",
         "orientation": "v",
         "showlegend": false,
         "textposition": "auto",
         "type": "bar",
         "x": [
          "Не женат / не замужем",
          "в разводе",
          "вдовец / вдова",
          "гражданский брак",
          "женат / замужем"
         ],
         "xaxis": "x",
         "y": [
          9.76,
          7.06,
          6.62,
          9.31,
          7.56
         ],
         "yaxis": "y"
        }
       ],
       "layout": {
        "barmode": "relative",
        "coloraxis": {
         "colorbar": {
          "title": {
           "text": "Доля невозврата, %"
          }
         },
         "colorscale": [
          [
           0,
           "#0d0887"
          ],
          [
           0.1111111111111111,
           "#46039f"
          ],
          [
           0.2222222222222222,
           "#7201a8"
          ],
          [
           0.3333333333333333,
           "#9c179e"
          ],
          [
           0.4444444444444444,
           "#bd3786"
          ],
          [
           0.5555555555555556,
           "#d8576b"
          ],
          [
           0.6666666666666666,
           "#ed7953"
          ],
          [
           0.7777777777777778,
           "#fb9f3a"
          ],
          [
           0.8888888888888888,
           "#fdca26"
          ],
          [
           1,
           "#f0f921"
          ]
         ]
        },
        "legend": {
         "tracegroupgap": 0
        },
        "template": {
         "data": {
          "bar": [
           {
            "error_x": {
             "color": "#2a3f5f"
            },
            "error_y": {
             "color": "#2a3f5f"
            },
            "marker": {
             "line": {
              "color": "#E5ECF6",
              "width": 0.5
             },
             "pattern": {
              "fillmode": "overlay",
              "size": 10,
              "solidity": 0.2
             }
            },
            "type": "bar"
           }
          ],
          "barpolar": [
           {
            "marker": {
             "line": {
              "color": "#E5ECF6",
              "width": 0.5
             },
             "pattern": {
              "fillmode": "overlay",
              "size": 10,
              "solidity": 0.2
             }
            },
            "type": "barpolar"
           }
          ],
          "carpet": [
           {
            "aaxis": {
             "endlinecolor": "#2a3f5f",
             "gridcolor": "white",
             "linecolor": "white",
             "minorgridcolor": "white",
             "startlinecolor": "#2a3f5f"
            },
            "baxis": {
             "endlinecolor": "#2a3f5f",
             "gridcolor": "white",
             "linecolor": "white",
             "minorgridcolor": "white",
             "startlinecolor": "#2a3f5f"
            },
            "type": "carpet"
           }
          ],
          "choropleth": [
           {
            "colorbar": {
             "outlinewidth": 0,
             "ticks": ""
            },
            "type": "choropleth"
           }
          ],
          "contour": [
           {
            "colorbar": {
             "outlinewidth": 0,
             "ticks": ""
            },
            "colorscale": [
             [
              0,
              "#0d0887"
             ],
             [
              0.1111111111111111,
              "#46039f"
             ],
             [
              0.2222222222222222,
              "#7201a8"
             ],
             [
              0.3333333333333333,
              "#9c179e"
             ],
             [
              0.4444444444444444,
              "#bd3786"
             ],
             [
              0.5555555555555556,
              "#d8576b"
             ],
             [
              0.6666666666666666,
              "#ed7953"
             ],
             [
              0.7777777777777778,
              "#fb9f3a"
             ],
             [
              0.8888888888888888,
              "#fdca26"
             ],
             [
              1,
              "#f0f921"
             ]
            ],
            "type": "contour"
           }
          ],
          "contourcarpet": [
           {
            "colorbar": {
             "outlinewidth": 0,
             "ticks": ""
            },
            "type": "contourcarpet"
           }
          ],
          "heatmap": [
           {
            "colorbar": {
             "outlinewidth": 0,
             "ticks": ""
            },
            "colorscale": [
             [
              0,
              "#0d0887"
             ],
             [
              0.1111111111111111,
              "#46039f"
             ],
             [
              0.2222222222222222,
              "#7201a8"
             ],
             [
              0.3333333333333333,
              "#9c179e"
             ],
             [
              0.4444444444444444,
              "#bd3786"
             ],
             [
              0.5555555555555556,
              "#d8576b"
             ],
             [
              0.6666666666666666,
              "#ed7953"
             ],
             [
              0.7777777777777778,
              "#fb9f3a"
             ],
             [
              0.8888888888888888,
              "#fdca26"
             ],
             [
              1,
              "#f0f921"
             ]
            ],
            "type": "heatmap"
           }
          ],
          "heatmapgl": [
           {
            "colorbar": {
             "outlinewidth": 0,
             "ticks": ""
            },
            "colorscale": [
             [
              0,
              "#0d0887"
             ],
             [
              0.1111111111111111,
              "#46039f"
             ],
             [
              0.2222222222222222,
              "#7201a8"
             ],
             [
              0.3333333333333333,
              "#9c179e"
             ],
             [
              0.4444444444444444,
              "#bd3786"
             ],
             [
              0.5555555555555556,
              "#d8576b"
             ],
             [
              0.6666666666666666,
              "#ed7953"
             ],
             [
              0.7777777777777778,
              "#fb9f3a"
             ],
             [
              0.8888888888888888,
              "#fdca26"
             ],
             [
              1,
              "#f0f921"
             ]
            ],
            "type": "heatmapgl"
           }
          ],
          "histogram": [
           {
            "marker": {
             "pattern": {
              "fillmode": "overlay",
              "size": 10,
              "solidity": 0.2
             }
            },
            "type": "histogram"
           }
          ],
          "histogram2d": [
           {
            "colorbar": {
             "outlinewidth": 0,
             "ticks": ""
            },
            "colorscale": [
             [
              0,
              "#0d0887"
             ],
             [
              0.1111111111111111,
              "#46039f"
             ],
             [
              0.2222222222222222,
              "#7201a8"
             ],
             [
              0.3333333333333333,
              "#9c179e"
             ],
             [
              0.4444444444444444,
              "#bd3786"
             ],
             [
              0.5555555555555556,
              "#d8576b"
             ],
             [
              0.6666666666666666,
              "#ed7953"
             ],
             [
              0.7777777777777778,
              "#fb9f3a"
             ],
             [
              0.8888888888888888,
              "#fdca26"
             ],
             [
              1,
              "#f0f921"
             ]
            ],
            "type": "histogram2d"
           }
          ],
          "histogram2dcontour": [
           {
            "colorbar": {
             "outlinewidth": 0,
             "ticks": ""
            },
            "colorscale": [
             [
              0,
              "#0d0887"
             ],
             [
              0.1111111111111111,
              "#46039f"
             ],
             [
              0.2222222222222222,
              "#7201a8"
             ],
             [
              0.3333333333333333,
              "#9c179e"
             ],
             [
              0.4444444444444444,
              "#bd3786"
             ],
             [
              0.5555555555555556,
              "#d8576b"
             ],
             [
              0.6666666666666666,
              "#ed7953"
             ],
             [
              0.7777777777777778,
              "#fb9f3a"
             ],
             [
              0.8888888888888888,
              "#fdca26"
             ],
             [
              1,
              "#f0f921"
             ]
            ],
            "type": "histogram2dcontour"
           }
          ],
          "mesh3d": [
           {
            "colorbar": {
             "outlinewidth": 0,
             "ticks": ""
            },
            "type": "mesh3d"
           }
          ],
          "parcoords": [
           {
            "line": {
             "colorbar": {
              "outlinewidth": 0,
              "ticks": ""
             }
            },
            "type": "parcoords"
           }
          ],
          "pie": [
           {
            "automargin": true,
            "type": "pie"
           }
          ],
          "scatter": [
           {
            "marker": {
             "colorbar": {
              "outlinewidth": 0,
              "ticks": ""
             }
            },
            "type": "scatter"
           }
          ],
          "scatter3d": [
           {
            "line": {
             "colorbar": {
              "outlinewidth": 0,
              "ticks": ""
             }
            },
            "marker": {
             "colorbar": {
              "outlinewidth": 0,
              "ticks": ""
             }
            },
            "type": "scatter3d"
           }
          ],
          "scattercarpet": [
           {
            "marker": {
             "colorbar": {
              "outlinewidth": 0,
              "ticks": ""
             }
            },
            "type": "scattercarpet"
           }
          ],
          "scattergeo": [
           {
            "marker": {
             "colorbar": {
              "outlinewidth": 0,
              "ticks": ""
             }
            },
            "type": "scattergeo"
           }
          ],
          "scattergl": [
           {
            "marker": {
             "colorbar": {
              "outlinewidth": 0,
              "ticks": ""
             }
            },
            "type": "scattergl"
           }
          ],
          "scattermapbox": [
           {
            "marker": {
             "colorbar": {
              "outlinewidth": 0,
              "ticks": ""
             }
            },
            "type": "scattermapbox"
           }
          ],
          "scatterpolar": [
           {
            "marker": {
             "colorbar": {
              "outlinewidth": 0,
              "ticks": ""
             }
            },
            "type": "scatterpolar"
           }
          ],
          "scatterpolargl": [
           {
            "marker": {
             "colorbar": {
              "outlinewidth": 0,
              "ticks": ""
             }
            },
            "type": "scatterpolargl"
           }
          ],
          "scatterternary": [
           {
            "marker": {
             "colorbar": {
              "outlinewidth": 0,
              "ticks": ""
             }
            },
            "type": "scatterternary"
           }
          ],
          "surface": [
           {
            "colorbar": {
             "outlinewidth": 0,
             "ticks": ""
            },
            "colorscale": [
             [
              0,
              "#0d0887"
             ],
             [
              0.1111111111111111,
              "#46039f"
             ],
             [
              0.2222222222222222,
              "#7201a8"
             ],
             [
              0.3333333333333333,
              "#9c179e"
             ],
             [
              0.4444444444444444,
              "#bd3786"
             ],
             [
              0.5555555555555556,
              "#d8576b"
             ],
             [
              0.6666666666666666,
              "#ed7953"
             ],
             [
              0.7777777777777778,
              "#fb9f3a"
             ],
             [
              0.8888888888888888,
              "#fdca26"
             ],
             [
              1,
              "#f0f921"
             ]
            ],
            "type": "surface"
           }
          ],
          "table": [
           {
            "cells": {
             "fill": {
              "color": "#EBF0F8"
             },
             "line": {
              "color": "white"
             }
            },
            "header": {
             "fill": {
              "color": "#C8D4E3"
             },
             "line": {
              "color": "white"
             }
            },
            "type": "table"
           }
          ]
         },
         "layout": {
          "annotationdefaults": {
           "arrowcolor": "#2a3f5f",
           "arrowhead": 0,
           "arrowwidth": 1
          },
          "autotypenumbers": "strict",
          "coloraxis": {
           "colorbar": {
            "outlinewidth": 0,
            "ticks": ""
           }
          },
          "colorscale": {
           "diverging": [
            [
             0,
             "#8e0152"
            ],
            [
             0.1,
             "#c51b7d"
            ],
            [
             0.2,
             "#de77ae"
            ],
            [
             0.3,
             "#f1b6da"
            ],
            [
             0.4,
             "#fde0ef"
            ],
            [
             0.5,
             "#f7f7f7"
            ],
            [
             0.6,
             "#e6f5d0"
            ],
            [
             0.7,
             "#b8e186"
            ],
            [
             0.8,
             "#7fbc41"
            ],
            [
             0.9,
             "#4d9221"
            ],
            [
             1,
             "#276419"
            ]
           ],
           "sequential": [
            [
             0,
             "#0d0887"
            ],
            [
             0.1111111111111111,
             "#46039f"
            ],
            [
             0.2222222222222222,
             "#7201a8"
            ],
            [
             0.3333333333333333,
             "#9c179e"
            ],
            [
             0.4444444444444444,
             "#bd3786"
            ],
            [
             0.5555555555555556,
             "#d8576b"
            ],
            [
             0.6666666666666666,
             "#ed7953"
            ],
            [
             0.7777777777777778,
             "#fb9f3a"
            ],
            [
             0.8888888888888888,
             "#fdca26"
            ],
            [
             1,
             "#f0f921"
            ]
           ],
           "sequentialminus": [
            [
             0,
             "#0d0887"
            ],
            [
             0.1111111111111111,
             "#46039f"
            ],
            [
             0.2222222222222222,
             "#7201a8"
            ],
            [
             0.3333333333333333,
             "#9c179e"
            ],
            [
             0.4444444444444444,
             "#bd3786"
            ],
            [
             0.5555555555555556,
             "#d8576b"
            ],
            [
             0.6666666666666666,
             "#ed7953"
            ],
            [
             0.7777777777777778,
             "#fb9f3a"
            ],
            [
             0.8888888888888888,
             "#fdca26"
            ],
            [
             1,
             "#f0f921"
            ]
           ]
          },
          "colorway": [
           "#636efa",
           "#EF553B",
           "#00cc96",
           "#ab63fa",
           "#FFA15A",
           "#19d3f3",
           "#FF6692",
           "#B6E880",
           "#FF97FF",
           "#FECB52"
          ],
          "font": {
           "color": "#2a3f5f"
          },
          "geo": {
           "bgcolor": "white",
           "lakecolor": "white",
           "landcolor": "#E5ECF6",
           "showlakes": true,
           "showland": true,
           "subunitcolor": "white"
          },
          "hoverlabel": {
           "align": "left"
          },
          "hovermode": "closest",
          "mapbox": {
           "style": "light"
          },
          "paper_bgcolor": "white",
          "plot_bgcolor": "#E5ECF6",
          "polar": {
           "angularaxis": {
            "gridcolor": "white",
            "linecolor": "white",
            "ticks": ""
           },
           "bgcolor": "#E5ECF6",
           "radialaxis": {
            "gridcolor": "white",
            "linecolor": "white",
            "ticks": ""
           }
          },
          "scene": {
           "xaxis": {
            "backgroundcolor": "#E5ECF6",
            "gridcolor": "white",
            "gridwidth": 2,
            "linecolor": "white",
            "showbackground": true,
            "ticks": "",
            "zerolinecolor": "white"
           },
           "yaxis": {
            "backgroundcolor": "#E5ECF6",
            "gridcolor": "white",
            "gridwidth": 2,
            "linecolor": "white",
            "showbackground": true,
            "ticks": "",
            "zerolinecolor": "white"
           },
           "zaxis": {
            "backgroundcolor": "#E5ECF6",
            "gridcolor": "white",
            "gridwidth": 2,
            "linecolor": "white",
            "showbackground": true,
            "ticks": "",
            "zerolinecolor": "white"
           }
          },
          "shapedefaults": {
           "line": {
            "color": "#2a3f5f"
           }
          },
          "ternary": {
           "aaxis": {
            "gridcolor": "white",
            "linecolor": "white",
            "ticks": ""
           },
           "baxis": {
            "gridcolor": "white",
            "linecolor": "white",
            "ticks": ""
           },
           "bgcolor": "#E5ECF6",
           "caxis": {
            "gridcolor": "white",
            "linecolor": "white",
            "ticks": ""
           }
          },
          "title": {
           "x": 0.05
          },
          "xaxis": {
           "automargin": true,
           "gridcolor": "white",
           "linecolor": "white",
           "ticks": "",
           "title": {
            "standoff": 15
           },
           "zerolinecolor": "white",
           "zerolinewidth": 2
          },
          "yaxis": {
           "automargin": true,
           "gridcolor": "white",
           "linecolor": "white",
           "ticks": "",
           "title": {
            "standoff": 15
           },
           "zerolinecolor": "white",
           "zerolinewidth": 2
          }
         }
        },
        "title": {
         "text": "Доля невозврата по Семейное положение"
        },
        "xaxis": {
         "anchor": "y",
         "domain": [
          0,
          1
         ],
         "title": {
          "text": "Семейное положение"
         }
        },
        "yaxis": {
         "anchor": "x",
         "domain": [
          0,
          1
         ],
         "title": {
          "text": "Доля невозврата, %"
         }
        }
       }
      },
      "text/html": [
       "<div>                            <div id=\"f3767c5e-e1ca-4092-8928-b338540b7602\" class=\"plotly-graph-div\" style=\"height:525px; width:100%;\"></div>            <script type=\"text/javascript\">                require([\"plotly\"], function(Plotly) {                    window.PLOTLYENV=window.PLOTLYENV || {};                                    if (document.getElementById(\"f3767c5e-e1ca-4092-8928-b338540b7602\")) {                    Plotly.newPlot(                        \"f3767c5e-e1ca-4092-8928-b338540b7602\",                        [{\"alignmentgroup\":\"True\",\"hovertemplate\":\"\\u0421\\u0435\\u043c\\u0435\\u0439\\u043d\\u043e\\u0435 \\u043f\\u043e\\u043b\\u043e\\u0436\\u0435\\u043d\\u0438\\u0435=%{x}<br>\\u0414\\u043e\\u043b\\u044f \\u043d\\u0435\\u0432\\u043e\\u0437\\u0432\\u0440\\u0430\\u0442\\u0430, %=%{marker.color}<extra></extra>\",\"legendgroup\":\"\",\"marker\":{\"color\":[9.76,7.06,6.62,9.31,7.56],\"coloraxis\":\"coloraxis\",\"pattern\":{\"shape\":\"\"}},\"name\":\"\",\"offsetgroup\":\"\",\"orientation\":\"v\",\"showlegend\":false,\"textposition\":\"auto\",\"x\":[\"\\u041d\\u0435 \\u0436\\u0435\\u043d\\u0430\\u0442 / \\u043d\\u0435 \\u0437\\u0430\\u043c\\u0443\\u0436\\u0435\\u043c\",\"\\u0432 \\u0440\\u0430\\u0437\\u0432\\u043e\\u0434\\u0435\",\"\\u0432\\u0434\\u043e\\u0432\\u0435\\u0446 / \\u0432\\u0434\\u043e\\u0432\\u0430\",\"\\u0433\\u0440\\u0430\\u0436\\u0434\\u0430\\u043d\\u0441\\u043a\\u0438\\u0439 \\u0431\\u0440\\u0430\\u043a\",\"\\u0436\\u0435\\u043d\\u0430\\u0442 / \\u0437\\u0430\\u043c\\u0443\\u0436\\u0435\\u043c\"],\"xaxis\":\"x\",\"y\":[9.76,7.06,6.62,9.31,7.56],\"yaxis\":\"y\",\"type\":\"bar\"}],                        {\"template\":{\"data\":{\"bar\":[{\"error_x\":{\"color\":\"#2a3f5f\"},\"error_y\":{\"color\":\"#2a3f5f\"},\"marker\":{\"line\":{\"color\":\"#E5ECF6\",\"width\":0.5},\"pattern\":{\"fillmode\":\"overlay\",\"size\":10,\"solidity\":0.2}},\"type\":\"bar\"}],\"barpolar\":[{\"marker\":{\"line\":{\"color\":\"#E5ECF6\",\"width\":0.5},\"pattern\":{\"fillmode\":\"overlay\",\"size\":10,\"solidity\":0.2}},\"type\":\"barpolar\"}],\"carpet\":[{\"aaxis\":{\"endlinecolor\":\"#2a3f5f\",\"gridcolor\":\"white\",\"linecolor\":\"white\",\"minorgridcolor\":\"white\",\"startlinecolor\":\"#2a3f5f\"},\"baxis\":{\"endlinecolor\":\"#2a3f5f\",\"gridcolor\":\"white\",\"linecolor\":\"white\",\"minorgridcolor\":\"white\",\"startlinecolor\":\"#2a3f5f\"},\"type\":\"carpet\"}],\"choropleth\":[{\"colorbar\":{\"outlinewidth\":0,\"ticks\":\"\"},\"type\":\"choropleth\"}],\"contour\":[{\"colorbar\":{\"outlinewidth\":0,\"ticks\":\"\"},\"colorscale\":[[0.0,\"#0d0887\"],[0.1111111111111111,\"#46039f\"],[0.2222222222222222,\"#7201a8\"],[0.3333333333333333,\"#9c179e\"],[0.4444444444444444,\"#bd3786\"],[0.5555555555555556,\"#d8576b\"],[0.6666666666666666,\"#ed7953\"],[0.7777777777777778,\"#fb9f3a\"],[0.8888888888888888,\"#fdca26\"],[1.0,\"#f0f921\"]],\"type\":\"contour\"}],\"contourcarpet\":[{\"colorbar\":{\"outlinewidth\":0,\"ticks\":\"\"},\"type\":\"contourcarpet\"}],\"heatmap\":[{\"colorbar\":{\"outlinewidth\":0,\"ticks\":\"\"},\"colorscale\":[[0.0,\"#0d0887\"],[0.1111111111111111,\"#46039f\"],[0.2222222222222222,\"#7201a8\"],[0.3333333333333333,\"#9c179e\"],[0.4444444444444444,\"#bd3786\"],[0.5555555555555556,\"#d8576b\"],[0.6666666666666666,\"#ed7953\"],[0.7777777777777778,\"#fb9f3a\"],[0.8888888888888888,\"#fdca26\"],[1.0,\"#f0f921\"]],\"type\":\"heatmap\"}],\"heatmapgl\":[{\"colorbar\":{\"outlinewidth\":0,\"ticks\":\"\"},\"colorscale\":[[0.0,\"#0d0887\"],[0.1111111111111111,\"#46039f\"],[0.2222222222222222,\"#7201a8\"],[0.3333333333333333,\"#9c179e\"],[0.4444444444444444,\"#bd3786\"],[0.5555555555555556,\"#d8576b\"],[0.6666666666666666,\"#ed7953\"],[0.7777777777777778,\"#fb9f3a\"],[0.8888888888888888,\"#fdca26\"],[1.0,\"#f0f921\"]],\"type\":\"heatmapgl\"}],\"histogram\":[{\"marker\":{\"pattern\":{\"fillmode\":\"overlay\",\"size\":10,\"solidity\":0.2}},\"type\":\"histogram\"}],\"histogram2d\":[{\"colorbar\":{\"outlinewidth\":0,\"ticks\":\"\"},\"colorscale\":[[0.0,\"#0d0887\"],[0.1111111111111111,\"#46039f\"],[0.2222222222222222,\"#7201a8\"],[0.3333333333333333,\"#9c179e\"],[0.4444444444444444,\"#bd3786\"],[0.5555555555555556,\"#d8576b\"],[0.6666666666666666,\"#ed7953\"],[0.7777777777777778,\"#fb9f3a\"],[0.8888888888888888,\"#fdca26\"],[1.0,\"#f0f921\"]],\"type\":\"histogram2d\"}],\"histogram2dcontour\":[{\"colorbar\":{\"outlinewidth\":0,\"ticks\":\"\"},\"colorscale\":[[0.0,\"#0d0887\"],[0.1111111111111111,\"#46039f\"],[0.2222222222222222,\"#7201a8\"],[0.3333333333333333,\"#9c179e\"],[0.4444444444444444,\"#bd3786\"],[0.5555555555555556,\"#d8576b\"],[0.6666666666666666,\"#ed7953\"],[0.7777777777777778,\"#fb9f3a\"],[0.8888888888888888,\"#fdca26\"],[1.0,\"#f0f921\"]],\"type\":\"histogram2dcontour\"}],\"mesh3d\":[{\"colorbar\":{\"outlinewidth\":0,\"ticks\":\"\"},\"type\":\"mesh3d\"}],\"parcoords\":[{\"line\":{\"colorbar\":{\"outlinewidth\":0,\"ticks\":\"\"}},\"type\":\"parcoords\"}],\"pie\":[{\"automargin\":true,\"type\":\"pie\"}],\"scatter\":[{\"marker\":{\"colorbar\":{\"outlinewidth\":0,\"ticks\":\"\"}},\"type\":\"scatter\"}],\"scatter3d\":[{\"line\":{\"colorbar\":{\"outlinewidth\":0,\"ticks\":\"\"}},\"marker\":{\"colorbar\":{\"outlinewidth\":0,\"ticks\":\"\"}},\"type\":\"scatter3d\"}],\"scattercarpet\":[{\"marker\":{\"colorbar\":{\"outlinewidth\":0,\"ticks\":\"\"}},\"type\":\"scattercarpet\"}],\"scattergeo\":[{\"marker\":{\"colorbar\":{\"outlinewidth\":0,\"ticks\":\"\"}},\"type\":\"scattergeo\"}],\"scattergl\":[{\"marker\":{\"colorbar\":{\"outlinewidth\":0,\"ticks\":\"\"}},\"type\":\"scattergl\"}],\"scattermapbox\":[{\"marker\":{\"colorbar\":{\"outlinewidth\":0,\"ticks\":\"\"}},\"type\":\"scattermapbox\"}],\"scatterpolar\":[{\"marker\":{\"colorbar\":{\"outlinewidth\":0,\"ticks\":\"\"}},\"type\":\"scatterpolar\"}],\"scatterpolargl\":[{\"marker\":{\"colorbar\":{\"outlinewidth\":0,\"ticks\":\"\"}},\"type\":\"scatterpolargl\"}],\"scatterternary\":[{\"marker\":{\"colorbar\":{\"outlinewidth\":0,\"ticks\":\"\"}},\"type\":\"scatterternary\"}],\"surface\":[{\"colorbar\":{\"outlinewidth\":0,\"ticks\":\"\"},\"colorscale\":[[0.0,\"#0d0887\"],[0.1111111111111111,\"#46039f\"],[0.2222222222222222,\"#7201a8\"],[0.3333333333333333,\"#9c179e\"],[0.4444444444444444,\"#bd3786\"],[0.5555555555555556,\"#d8576b\"],[0.6666666666666666,\"#ed7953\"],[0.7777777777777778,\"#fb9f3a\"],[0.8888888888888888,\"#fdca26\"],[1.0,\"#f0f921\"]],\"type\":\"surface\"}],\"table\":[{\"cells\":{\"fill\":{\"color\":\"#EBF0F8\"},\"line\":{\"color\":\"white\"}},\"header\":{\"fill\":{\"color\":\"#C8D4E3\"},\"line\":{\"color\":\"white\"}},\"type\":\"table\"}]},\"layout\":{\"annotationdefaults\":{\"arrowcolor\":\"#2a3f5f\",\"arrowhead\":0,\"arrowwidth\":1},\"autotypenumbers\":\"strict\",\"coloraxis\":{\"colorbar\":{\"outlinewidth\":0,\"ticks\":\"\"}},\"colorscale\":{\"diverging\":[[0,\"#8e0152\"],[0.1,\"#c51b7d\"],[0.2,\"#de77ae\"],[0.3,\"#f1b6da\"],[0.4,\"#fde0ef\"],[0.5,\"#f7f7f7\"],[0.6,\"#e6f5d0\"],[0.7,\"#b8e186\"],[0.8,\"#7fbc41\"],[0.9,\"#4d9221\"],[1,\"#276419\"]],\"sequential\":[[0.0,\"#0d0887\"],[0.1111111111111111,\"#46039f\"],[0.2222222222222222,\"#7201a8\"],[0.3333333333333333,\"#9c179e\"],[0.4444444444444444,\"#bd3786\"],[0.5555555555555556,\"#d8576b\"],[0.6666666666666666,\"#ed7953\"],[0.7777777777777778,\"#fb9f3a\"],[0.8888888888888888,\"#fdca26\"],[1.0,\"#f0f921\"]],\"sequentialminus\":[[0.0,\"#0d0887\"],[0.1111111111111111,\"#46039f\"],[0.2222222222222222,\"#7201a8\"],[0.3333333333333333,\"#9c179e\"],[0.4444444444444444,\"#bd3786\"],[0.5555555555555556,\"#d8576b\"],[0.6666666666666666,\"#ed7953\"],[0.7777777777777778,\"#fb9f3a\"],[0.8888888888888888,\"#fdca26\"],[1.0,\"#f0f921\"]]},\"colorway\":[\"#636efa\",\"#EF553B\",\"#00cc96\",\"#ab63fa\",\"#FFA15A\",\"#19d3f3\",\"#FF6692\",\"#B6E880\",\"#FF97FF\",\"#FECB52\"],\"font\":{\"color\":\"#2a3f5f\"},\"geo\":{\"bgcolor\":\"white\",\"lakecolor\":\"white\",\"landcolor\":\"#E5ECF6\",\"showlakes\":true,\"showland\":true,\"subunitcolor\":\"white\"},\"hoverlabel\":{\"align\":\"left\"},\"hovermode\":\"closest\",\"mapbox\":{\"style\":\"light\"},\"paper_bgcolor\":\"white\",\"plot_bgcolor\":\"#E5ECF6\",\"polar\":{\"angularaxis\":{\"gridcolor\":\"white\",\"linecolor\":\"white\",\"ticks\":\"\"},\"bgcolor\":\"#E5ECF6\",\"radialaxis\":{\"gridcolor\":\"white\",\"linecolor\":\"white\",\"ticks\":\"\"}},\"scene\":{\"xaxis\":{\"backgroundcolor\":\"#E5ECF6\",\"gridcolor\":\"white\",\"gridwidth\":2,\"linecolor\":\"white\",\"showbackground\":true,\"ticks\":\"\",\"zerolinecolor\":\"white\"},\"yaxis\":{\"backgroundcolor\":\"#E5ECF6\",\"gridcolor\":\"white\",\"gridwidth\":2,\"linecolor\":\"white\",\"showbackground\":true,\"ticks\":\"\",\"zerolinecolor\":\"white\"},\"zaxis\":{\"backgroundcolor\":\"#E5ECF6\",\"gridcolor\":\"white\",\"gridwidth\":2,\"linecolor\":\"white\",\"showbackground\":true,\"ticks\":\"\",\"zerolinecolor\":\"white\"}},\"shapedefaults\":{\"line\":{\"color\":\"#2a3f5f\"}},\"ternary\":{\"aaxis\":{\"gridcolor\":\"white\",\"linecolor\":\"white\",\"ticks\":\"\"},\"baxis\":{\"gridcolor\":\"white\",\"linecolor\":\"white\",\"ticks\":\"\"},\"bgcolor\":\"#E5ECF6\",\"caxis\":{\"gridcolor\":\"white\",\"linecolor\":\"white\",\"ticks\":\"\"}},\"title\":{\"x\":0.05},\"xaxis\":{\"automargin\":true,\"gridcolor\":\"white\",\"linecolor\":\"white\",\"ticks\":\"\",\"title\":{\"standoff\":15},\"zerolinecolor\":\"white\",\"zerolinewidth\":2},\"yaxis\":{\"automargin\":true,\"gridcolor\":\"white\",\"linecolor\":\"white\",\"ticks\":\"\",\"title\":{\"standoff\":15},\"zerolinecolor\":\"white\",\"zerolinewidth\":2}}},\"xaxis\":{\"anchor\":\"y\",\"domain\":[0.0,1.0],\"title\":{\"text\":\"\\u0421\\u0435\\u043c\\u0435\\u0439\\u043d\\u043e\\u0435 \\u043f\\u043e\\u043b\\u043e\\u0436\\u0435\\u043d\\u0438\\u0435\"}},\"yaxis\":{\"anchor\":\"x\",\"domain\":[0.0,1.0],\"title\":{\"text\":\"\\u0414\\u043e\\u043b\\u044f \\u043d\\u0435\\u0432\\u043e\\u0437\\u0432\\u0440\\u0430\\u0442\\u0430, %\"}},\"coloraxis\":{\"colorbar\":{\"title\":{\"text\":\"\\u0414\\u043e\\u043b\\u044f \\u043d\\u0435\\u0432\\u043e\\u0437\\u0432\\u0440\\u0430\\u0442\\u0430, %\"}},\"colorscale\":[[0.0,\"#0d0887\"],[0.1111111111111111,\"#46039f\"],[0.2222222222222222,\"#7201a8\"],[0.3333333333333333,\"#9c179e\"],[0.4444444444444444,\"#bd3786\"],[0.5555555555555556,\"#d8576b\"],[0.6666666666666666,\"#ed7953\"],[0.7777777777777778,\"#fb9f3a\"],[0.8888888888888888,\"#fdca26\"],[1.0,\"#f0f921\"]]},\"legend\":{\"tracegroupgap\":0},\"title\":{\"text\":\"\\u0414\\u043e\\u043b\\u044f \\u043d\\u0435\\u0432\\u043e\\u0437\\u0432\\u0440\\u0430\\u0442\\u0430 \\u043f\\u043e \\u0421\\u0435\\u043c\\u0435\\u0439\\u043d\\u043e\\u0435 \\u043f\\u043e\\u043b\\u043e\\u0436\\u0435\\u043d\\u0438\\u0435\"},\"barmode\":\"relative\"},                        {\"responsive\": true}                    ).then(function(){\n",
       "                            \n",
       "var gd = document.getElementById('f3767c5e-e1ca-4092-8928-b338540b7602');\n",
       "var x = new MutationObserver(function (mutations, observer) {{\n",
       "        var display = window.getComputedStyle(gd).display;\n",
       "        if (!display || display === 'none') {{\n",
       "            console.log([gd, 'removed!']);\n",
       "            Plotly.purge(gd);\n",
       "            observer.disconnect();\n",
       "        }}\n",
       "}});\n",
       "\n",
       "// Listen for the removal of the full notebook cells\n",
       "var notebookContainer = gd.closest('#notebook-container');\n",
       "if (notebookContainer) {{\n",
       "    x.observe(notebookContainer, {childList: true});\n",
       "}}\n",
       "\n",
       "// Listen for the clearing of the current output cell\n",
       "var outputEl = gd.closest('.output');\n",
       "if (outputEl) {{\n",
       "    x.observe(outputEl, {childList: true});\n",
       "}}\n",
       "\n",
       "                        })                };                });            </script>        </div>"
      ]
     },
     "metadata": {},
     "output_type": "display_data"
    }
   ],
   "source": [
    "debt_ratio(data, 'Семейное положение')"
   ]
  },
  {
   "attachments": {
    "newplot%20%2834%29.png": {
     "image/png": "[encoded data removed]"
    }
   },
   "cell_type": "markdown",
   "id": "666b945e",
   "metadata": {},
   "source": [
    "![newplot%20%2834%29.png](attachment:newplot%20%2834%29.png)"
   ]
  },
  {
   "cell_type": "markdown",
   "id": "cedc2cb8",
   "metadata": {
    "id": "1cef7837"
   },
   "source": [
    "**Вывод:** "
   ]
  },
  {
   "cell_type": "markdown",
   "id": "3b1ead27",
   "metadata": {},
   "source": [
    "Наибольший процент должников относится к категориям \"не женат / не замужем\" и \"гражданский брак\""
   ]
  },
  {
   "cell_type": "markdown",
   "id": "766dc9ab",
   "metadata": {
    "id": "1e8b2fca"
   },
   "source": [
    "#### 3.3 Есть ли зависимость между уровнем дохода и возвратом кредита в срок?"
   ]
  },
  {
   "cell_type": "code",
   "execution_count": 28,
   "id": "fb721685",
   "metadata": {
    "id": "cd7e3720"
   },
   "outputs": [
    {
     "data": {
      "text/html": [
       "<div>\n",
       "<style scoped>\n",
       "    .dataframe tbody tr th:only-of-type {\n",
       "        vertical-align: middle;\n",
       "    }\n",
       "\n",
       "    .dataframe tbody tr th {\n",
       "        vertical-align: top;\n",
       "    }\n",
       "\n",
       "    .dataframe thead th {\n",
       "        text-align: right;\n",
       "    }\n",
       "</style>\n",
       "<table border=\"1\" class=\"dataframe\">\n",
       "  <thead>\n",
       "    <tr style=\"text-align: right;\">\n",
       "      <th></th>\n",
       "      <th>Категория дохода</th>\n",
       "      <th>Кол-во клиентов</th>\n",
       "      <th>Кол-во должников</th>\n",
       "      <th>Доля невозврата, %</th>\n",
       "    </tr>\n",
       "  </thead>\n",
       "  <tbody>\n",
       "    <tr>\n",
       "      <th>4</th>\n",
       "      <td>E</td>\n",
       "      <td>22</td>\n",
       "      <td>2</td>\n",
       "      <td>9.09</td>\n",
       "    </tr>\n",
       "    <tr>\n",
       "      <th>2</th>\n",
       "      <td>C</td>\n",
       "      <td>15921</td>\n",
       "      <td>1353</td>\n",
       "      <td>8.50</td>\n",
       "    </tr>\n",
       "    <tr>\n",
       "      <th>0</th>\n",
       "      <td>A</td>\n",
       "      <td>25</td>\n",
       "      <td>2</td>\n",
       "      <td>8.00</td>\n",
       "    </tr>\n",
       "    <tr>\n",
       "      <th>1</th>\n",
       "      <td>B</td>\n",
       "      <td>5014</td>\n",
       "      <td>354</td>\n",
       "      <td>7.06</td>\n",
       "    </tr>\n",
       "    <tr>\n",
       "      <th>3</th>\n",
       "      <td>D</td>\n",
       "      <td>349</td>\n",
       "      <td>21</td>\n",
       "      <td>6.02</td>\n",
       "    </tr>\n",
       "  </tbody>\n",
       "</table>\n",
       "</div>"
      ],
      "text/plain": [
       "  Категория дохода  Кол-во клиентов  Кол-во должников  Доля невозврата, %\n",
       "4                E               22                 2                9.09\n",
       "2                C            15921              1353                8.50\n",
       "0                A               25                 2                8.00\n",
       "1                B             5014               354                7.06\n",
       "3                D              349                21                6.02"
      ]
     },
     "metadata": {},
     "output_type": "display_data"
    },
    {
     "data": {
      "application/vnd.plotly.v1+json": {
       "config": {
        "plotlyServerURL": "https://plot.ly"
       },
       "data": [
        {
         "alignmentgroup": "True",
         "hovertemplate": "Категория дохода=%{x}<br>Доля невозврата, %=%{marker.color}<extra></extra>",
         "legendgroup": "",
         "marker": {
          "color": [
           8,
           7.06,
           8.5,
           6.02,
           9.09
          ],
          "coloraxis": "coloraxis",
          "pattern": {
           "shape": ""
          }
         },
         "name": "",
         "offsetgroup": "",
         "orientation": "v",
         "showlegend": false,
         "textposition": "auto",
         "type": "bar",
         "x": [
          "A",
          "B",
          "C",
          "D",
          "E"
         ],
         "xaxis": "x",
         "y": [
          8,
          7.06,
          8.5,
          6.02,
          9.09
         ],
         "yaxis": "y"
        }
       ],
       "layout": {
        "barmode": "relative",
        "coloraxis": {
         "colorbar": {
          "title": {
           "text": "Доля невозврата, %"
          }
         },
         "colorscale": [
          [
           0,
           "#0d0887"
          ],
          [
           0.1111111111111111,
           "#46039f"
          ],
          [
           0.2222222222222222,
           "#7201a8"
          ],
          [
           0.3333333333333333,
           "#9c179e"
          ],
          [
           0.4444444444444444,
           "#bd3786"
          ],
          [
           0.5555555555555556,
           "#d8576b"
          ],
          [
           0.6666666666666666,
           "#ed7953"
          ],
          [
           0.7777777777777778,
           "#fb9f3a"
          ],
          [
           0.8888888888888888,
           "#fdca26"
          ],
          [
           1,
           "#f0f921"
          ]
         ]
        },
        "legend": {
         "tracegroupgap": 0
        },
        "template": {
         "data": {
          "bar": [
           {
            "error_x": {
             "color": "#2a3f5f"
            },
            "error_y": {
             "color": "#2a3f5f"
            },
            "marker": {
             "line": {
              "color": "#E5ECF6",
              "width": 0.5
             },
             "pattern": {
              "fillmode": "overlay",
              "size": 10,
              "solidity": 0.2
             }
            },
            "type": "bar"
           }
          ],
          "barpolar": [
           {
            "marker": {
             "line": {
              "color": "#E5ECF6",
              "width": 0.5
             },
             "pattern": {
              "fillmode": "overlay",
              "size": 10,
              "solidity": 0.2
             }
            },
            "type": "barpolar"
           }
          ],
          "carpet": [
           {
            "aaxis": {
             "endlinecolor": "#2a3f5f",
             "gridcolor": "white",
             "linecolor": "white",
             "minorgridcolor": "white",
             "startlinecolor": "#2a3f5f"
            },
            "baxis": {
             "endlinecolor": "#2a3f5f",
             "gridcolor": "white",
             "linecolor": "white",
             "minorgridcolor": "white",
             "startlinecolor": "#2a3f5f"
            },
            "type": "carpet"
           }
          ],
          "choropleth": [
           {
            "colorbar": {
             "outlinewidth": 0,
             "ticks": ""
            },
            "type": "choropleth"
           }
          ],
          "contour": [
           {
            "colorbar": {
             "outlinewidth": 0,
             "ticks": ""
            },
            "colorscale": [
             [
              0,
              "#0d0887"
             ],
             [
              0.1111111111111111,
              "#46039f"
             ],
             [
              0.2222222222222222,
              "#7201a8"
             ],
             [
              0.3333333333333333,
              "#9c179e"
             ],
             [
              0.4444444444444444,
              "#bd3786"
             ],
             [
              0.5555555555555556,
              "#d8576b"
             ],
             [
              0.6666666666666666,
              "#ed7953"
             ],
             [
              0.7777777777777778,
              "#fb9f3a"
             ],
             [
              0.8888888888888888,
              "#fdca26"
             ],
             [
              1,
              "#f0f921"
             ]
            ],
            "type": "contour"
           }
          ],
          "contourcarpet": [
           {
            "colorbar": {
             "outlinewidth": 0,
             "ticks": ""
            },
            "type": "contourcarpet"
           }
          ],
          "heatmap": [
           {
            "colorbar": {
             "outlinewidth": 0,
             "ticks": ""
            },
            "colorscale": [
             [
              0,
              "#0d0887"
             ],
             [
              0.1111111111111111,
              "#46039f"
             ],
             [
              0.2222222222222222,
              "#7201a8"
             ],
             [
              0.3333333333333333,
              "#9c179e"
             ],
             [
              0.4444444444444444,
              "#bd3786"
             ],
             [
              0.5555555555555556,
              "#d8576b"
             ],
             [
              0.6666666666666666,
              "#ed7953"
             ],
             [
              0.7777777777777778,
              "#fb9f3a"
             ],
             [
              0.8888888888888888,
              "#fdca26"
             ],
             [
              1,
              "#f0f921"
             ]
            ],
            "type": "heatmap"
           }
          ],
          "heatmapgl": [
           {
            "colorbar": {
             "outlinewidth": 0,
             "ticks": ""
            },
            "colorscale": [
             [
              0,
              "#0d0887"
             ],
             [
              0.1111111111111111,
              "#46039f"
             ],
             [
              0.2222222222222222,
              "#7201a8"
             ],
             [
              0.3333333333333333,
              "#9c179e"
             ],
             [
              0.4444444444444444,
              "#bd3786"
             ],
             [
              0.5555555555555556,
              "#d8576b"
             ],
             [
              0.6666666666666666,
              "#ed7953"
             ],
             [
              0.7777777777777778,
              "#fb9f3a"
             ],
             [
              0.8888888888888888,
              "#fdca26"
             ],
             [
              1,
              "#f0f921"
             ]
            ],
            "type": "heatmapgl"
           }
          ],
          "histogram": [
           {
            "marker": {
             "pattern": {
              "fillmode": "overlay",
              "size": 10,
              "solidity": 0.2
             }
            },
            "type": "histogram"
           }
          ],
          "histogram2d": [
           {
            "colorbar": {
             "outlinewidth": 0,
             "ticks": ""
            },
            "colorscale": [
             [
              0,
              "#0d0887"
             ],
             [
              0.1111111111111111,
              "#46039f"
             ],
             [
              0.2222222222222222,
              "#7201a8"
             ],
             [
              0.3333333333333333,
              "#9c179e"
             ],
             [
              0.4444444444444444,
              "#bd3786"
             ],
             [
              0.5555555555555556,
              "#d8576b"
             ],
             [
              0.6666666666666666,
              "#ed7953"
             ],
             [
              0.7777777777777778,
              "#fb9f3a"
             ],
             [
              0.8888888888888888,
              "#fdca26"
             ],
             [
              1,
              "#f0f921"
             ]
            ],
            "type": "histogram2d"
           }
          ],
          "histogram2dcontour": [
           {
            "colorbar": {
             "outlinewidth": 0,
             "ticks": ""
            },
            "colorscale": [
             [
              0,
              "#0d0887"
             ],
             [
              0.1111111111111111,
              "#46039f"
             ],
             [
              0.2222222222222222,
              "#7201a8"
             ],
             [
              0.3333333333333333,
              "#9c179e"
             ],
             [
              0.4444444444444444,
              "#bd3786"
             ],
             [
              0.5555555555555556,
              "#d8576b"
             ],
             [
              0.6666666666666666,
              "#ed7953"
             ],
             [
              0.7777777777777778,
              "#fb9f3a"
             ],
             [
              0.8888888888888888,
              "#fdca26"
             ],
             [
              1,
              "#f0f921"
             ]
            ],
            "type": "histogram2dcontour"
           }
          ],
          "mesh3d": [
           {
            "colorbar": {
             "outlinewidth": 0,
             "ticks": ""
            },
            "type": "mesh3d"
           }
          ],
          "parcoords": [
           {
            "line": {
             "colorbar": {
              "outlinewidth": 0,
              "ticks": ""
             }
            },
            "type": "parcoords"
           }
          ],
          "pie": [
           {
            "automargin": true,
            "type": "pie"
           }
          ],
          "scatter": [
           {
            "marker": {
             "colorbar": {
              "outlinewidth": 0,
              "ticks": ""
             }
            },
            "type": "scatter"
           }
          ],
          "scatter3d": [
           {
            "line": {
             "colorbar": {
              "outlinewidth": 0,
              "ticks": ""
             }
            },
            "marker": {
             "colorbar": {
              "outlinewidth": 0,
              "ticks": ""
             }
            },
            "type": "scatter3d"
           }
          ],
          "scattercarpet": [
           {
            "marker": {
             "colorbar": {
              "outlinewidth": 0,
              "ticks": ""
             }
            },
            "type": "scattercarpet"
           }
          ],
          "scattergeo": [
           {
            "marker": {
             "colorbar": {
              "outlinewidth": 0,
              "ticks": ""
             }
            },
            "type": "scattergeo"
           }
          ],
          "scattergl": [
           {
            "marker": {
             "colorbar": {
              "outlinewidth": 0,
              "ticks": ""
             }
            },
            "type": "scattergl"
           }
          ],
          "scattermapbox": [
           {
            "marker": {
             "colorbar": {
              "outlinewidth": 0,
              "ticks": ""
             }
            },
            "type": "scattermapbox"
           }
          ],
          "scatterpolar": [
           {
            "marker": {
             "colorbar": {
              "outlinewidth": 0,
              "ticks": ""
             }
            },
            "type": "scatterpolar"
           }
          ],
          "scatterpolargl": [
           {
            "marker": {
             "colorbar": {
              "outlinewidth": 0,
              "ticks": ""
             }
            },
            "type": "scatterpolargl"
           }
          ],
          "scatterternary": [
           {
            "marker": {
             "colorbar": {
              "outlinewidth": 0,
              "ticks": ""
             }
            },
            "type": "scatterternary"
           }
          ],
          "surface": [
           {
            "colorbar": {
             "outlinewidth": 0,
             "ticks": ""
            },
            "colorscale": [
             [
              0,
              "#0d0887"
             ],
             [
              0.1111111111111111,
              "#46039f"
             ],
             [
              0.2222222222222222,
              "#7201a8"
             ],
             [
              0.3333333333333333,
              "#9c179e"
             ],
             [
              0.4444444444444444,
              "#bd3786"
             ],
             [
              0.5555555555555556,
              "#d8576b"
             ],
             [
              0.6666666666666666,
              "#ed7953"
             ],
             [
              0.7777777777777778,
              "#fb9f3a"
             ],
             [
              0.8888888888888888,
              "#fdca26"
             ],
             [
              1,
              "#f0f921"
             ]
            ],
            "type": "surface"
           }
          ],
          "table": [
           {
            "cells": {
             "fill": {
              "color": "#EBF0F8"
             },
             "line": {
              "color": "white"
             }
            },
            "header": {
             "fill": {
              "color": "#C8D4E3"
             },
             "line": {
              "color": "white"
             }
            },
            "type": "table"
           }
          ]
         },
         "layout": {
          "annotationdefaults": {
           "arrowcolor": "#2a3f5f",
           "arrowhead": 0,
           "arrowwidth": 1
          },
          "autotypenumbers": "strict",
          "coloraxis": {
           "colorbar": {
            "outlinewidth": 0,
            "ticks": ""
           }
          },
          "colorscale": {
           "diverging": [
            [
             0,
             "#8e0152"
            ],
            [
             0.1,
             "#c51b7d"
            ],
            [
             0.2,
             "#de77ae"
            ],
            [
             0.3,
             "#f1b6da"
            ],
            [
             0.4,
             "#fde0ef"
            ],
            [
             0.5,
             "#f7f7f7"
            ],
            [
             0.6,
             "#e6f5d0"
            ],
            [
             0.7,
             "#b8e186"
            ],
            [
             0.8,
             "#7fbc41"
            ],
            [
             0.9,
             "#4d9221"
            ],
            [
             1,
             "#276419"
            ]
           ],
           "sequential": [
            [
             0,
             "#0d0887"
            ],
            [
             0.1111111111111111,
             "#46039f"
            ],
            [
             0.2222222222222222,
             "#7201a8"
            ],
            [
             0.3333333333333333,
             "#9c179e"
            ],
            [
             0.4444444444444444,
             "#bd3786"
            ],
            [
             0.5555555555555556,
             "#d8576b"
            ],
            [
             0.6666666666666666,
             "#ed7953"
            ],
            [
             0.7777777777777778,
             "#fb9f3a"
            ],
            [
             0.8888888888888888,
             "#fdca26"
            ],
            [
             1,
             "#f0f921"
            ]
           ],
           "sequentialminus": [
            [
             0,
             "#0d0887"
            ],
            [
             0.1111111111111111,
             "#46039f"
            ],
            [
             0.2222222222222222,
             "#7201a8"
            ],
            [
             0.3333333333333333,
             "#9c179e"
            ],
            [
             0.4444444444444444,
             "#bd3786"
            ],
            [
             0.5555555555555556,
             "#d8576b"
            ],
            [
             0.6666666666666666,
             "#ed7953"
            ],
            [
             0.7777777777777778,
             "#fb9f3a"
            ],
            [
             0.8888888888888888,
             "#fdca26"
            ],
            [
             1,
             "#f0f921"
            ]
           ]
          },
          "colorway": [
           "#636efa",
           "#EF553B",
           "#00cc96",
           "#ab63fa",
           "#FFA15A",
           "#19d3f3",
           "#FF6692",
           "#B6E880",
           "#FF97FF",
           "#FECB52"
          ],
          "font": {
           "color": "#2a3f5f"
          },
          "geo": {
           "bgcolor": "white",
           "lakecolor": "white",
           "landcolor": "#E5ECF6",
           "showlakes": true,
           "showland": true,
           "subunitcolor": "white"
          },
          "hoverlabel": {
           "align": "left"
          },
          "hovermode": "closest",
          "mapbox": {
           "style": "light"
          },
          "paper_bgcolor": "white",
          "plot_bgcolor": "#E5ECF6",
          "polar": {
           "angularaxis": {
            "gridcolor": "white",
            "linecolor": "white",
            "ticks": ""
           },
           "bgcolor": "#E5ECF6",
           "radialaxis": {
            "gridcolor": "white",
            "linecolor": "white",
            "ticks": ""
           }
          },
          "scene": {
           "xaxis": {
            "backgroundcolor": "#E5ECF6",
            "gridcolor": "white",
            "gridwidth": 2,
            "linecolor": "white",
            "showbackground": true,
            "ticks": "",
            "zerolinecolor": "white"
           },
           "yaxis": {
            "backgroundcolor": "#E5ECF6",
            "gridcolor": "white",
            "gridwidth": 2,
            "linecolor": "white",
            "showbackground": true,
            "ticks": "",
            "zerolinecolor": "white"
           },
           "zaxis": {
            "backgroundcolor": "#E5ECF6",
            "gridcolor": "white",
            "gridwidth": 2,
            "linecolor": "white",
            "showbackground": true,
            "ticks": "",
            "zerolinecolor": "white"
           }
          },
          "shapedefaults": {
           "line": {
            "color": "#2a3f5f"
           }
          },
          "ternary": {
           "aaxis": {
            "gridcolor": "white",
            "linecolor": "white",
            "ticks": ""
           },
           "baxis": {
            "gridcolor": "white",
            "linecolor": "white",
            "ticks": ""
           },
           "bgcolor": "#E5ECF6",
           "caxis": {
            "gridcolor": "white",
            "linecolor": "white",
            "ticks": ""
           }
          },
          "title": {
           "x": 0.05
          },
          "xaxis": {
           "automargin": true,
           "gridcolor": "white",
           "linecolor": "white",
           "ticks": "",
           "title": {
            "standoff": 15
           },
           "zerolinecolor": "white",
           "zerolinewidth": 2
          },
          "yaxis": {
           "automargin": true,
           "gridcolor": "white",
           "linecolor": "white",
           "ticks": "",
           "title": {
            "standoff": 15
           },
           "zerolinecolor": "white",
           "zerolinewidth": 2
          }
         }
        },
        "title": {
         "text": "Доля невозврата по Категория дохода"
        },
        "xaxis": {
         "anchor": "y",
         "domain": [
          0,
          1
         ],
         "title": {
          "text": "Категория дохода"
         }
        },
        "yaxis": {
         "anchor": "x",
         "domain": [
          0,
          1
         ],
         "title": {
          "text": "Доля невозврата, %"
         }
        }
       }
      },
      "text/html": [
       "<div>                            <div id=\"c7edd28e-5de7-4578-be7d-8829e4ca4ed1\" class=\"plotly-graph-div\" style=\"height:525px; width:100%;\"></div>            <script type=\"text/javascript\">                require([\"plotly\"], function(Plotly) {                    window.PLOTLYENV=window.PLOTLYENV || {};                                    if (document.getElementById(\"c7edd28e-5de7-4578-be7d-8829e4ca4ed1\")) {                    Plotly.newPlot(                        \"c7edd28e-5de7-4578-be7d-8829e4ca4ed1\",                        [{\"alignmentgroup\":\"True\",\"hovertemplate\":\"\\u041a\\u0430\\u0442\\u0435\\u0433\\u043e\\u0440\\u0438\\u044f \\u0434\\u043e\\u0445\\u043e\\u0434\\u0430=%{x}<br>\\u0414\\u043e\\u043b\\u044f \\u043d\\u0435\\u0432\\u043e\\u0437\\u0432\\u0440\\u0430\\u0442\\u0430, %=%{marker.color}<extra></extra>\",\"legendgroup\":\"\",\"marker\":{\"color\":[8.0,7.06,8.5,6.02,9.09],\"coloraxis\":\"coloraxis\",\"pattern\":{\"shape\":\"\"}},\"name\":\"\",\"offsetgroup\":\"\",\"orientation\":\"v\",\"showlegend\":false,\"textposition\":\"auto\",\"x\":[\"A\",\"B\",\"C\",\"D\",\"E\"],\"xaxis\":\"x\",\"y\":[8.0,7.06,8.5,6.02,9.09],\"yaxis\":\"y\",\"type\":\"bar\"}],                        {\"template\":{\"data\":{\"bar\":[{\"error_x\":{\"color\":\"#2a3f5f\"},\"error_y\":{\"color\":\"#2a3f5f\"},\"marker\":{\"line\":{\"color\":\"#E5ECF6\",\"width\":0.5},\"pattern\":{\"fillmode\":\"overlay\",\"size\":10,\"solidity\":0.2}},\"type\":\"bar\"}],\"barpolar\":[{\"marker\":{\"line\":{\"color\":\"#E5ECF6\",\"width\":0.5},\"pattern\":{\"fillmode\":\"overlay\",\"size\":10,\"solidity\":0.2}},\"type\":\"barpolar\"}],\"carpet\":[{\"aaxis\":{\"endlinecolor\":\"#2a3f5f\",\"gridcolor\":\"white\",\"linecolor\":\"white\",\"minorgridcolor\":\"white\",\"startlinecolor\":\"#2a3f5f\"},\"baxis\":{\"endlinecolor\":\"#2a3f5f\",\"gridcolor\":\"white\",\"linecolor\":\"white\",\"minorgridcolor\":\"white\",\"startlinecolor\":\"#2a3f5f\"},\"type\":\"carpet\"}],\"choropleth\":[{\"colorbar\":{\"outlinewidth\":0,\"ticks\":\"\"},\"type\":\"choropleth\"}],\"contour\":[{\"colorbar\":{\"outlinewidth\":0,\"ticks\":\"\"},\"colorscale\":[[0.0,\"#0d0887\"],[0.1111111111111111,\"#46039f\"],[0.2222222222222222,\"#7201a8\"],[0.3333333333333333,\"#9c179e\"],[0.4444444444444444,\"#bd3786\"],[0.5555555555555556,\"#d8576b\"],[0.6666666666666666,\"#ed7953\"],[0.7777777777777778,\"#fb9f3a\"],[0.8888888888888888,\"#fdca26\"],[1.0,\"#f0f921\"]],\"type\":\"contour\"}],\"contourcarpet\":[{\"colorbar\":{\"outlinewidth\":0,\"ticks\":\"\"},\"type\":\"contourcarpet\"}],\"heatmap\":[{\"colorbar\":{\"outlinewidth\":0,\"ticks\":\"\"},\"colorscale\":[[0.0,\"#0d0887\"],[0.1111111111111111,\"#46039f\"],[0.2222222222222222,\"#7201a8\"],[0.3333333333333333,\"#9c179e\"],[0.4444444444444444,\"#bd3786\"],[0.5555555555555556,\"#d8576b\"],[0.6666666666666666,\"#ed7953\"],[0.7777777777777778,\"#fb9f3a\"],[0.8888888888888888,\"#fdca26\"],[1.0,\"#f0f921\"]],\"type\":\"heatmap\"}],\"heatmapgl\":[{\"colorbar\":{\"outlinewidth\":0,\"ticks\":\"\"},\"colorscale\":[[0.0,\"#0d0887\"],[0.1111111111111111,\"#46039f\"],[0.2222222222222222,\"#7201a8\"],[0.3333333333333333,\"#9c179e\"],[0.4444444444444444,\"#bd3786\"],[0.5555555555555556,\"#d8576b\"],[0.6666666666666666,\"#ed7953\"],[0.7777777777777778,\"#fb9f3a\"],[0.8888888888888888,\"#fdca26\"],[1.0,\"#f0f921\"]],\"type\":\"heatmapgl\"}],\"histogram\":[{\"marker\":{\"pattern\":{\"fillmode\":\"overlay\",\"size\":10,\"solidity\":0.2}},\"type\":\"histogram\"}],\"histogram2d\":[{\"colorbar\":{\"outlinewidth\":0,\"ticks\":\"\"},\"colorscale\":[[0.0,\"#0d0887\"],[0.1111111111111111,\"#46039f\"],[0.2222222222222222,\"#7201a8\"],[0.3333333333333333,\"#9c179e\"],[0.4444444444444444,\"#bd3786\"],[0.5555555555555556,\"#d8576b\"],[0.6666666666666666,\"#ed7953\"],[0.7777777777777778,\"#fb9f3a\"],[0.8888888888888888,\"#fdca26\"],[1.0,\"#f0f921\"]],\"type\":\"histogram2d\"}],\"histogram2dcontour\":[{\"colorbar\":{\"outlinewidth\":0,\"ticks\":\"\"},\"colorscale\":[[0.0,\"#0d0887\"],[0.1111111111111111,\"#46039f\"],[0.2222222222222222,\"#7201a8\"],[0.3333333333333333,\"#9c179e\"],[0.4444444444444444,\"#bd3786\"],[0.5555555555555556,\"#d8576b\"],[0.6666666666666666,\"#ed7953\"],[0.7777777777777778,\"#fb9f3a\"],[0.8888888888888888,\"#fdca26\"],[1.0,\"#f0f921\"]],\"type\":\"histogram2dcontour\"}],\"mesh3d\":[{\"colorbar\":{\"outlinewidth\":0,\"ticks\":\"\"},\"type\":\"mesh3d\"}],\"parcoords\":[{\"line\":{\"colorbar\":{\"outlinewidth\":0,\"ticks\":\"\"}},\"type\":\"parcoords\"}],\"pie\":[{\"automargin\":true,\"type\":\"pie\"}],\"scatter\":[{\"marker\":{\"colorbar\":{\"outlinewidth\":0,\"ticks\":\"\"}},\"type\":\"scatter\"}],\"scatter3d\":[{\"line\":{\"colorbar\":{\"outlinewidth\":0,\"ticks\":\"\"}},\"marker\":{\"colorbar\":{\"outlinewidth\":0,\"ticks\":\"\"}},\"type\":\"scatter3d\"}],\"scattercarpet\":[{\"marker\":{\"colorbar\":{\"outlinewidth\":0,\"ticks\":\"\"}},\"type\":\"scattercarpet\"}],\"scattergeo\":[{\"marker\":{\"colorbar\":{\"outlinewidth\":0,\"ticks\":\"\"}},\"type\":\"scattergeo\"}],\"scattergl\":[{\"marker\":{\"colorbar\":{\"outlinewidth\":0,\"ticks\":\"\"}},\"type\":\"scattergl\"}],\"scattermapbox\":[{\"marker\":{\"colorbar\":{\"outlinewidth\":0,\"ticks\":\"\"}},\"type\":\"scattermapbox\"}],\"scatterpolar\":[{\"marker\":{\"colorbar\":{\"outlinewidth\":0,\"ticks\":\"\"}},\"type\":\"scatterpolar\"}],\"scatterpolargl\":[{\"marker\":{\"colorbar\":{\"outlinewidth\":0,\"ticks\":\"\"}},\"type\":\"scatterpolargl\"}],\"scatterternary\":[{\"marker\":{\"colorbar\":{\"outlinewidth\":0,\"ticks\":\"\"}},\"type\":\"scatterternary\"}],\"surface\":[{\"colorbar\":{\"outlinewidth\":0,\"ticks\":\"\"},\"colorscale\":[[0.0,\"#0d0887\"],[0.1111111111111111,\"#46039f\"],[0.2222222222222222,\"#7201a8\"],[0.3333333333333333,\"#9c179e\"],[0.4444444444444444,\"#bd3786\"],[0.5555555555555556,\"#d8576b\"],[0.6666666666666666,\"#ed7953\"],[0.7777777777777778,\"#fb9f3a\"],[0.8888888888888888,\"#fdca26\"],[1.0,\"#f0f921\"]],\"type\":\"surface\"}],\"table\":[{\"cells\":{\"fill\":{\"color\":\"#EBF0F8\"},\"line\":{\"color\":\"white\"}},\"header\":{\"fill\":{\"color\":\"#C8D4E3\"},\"line\":{\"color\":\"white\"}},\"type\":\"table\"}]},\"layout\":{\"annotationdefaults\":{\"arrowcolor\":\"#2a3f5f\",\"arrowhead\":0,\"arrowwidth\":1},\"autotypenumbers\":\"strict\",\"coloraxis\":{\"colorbar\":{\"outlinewidth\":0,\"ticks\":\"\"}},\"colorscale\":{\"diverging\":[[0,\"#8e0152\"],[0.1,\"#c51b7d\"],[0.2,\"#de77ae\"],[0.3,\"#f1b6da\"],[0.4,\"#fde0ef\"],[0.5,\"#f7f7f7\"],[0.6,\"#e6f5d0\"],[0.7,\"#b8e186\"],[0.8,\"#7fbc41\"],[0.9,\"#4d9221\"],[1,\"#276419\"]],\"sequential\":[[0.0,\"#0d0887\"],[0.1111111111111111,\"#46039f\"],[0.2222222222222222,\"#7201a8\"],[0.3333333333333333,\"#9c179e\"],[0.4444444444444444,\"#bd3786\"],[0.5555555555555556,\"#d8576b\"],[0.6666666666666666,\"#ed7953\"],[0.7777777777777778,\"#fb9f3a\"],[0.8888888888888888,\"#fdca26\"],[1.0,\"#f0f921\"]],\"sequentialminus\":[[0.0,\"#0d0887\"],[0.1111111111111111,\"#46039f\"],[0.2222222222222222,\"#7201a8\"],[0.3333333333333333,\"#9c179e\"],[0.4444444444444444,\"#bd3786\"],[0.5555555555555556,\"#d8576b\"],[0.6666666666666666,\"#ed7953\"],[0.7777777777777778,\"#fb9f3a\"],[0.8888888888888888,\"#fdca26\"],[1.0,\"#f0f921\"]]},\"colorway\":[\"#636efa\",\"#EF553B\",\"#00cc96\",\"#ab63fa\",\"#FFA15A\",\"#19d3f3\",\"#FF6692\",\"#B6E880\",\"#FF97FF\",\"#FECB52\"],\"font\":{\"color\":\"#2a3f5f\"},\"geo\":{\"bgcolor\":\"white\",\"lakecolor\":\"white\",\"landcolor\":\"#E5ECF6\",\"showlakes\":true,\"showland\":true,\"subunitcolor\":\"white\"},\"hoverlabel\":{\"align\":\"left\"},\"hovermode\":\"closest\",\"mapbox\":{\"style\":\"light\"},\"paper_bgcolor\":\"white\",\"plot_bgcolor\":\"#E5ECF6\",\"polar\":{\"angularaxis\":{\"gridcolor\":\"white\",\"linecolor\":\"white\",\"ticks\":\"\"},\"bgcolor\":\"#E5ECF6\",\"radialaxis\":{\"gridcolor\":\"white\",\"linecolor\":\"white\",\"ticks\":\"\"}},\"scene\":{\"xaxis\":{\"backgroundcolor\":\"#E5ECF6\",\"gridcolor\":\"white\",\"gridwidth\":2,\"linecolor\":\"white\",\"showbackground\":true,\"ticks\":\"\",\"zerolinecolor\":\"white\"},\"yaxis\":{\"backgroundcolor\":\"#E5ECF6\",\"gridcolor\":\"white\",\"gridwidth\":2,\"linecolor\":\"white\",\"showbackground\":true,\"ticks\":\"\",\"zerolinecolor\":\"white\"},\"zaxis\":{\"backgroundcolor\":\"#E5ECF6\",\"gridcolor\":\"white\",\"gridwidth\":2,\"linecolor\":\"white\",\"showbackground\":true,\"ticks\":\"\",\"zerolinecolor\":\"white\"}},\"shapedefaults\":{\"line\":{\"color\":\"#2a3f5f\"}},\"ternary\":{\"aaxis\":{\"gridcolor\":\"white\",\"linecolor\":\"white\",\"ticks\":\"\"},\"baxis\":{\"gridcolor\":\"white\",\"linecolor\":\"white\",\"ticks\":\"\"},\"bgcolor\":\"#E5ECF6\",\"caxis\":{\"gridcolor\":\"white\",\"linecolor\":\"white\",\"ticks\":\"\"}},\"title\":{\"x\":0.05},\"xaxis\":{\"automargin\":true,\"gridcolor\":\"white\",\"linecolor\":\"white\",\"ticks\":\"\",\"title\":{\"standoff\":15},\"zerolinecolor\":\"white\",\"zerolinewidth\":2},\"yaxis\":{\"automargin\":true,\"gridcolor\":\"white\",\"linecolor\":\"white\",\"ticks\":\"\",\"title\":{\"standoff\":15},\"zerolinecolor\":\"white\",\"zerolinewidth\":2}}},\"xaxis\":{\"anchor\":\"y\",\"domain\":[0.0,1.0],\"title\":{\"text\":\"\\u041a\\u0430\\u0442\\u0435\\u0433\\u043e\\u0440\\u0438\\u044f \\u0434\\u043e\\u0445\\u043e\\u0434\\u0430\"}},\"yaxis\":{\"anchor\":\"x\",\"domain\":[0.0,1.0],\"title\":{\"text\":\"\\u0414\\u043e\\u043b\\u044f \\u043d\\u0435\\u0432\\u043e\\u0437\\u0432\\u0440\\u0430\\u0442\\u0430, %\"}},\"coloraxis\":{\"colorbar\":{\"title\":{\"text\":\"\\u0414\\u043e\\u043b\\u044f \\u043d\\u0435\\u0432\\u043e\\u0437\\u0432\\u0440\\u0430\\u0442\\u0430, %\"}},\"colorscale\":[[0.0,\"#0d0887\"],[0.1111111111111111,\"#46039f\"],[0.2222222222222222,\"#7201a8\"],[0.3333333333333333,\"#9c179e\"],[0.4444444444444444,\"#bd3786\"],[0.5555555555555556,\"#d8576b\"],[0.6666666666666666,\"#ed7953\"],[0.7777777777777778,\"#fb9f3a\"],[0.8888888888888888,\"#fdca26\"],[1.0,\"#f0f921\"]]},\"legend\":{\"tracegroupgap\":0},\"title\":{\"text\":\"\\u0414\\u043e\\u043b\\u044f \\u043d\\u0435\\u0432\\u043e\\u0437\\u0432\\u0440\\u0430\\u0442\\u0430 \\u043f\\u043e \\u041a\\u0430\\u0442\\u0435\\u0433\\u043e\\u0440\\u0438\\u044f \\u0434\\u043e\\u0445\\u043e\\u0434\\u0430\"},\"barmode\":\"relative\"},                        {\"responsive\": true}                    ).then(function(){\n",
       "                            \n",
       "var gd = document.getElementById('c7edd28e-5de7-4578-be7d-8829e4ca4ed1');\n",
       "var x = new MutationObserver(function (mutations, observer) {{\n",
       "        var display = window.getComputedStyle(gd).display;\n",
       "        if (!display || display === 'none') {{\n",
       "            console.log([gd, 'removed!']);\n",
       "            Plotly.purge(gd);\n",
       "            observer.disconnect();\n",
       "        }}\n",
       "}});\n",
       "\n",
       "// Listen for the removal of the full notebook cells\n",
       "var notebookContainer = gd.closest('#notebook-container');\n",
       "if (notebookContainer) {{\n",
       "    x.observe(notebookContainer, {childList: true});\n",
       "}}\n",
       "\n",
       "// Listen for the clearing of the current output cell\n",
       "var outputEl = gd.closest('.output');\n",
       "if (outputEl) {{\n",
       "    x.observe(outputEl, {childList: true});\n",
       "}}\n",
       "\n",
       "                        })                };                });            </script>        </div>"
      ]
     },
     "metadata": {},
     "output_type": "display_data"
    }
   ],
   "source": [
    "debt_ratio(data, 'Категория дохода')"
   ]
  },
  {
   "attachments": {
    "newplot%20%2835%29.png": {
     "image/png": "[encoded data removed]"
    }
   },
   "cell_type": "markdown",
   "id": "1067b399",
   "metadata": {},
   "source": [
    "![newplot%20%2835%29.png](attachment:newplot%20%2835%29.png)"
   ]
  },
  {
   "cell_type": "markdown",
   "id": "4f05c00e",
   "metadata": {
    "id": "e8593def"
   },
   "source": [
    "**Вывод:** "
   ]
  },
  {
   "cell_type": "markdown",
   "id": "2d4a81fd",
   "metadata": {},
   "source": [
    " В одной из самых крупных категорий дохода \"В\" наблюдается один из самых низких процентов по кредитной задолженности. В категории \"С\" этот процент выше на 1.5%, что делает эту категорию с одним из самых высоких процентов по задолженностям. "
   ]
  },
  {
   "cell_type": "markdown",
   "id": "72d9c061",
   "metadata": {
    "id": "99ecbd1f"
   },
   "source": [
    "#### 3.4 Как разные цели кредита влияют на его возврат в срок?"
   ]
  },
  {
   "cell_type": "code",
   "execution_count": 29,
   "id": "37f70e70",
   "metadata": {
    "id": "2b687290"
   },
   "outputs": [
    {
     "data": {
      "text/html": [
       "<div>\n",
       "<style scoped>\n",
       "    .dataframe tbody tr th:only-of-type {\n",
       "        vertical-align: middle;\n",
       "    }\n",
       "\n",
       "    .dataframe tbody tr th {\n",
       "        vertical-align: top;\n",
       "    }\n",
       "\n",
       "    .dataframe thead th {\n",
       "        text-align: right;\n",
       "    }\n",
       "</style>\n",
       "<table border=\"1\" class=\"dataframe\">\n",
       "  <thead>\n",
       "    <tr style=\"text-align: right;\">\n",
       "      <th></th>\n",
       "      <th>Цель кредита</th>\n",
       "      <th>Кол-во клиентов</th>\n",
       "      <th>Кол-во должников</th>\n",
       "      <th>Доля невозврата, %</th>\n",
       "    </tr>\n",
       "  </thead>\n",
       "  <tbody>\n",
       "    <tr>\n",
       "      <th>0</th>\n",
       "      <td>операции с автомобилем</td>\n",
       "      <td>4279</td>\n",
       "      <td>400</td>\n",
       "      <td>9.35</td>\n",
       "    </tr>\n",
       "    <tr>\n",
       "      <th>2</th>\n",
       "      <td>получение образования</td>\n",
       "      <td>3988</td>\n",
       "      <td>369</td>\n",
       "      <td>9.25</td>\n",
       "    </tr>\n",
       "    <tr>\n",
       "      <th>3</th>\n",
       "      <td>проведение свадьбы</td>\n",
       "      <td>2313</td>\n",
       "      <td>183</td>\n",
       "      <td>7.91</td>\n",
       "    </tr>\n",
       "    <tr>\n",
       "      <th>1</th>\n",
       "      <td>операции с недвижимостью</td>\n",
       "      <td>10751</td>\n",
       "      <td>780</td>\n",
       "      <td>7.26</td>\n",
       "    </tr>\n",
       "  </tbody>\n",
       "</table>\n",
       "</div>"
      ],
      "text/plain": [
       "               Цель кредита  Кол-во клиентов  Кол-во должников  \\\n",
       "0    операции с автомобилем             4279               400   \n",
       "2     получение образования             3988               369   \n",
       "3        проведение свадьбы             2313               183   \n",
       "1  операции с недвижимостью            10751               780   \n",
       "\n",
       "   Доля невозврата, %  \n",
       "0                9.35  \n",
       "2                9.25  \n",
       "3                7.91  \n",
       "1                7.26  "
      ]
     },
     "metadata": {},
     "output_type": "display_data"
    },
    {
     "data": {
      "application/vnd.plotly.v1+json": {
       "config": {
        "plotlyServerURL": "https://plot.ly"
       },
       "data": [
        {
         "alignmentgroup": "True",
         "hovertemplate": "Цель кредита=%{x}<br>Доля невозврата, %=%{marker.color}<extra></extra>",
         "legendgroup": "",
         "marker": {
          "color": [
           9.35,
           7.26,
           9.25,
           7.91
          ],
          "coloraxis": "coloraxis",
          "pattern": {
           "shape": ""
          }
         },
         "name": "",
         "offsetgroup": "",
         "orientation": "v",
         "showlegend": false,
         "textposition": "auto",
         "type": "bar",
         "x": [
          "операции с автомобилем",
          "операции с недвижимостью",
          "получение образования",
          "проведение свадьбы"
         ],
         "xaxis": "x",
         "y": [
          9.35,
          7.26,
          9.25,
          7.91
         ],
         "yaxis": "y"
        }
       ],
       "layout": {
        "barmode": "relative",
        "coloraxis": {
         "colorbar": {
          "title": {
           "text": "Доля невозврата, %"
          }
         },
         "colorscale": [
          [
           0,
           "#0d0887"
          ],
          [
           0.1111111111111111,
           "#46039f"
          ],
          [
           0.2222222222222222,
           "#7201a8"
          ],
          [
           0.3333333333333333,
           "#9c179e"
          ],
          [
           0.4444444444444444,
           "#bd3786"
          ],
          [
           0.5555555555555556,
           "#d8576b"
          ],
          [
           0.6666666666666666,
           "#ed7953"
          ],
          [
           0.7777777777777778,
           "#fb9f3a"
          ],
          [
           0.8888888888888888,
           "#fdca26"
          ],
          [
           1,
           "#f0f921"
          ]
         ]
        },
        "legend": {
         "tracegroupgap": 0
        },
        "template": {
         "data": {
          "bar": [
           {
            "error_x": {
             "color": "#2a3f5f"
            },
            "error_y": {
             "color": "#2a3f5f"
            },
            "marker": {
             "line": {
              "color": "#E5ECF6",
              "width": 0.5
             },
             "pattern": {
              "fillmode": "overlay",
              "size": 10,
              "solidity": 0.2
             }
            },
            "type": "bar"
           }
          ],
          "barpolar": [
           {
            "marker": {
             "line": {
              "color": "#E5ECF6",
              "width": 0.5
             },
             "pattern": {
              "fillmode": "overlay",
              "size": 10,
              "solidity": 0.2
             }
            },
            "type": "barpolar"
           }
          ],
          "carpet": [
           {
            "aaxis": {
             "endlinecolor": "#2a3f5f",
             "gridcolor": "white",
             "linecolor": "white",
             "minorgridcolor": "white",
             "startlinecolor": "#2a3f5f"
            },
            "baxis": {
             "endlinecolor": "#2a3f5f",
             "gridcolor": "white",
             "linecolor": "white",
             "minorgridcolor": "white",
             "startlinecolor": "#2a3f5f"
            },
            "type": "carpet"
           }
          ],
          "choropleth": [
           {
            "colorbar": {
             "outlinewidth": 0,
             "ticks": ""
            },
            "type": "choropleth"
           }
          ],
          "contour": [
           {
            "colorbar": {
             "outlinewidth": 0,
             "ticks": ""
            },
            "colorscale": [
             [
              0,
              "#0d0887"
             ],
             [
              0.1111111111111111,
              "#46039f"
             ],
             [
              0.2222222222222222,
              "#7201a8"
             ],
             [
              0.3333333333333333,
              "#9c179e"
             ],
             [
              0.4444444444444444,
              "#bd3786"
             ],
             [
              0.5555555555555556,
              "#d8576b"
             ],
             [
              0.6666666666666666,
              "#ed7953"
             ],
             [
              0.7777777777777778,
              "#fb9f3a"
             ],
             [
              0.8888888888888888,
              "#fdca26"
             ],
             [
              1,
              "#f0f921"
             ]
            ],
            "type": "contour"
           }
          ],
          "contourcarpet": [
           {
            "colorbar": {
             "outlinewidth": 0,
             "ticks": ""
            },
            "type": "contourcarpet"
           }
          ],
          "heatmap": [
           {
            "colorbar": {
             "outlinewidth": 0,
             "ticks": ""
            },
            "colorscale": [
             [
              0,
              "#0d0887"
             ],
             [
              0.1111111111111111,
              "#46039f"
             ],
             [
              0.2222222222222222,
              "#7201a8"
             ],
             [
              0.3333333333333333,
              "#9c179e"
             ],
             [
              0.4444444444444444,
              "#bd3786"
             ],
             [
              0.5555555555555556,
              "#d8576b"
             ],
             [
              0.6666666666666666,
              "#ed7953"
             ],
             [
              0.7777777777777778,
              "#fb9f3a"
             ],
             [
              0.8888888888888888,
              "#fdca26"
             ],
             [
              1,
              "#f0f921"
             ]
            ],
            "type": "heatmap"
           }
          ],
          "heatmapgl": [
           {
            "colorbar": {
             "outlinewidth": 0,
             "ticks": ""
            },
            "colorscale": [
             [
              0,
              "#0d0887"
             ],
             [
              0.1111111111111111,
              "#46039f"
             ],
             [
              0.2222222222222222,
              "#7201a8"
             ],
             [
              0.3333333333333333,
              "#9c179e"
             ],
             [
              0.4444444444444444,
              "#bd3786"
             ],
             [
              0.5555555555555556,
              "#d8576b"
             ],
             [
              0.6666666666666666,
              "#ed7953"
             ],
             [
              0.7777777777777778,
              "#fb9f3a"
             ],
             [
              0.8888888888888888,
              "#fdca26"
             ],
             [
              1,
              "#f0f921"
             ]
            ],
            "type": "heatmapgl"
           }
          ],
          "histogram": [
           {
            "marker": {
             "pattern": {
              "fillmode": "overlay",
              "size": 10,
              "solidity": 0.2
             }
            },
            "type": "histogram"
           }
          ],
          "histogram2d": [
           {
            "colorbar": {
             "outlinewidth": 0,
             "ticks": ""
            },
            "colorscale": [
             [
              0,
              "#0d0887"
             ],
             [
              0.1111111111111111,
              "#46039f"
             ],
             [
              0.2222222222222222,
              "#7201a8"
             ],
             [
              0.3333333333333333,
              "#9c179e"
             ],
             [
              0.4444444444444444,
              "#bd3786"
             ],
             [
              0.5555555555555556,
              "#d8576b"
             ],
             [
              0.6666666666666666,
              "#ed7953"
             ],
             [
              0.7777777777777778,
              "#fb9f3a"
             ],
             [
              0.8888888888888888,
              "#fdca26"
             ],
             [
              1,
              "#f0f921"
             ]
            ],
            "type": "histogram2d"
           }
          ],
          "histogram2dcontour": [
           {
            "colorbar": {
             "outlinewidth": 0,
             "ticks": ""
            },
            "colorscale": [
             [
              0,
              "#0d0887"
             ],
             [
              0.1111111111111111,
              "#46039f"
             ],
             [
              0.2222222222222222,
              "#7201a8"
             ],
             [
              0.3333333333333333,
              "#9c179e"
             ],
             [
              0.4444444444444444,
              "#bd3786"
             ],
             [
              0.5555555555555556,
              "#d8576b"
             ],
             [
              0.6666666666666666,
              "#ed7953"
             ],
             [
              0.7777777777777778,
              "#fb9f3a"
             ],
             [
              0.8888888888888888,
              "#fdca26"
             ],
             [
              1,
              "#f0f921"
             ]
            ],
            "type": "histogram2dcontour"
           }
          ],
          "mesh3d": [
           {
            "colorbar": {
             "outlinewidth": 0,
             "ticks": ""
            },
            "type": "mesh3d"
           }
          ],
          "parcoords": [
           {
            "line": {
             "colorbar": {
              "outlinewidth": 0,
              "ticks": ""
             }
            },
            "type": "parcoords"
           }
          ],
          "pie": [
           {
            "automargin": true,
            "type": "pie"
           }
          ],
          "scatter": [
           {
            "marker": {
             "colorbar": {
              "outlinewidth": 0,
              "ticks": ""
             }
            },
            "type": "scatter"
           }
          ],
          "scatter3d": [
           {
            "line": {
             "colorbar": {
              "outlinewidth": 0,
              "ticks": ""
             }
            },
            "marker": {
             "colorbar": {
              "outlinewidth": 0,
              "ticks": ""
             }
            },
            "type": "scatter3d"
           }
          ],
          "scattercarpet": [
           {
            "marker": {
             "colorbar": {
              "outlinewidth": 0,
              "ticks": ""
             }
            },
            "type": "scattercarpet"
           }
          ],
          "scattergeo": [
           {
            "marker": {
             "colorbar": {
              "outlinewidth": 0,
              "ticks": ""
             }
            },
            "type": "scattergeo"
           }
          ],
          "scattergl": [
           {
            "marker": {
             "colorbar": {
              "outlinewidth": 0,
              "ticks": ""
             }
            },
            "type": "scattergl"
           }
          ],
          "scattermapbox": [
           {
            "marker": {
             "colorbar": {
              "outlinewidth": 0,
              "ticks": ""
             }
            },
            "type": "scattermapbox"
           }
          ],
          "scatterpolar": [
           {
            "marker": {
             "colorbar": {
              "outlinewidth": 0,
              "ticks": ""
             }
            },
            "type": "scatterpolar"
           }
          ],
          "scatterpolargl": [
           {
            "marker": {
             "colorbar": {
              "outlinewidth": 0,
              "ticks": ""
             }
            },
            "type": "scatterpolargl"
           }
          ],
          "scatterternary": [
           {
            "marker": {
             "colorbar": {
              "outlinewidth": 0,
              "ticks": ""
             }
            },
            "type": "scatterternary"
           }
          ],
          "surface": [
           {
            "colorbar": {
             "outlinewidth": 0,
             "ticks": ""
            },
            "colorscale": [
             [
              0,
              "#0d0887"
             ],
             [
              0.1111111111111111,
              "#46039f"
             ],
             [
              0.2222222222222222,
              "#7201a8"
             ],
             [
              0.3333333333333333,
              "#9c179e"
             ],
             [
              0.4444444444444444,
              "#bd3786"
             ],
             [
              0.5555555555555556,
              "#d8576b"
             ],
             [
              0.6666666666666666,
              "#ed7953"
             ],
             [
              0.7777777777777778,
              "#fb9f3a"
             ],
             [
              0.8888888888888888,
              "#fdca26"
             ],
             [
              1,
              "#f0f921"
             ]
            ],
            "type": "surface"
           }
          ],
          "table": [
           {
            "cells": {
             "fill": {
              "color": "#EBF0F8"
             },
             "line": {
              "color": "white"
             }
            },
            "header": {
             "fill": {
              "color": "#C8D4E3"
             },
             "line": {
              "color": "white"
             }
            },
            "type": "table"
           }
          ]
         },
         "layout": {
          "annotationdefaults": {
           "arrowcolor": "#2a3f5f",
           "arrowhead": 0,
           "arrowwidth": 1
          },
          "autotypenumbers": "strict",
          "coloraxis": {
           "colorbar": {
            "outlinewidth": 0,
            "ticks": ""
           }
          },
          "colorscale": {
           "diverging": [
            [
             0,
             "#8e0152"
            ],
            [
             0.1,
             "#c51b7d"
            ],
            [
             0.2,
             "#de77ae"
            ],
            [
             0.3,
             "#f1b6da"
            ],
            [
             0.4,
             "#fde0ef"
            ],
            [
             0.5,
             "#f7f7f7"
            ],
            [
             0.6,
             "#e6f5d0"
            ],
            [
             0.7,
             "#b8e186"
            ],
            [
             0.8,
             "#7fbc41"
            ],
            [
             0.9,
             "#4d9221"
            ],
            [
             1,
             "#276419"
            ]
           ],
           "sequential": [
            [
             0,
             "#0d0887"
            ],
            [
             0.1111111111111111,
             "#46039f"
            ],
            [
             0.2222222222222222,
             "#7201a8"
            ],
            [
             0.3333333333333333,
             "#9c179e"
            ],
            [
             0.4444444444444444,
             "#bd3786"
            ],
            [
             0.5555555555555556,
             "#d8576b"
            ],
            [
             0.6666666666666666,
             "#ed7953"
            ],
            [
             0.7777777777777778,
             "#fb9f3a"
            ],
            [
             0.8888888888888888,
             "#fdca26"
            ],
            [
             1,
             "#f0f921"
            ]
           ],
           "sequentialminus": [
            [
             0,
             "#0d0887"
            ],
            [
             0.1111111111111111,
             "#46039f"
            ],
            [
             0.2222222222222222,
             "#7201a8"
            ],
            [
             0.3333333333333333,
             "#9c179e"
            ],
            [
             0.4444444444444444,
             "#bd3786"
            ],
            [
             0.5555555555555556,
             "#d8576b"
            ],
            [
             0.6666666666666666,
             "#ed7953"
            ],
            [
             0.7777777777777778,
             "#fb9f3a"
            ],
            [
             0.8888888888888888,
             "#fdca26"
            ],
            [
             1,
             "#f0f921"
            ]
           ]
          },
          "colorway": [
           "#636efa",
           "#EF553B",
           "#00cc96",
           "#ab63fa",
           "#FFA15A",
           "#19d3f3",
           "#FF6692",
           "#B6E880",
           "#FF97FF",
           "#FECB52"
          ],
          "font": {
           "color": "#2a3f5f"
          },
          "geo": {
           "bgcolor": "white",
           "lakecolor": "white",
           "landcolor": "#E5ECF6",
           "showlakes": true,
           "showland": true,
           "subunitcolor": "white"
          },
          "hoverlabel": {
           "align": "left"
          },
          "hovermode": "closest",
          "mapbox": {
           "style": "light"
          },
          "paper_bgcolor": "white",
          "plot_bgcolor": "#E5ECF6",
          "polar": {
           "angularaxis": {
            "gridcolor": "white",
            "linecolor": "white",
            "ticks": ""
           },
           "bgcolor": "#E5ECF6",
           "radialaxis": {
            "gridcolor": "white",
            "linecolor": "white",
            "ticks": ""
           }
          },
          "scene": {
           "xaxis": {
            "backgroundcolor": "#E5ECF6",
            "gridcolor": "white",
            "gridwidth": 2,
            "linecolor": "white",
            "showbackground": true,
            "ticks": "",
            "zerolinecolor": "white"
           },
           "yaxis": {
            "backgroundcolor": "#E5ECF6",
            "gridcolor": "white",
            "gridwidth": 2,
            "linecolor": "white",
            "showbackground": true,
            "ticks": "",
            "zerolinecolor": "white"
           },
           "zaxis": {
            "backgroundcolor": "#E5ECF6",
            "gridcolor": "white",
            "gridwidth": 2,
            "linecolor": "white",
            "showbackground": true,
            "ticks": "",
            "zerolinecolor": "white"
           }
          },
          "shapedefaults": {
           "line": {
            "color": "#2a3f5f"
           }
          },
          "ternary": {
           "aaxis": {
            "gridcolor": "white",
            "linecolor": "white",
            "ticks": ""
           },
           "baxis": {
            "gridcolor": "white",
            "linecolor": "white",
            "ticks": ""
           },
           "bgcolor": "#E5ECF6",
           "caxis": {
            "gridcolor": "white",
            "linecolor": "white",
            "ticks": ""
           }
          },
          "title": {
           "x": 0.05
          },
          "xaxis": {
           "automargin": true,
           "gridcolor": "white",
           "linecolor": "white",
           "ticks": "",
           "title": {
            "standoff": 15
           },
           "zerolinecolor": "white",
           "zerolinewidth": 2
          },
          "yaxis": {
           "automargin": true,
           "gridcolor": "white",
           "linecolor": "white",
           "ticks": "",
           "title": {
            "standoff": 15
           },
           "zerolinecolor": "white",
           "zerolinewidth": 2
          }
         }
        },
        "title": {
         "text": "Доля невозврата по Цель кредита"
        },
        "xaxis": {
         "anchor": "y",
         "domain": [
          0,
          1
         ],
         "title": {
          "text": "Цель кредита"
         }
        },
        "yaxis": {
         "anchor": "x",
         "domain": [
          0,
          1
         ],
         "title": {
          "text": "Доля невозврата, %"
         }
        }
       }
      },
      "text/html": [
       "<div>                            <div id=\"5d5bd069-c955-41ec-8e84-e0b556355755\" class=\"plotly-graph-div\" style=\"height:525px; width:100%;\"></div>            <script type=\"text/javascript\">                require([\"plotly\"], function(Plotly) {                    window.PLOTLYENV=window.PLOTLYENV || {};                                    if (document.getElementById(\"5d5bd069-c955-41ec-8e84-e0b556355755\")) {                    Plotly.newPlot(                        \"5d5bd069-c955-41ec-8e84-e0b556355755\",                        [{\"alignmentgroup\":\"True\",\"hovertemplate\":\"\\u0426\\u0435\\u043b\\u044c \\u043a\\u0440\\u0435\\u0434\\u0438\\u0442\\u0430=%{x}<br>\\u0414\\u043e\\u043b\\u044f \\u043d\\u0435\\u0432\\u043e\\u0437\\u0432\\u0440\\u0430\\u0442\\u0430, %=%{marker.color}<extra></extra>\",\"legendgroup\":\"\",\"marker\":{\"color\":[9.35,7.26,9.25,7.91],\"coloraxis\":\"coloraxis\",\"pattern\":{\"shape\":\"\"}},\"name\":\"\",\"offsetgroup\":\"\",\"orientation\":\"v\",\"showlegend\":false,\"textposition\":\"auto\",\"x\":[\"\\u043e\\u043f\\u0435\\u0440\\u0430\\u0446\\u0438\\u0438 \\u0441 \\u0430\\u0432\\u0442\\u043e\\u043c\\u043e\\u0431\\u0438\\u043b\\u0435\\u043c\",\"\\u043e\\u043f\\u0435\\u0440\\u0430\\u0446\\u0438\\u0438 \\u0441 \\u043d\\u0435\\u0434\\u0432\\u0438\\u0436\\u0438\\u043c\\u043e\\u0441\\u0442\\u044c\\u044e\",\"\\u043f\\u043e\\u043b\\u0443\\u0447\\u0435\\u043d\\u0438\\u0435 \\u043e\\u0431\\u0440\\u0430\\u0437\\u043e\\u0432\\u0430\\u043d\\u0438\\u044f\",\"\\u043f\\u0440\\u043e\\u0432\\u0435\\u0434\\u0435\\u043d\\u0438\\u0435 \\u0441\\u0432\\u0430\\u0434\\u044c\\u0431\\u044b\"],\"xaxis\":\"x\",\"y\":[9.35,7.26,9.25,7.91],\"yaxis\":\"y\",\"type\":\"bar\"}],                        {\"template\":{\"data\":{\"bar\":[{\"error_x\":{\"color\":\"#2a3f5f\"},\"error_y\":{\"color\":\"#2a3f5f\"},\"marker\":{\"line\":{\"color\":\"#E5ECF6\",\"width\":0.5},\"pattern\":{\"fillmode\":\"overlay\",\"size\":10,\"solidity\":0.2}},\"type\":\"bar\"}],\"barpolar\":[{\"marker\":{\"line\":{\"color\":\"#E5ECF6\",\"width\":0.5},\"pattern\":{\"fillmode\":\"overlay\",\"size\":10,\"solidity\":0.2}},\"type\":\"barpolar\"}],\"carpet\":[{\"aaxis\":{\"endlinecolor\":\"#2a3f5f\",\"gridcolor\":\"white\",\"linecolor\":\"white\",\"minorgridcolor\":\"white\",\"startlinecolor\":\"#2a3f5f\"},\"baxis\":{\"endlinecolor\":\"#2a3f5f\",\"gridcolor\":\"white\",\"linecolor\":\"white\",\"minorgridcolor\":\"white\",\"startlinecolor\":\"#2a3f5f\"},\"type\":\"carpet\"}],\"choropleth\":[{\"colorbar\":{\"outlinewidth\":0,\"ticks\":\"\"},\"type\":\"choropleth\"}],\"contour\":[{\"colorbar\":{\"outlinewidth\":0,\"ticks\":\"\"},\"colorscale\":[[0.0,\"#0d0887\"],[0.1111111111111111,\"#46039f\"],[0.2222222222222222,\"#7201a8\"],[0.3333333333333333,\"#9c179e\"],[0.4444444444444444,\"#bd3786\"],[0.5555555555555556,\"#d8576b\"],[0.6666666666666666,\"#ed7953\"],[0.7777777777777778,\"#fb9f3a\"],[0.8888888888888888,\"#fdca26\"],[1.0,\"#f0f921\"]],\"type\":\"contour\"}],\"contourcarpet\":[{\"colorbar\":{\"outlinewidth\":0,\"ticks\":\"\"},\"type\":\"contourcarpet\"}],\"heatmap\":[{\"colorbar\":{\"outlinewidth\":0,\"ticks\":\"\"},\"colorscale\":[[0.0,\"#0d0887\"],[0.1111111111111111,\"#46039f\"],[0.2222222222222222,\"#7201a8\"],[0.3333333333333333,\"#9c179e\"],[0.4444444444444444,\"#bd3786\"],[0.5555555555555556,\"#d8576b\"],[0.6666666666666666,\"#ed7953\"],[0.7777777777777778,\"#fb9f3a\"],[0.8888888888888888,\"#fdca26\"],[1.0,\"#f0f921\"]],\"type\":\"heatmap\"}],\"heatmapgl\":[{\"colorbar\":{\"outlinewidth\":0,\"ticks\":\"\"},\"colorscale\":[[0.0,\"#0d0887\"],[0.1111111111111111,\"#46039f\"],[0.2222222222222222,\"#7201a8\"],[0.3333333333333333,\"#9c179e\"],[0.4444444444444444,\"#bd3786\"],[0.5555555555555556,\"#d8576b\"],[0.6666666666666666,\"#ed7953\"],[0.7777777777777778,\"#fb9f3a\"],[0.8888888888888888,\"#fdca26\"],[1.0,\"#f0f921\"]],\"type\":\"heatmapgl\"}],\"histogram\":[{\"marker\":{\"pattern\":{\"fillmode\":\"overlay\",\"size\":10,\"solidity\":0.2}},\"type\":\"histogram\"}],\"histogram2d\":[{\"colorbar\":{\"outlinewidth\":0,\"ticks\":\"\"},\"colorscale\":[[0.0,\"#0d0887\"],[0.1111111111111111,\"#46039f\"],[0.2222222222222222,\"#7201a8\"],[0.3333333333333333,\"#9c179e\"],[0.4444444444444444,\"#bd3786\"],[0.5555555555555556,\"#d8576b\"],[0.6666666666666666,\"#ed7953\"],[0.7777777777777778,\"#fb9f3a\"],[0.8888888888888888,\"#fdca26\"],[1.0,\"#f0f921\"]],\"type\":\"histogram2d\"}],\"histogram2dcontour\":[{\"colorbar\":{\"outlinewidth\":0,\"ticks\":\"\"},\"colorscale\":[[0.0,\"#0d0887\"],[0.1111111111111111,\"#46039f\"],[0.2222222222222222,\"#7201a8\"],[0.3333333333333333,\"#9c179e\"],[0.4444444444444444,\"#bd3786\"],[0.5555555555555556,\"#d8576b\"],[0.6666666666666666,\"#ed7953\"],[0.7777777777777778,\"#fb9f3a\"],[0.8888888888888888,\"#fdca26\"],[1.0,\"#f0f921\"]],\"type\":\"histogram2dcontour\"}],\"mesh3d\":[{\"colorbar\":{\"outlinewidth\":0,\"ticks\":\"\"},\"type\":\"mesh3d\"}],\"parcoords\":[{\"line\":{\"colorbar\":{\"outlinewidth\":0,\"ticks\":\"\"}},\"type\":\"parcoords\"}],\"pie\":[{\"automargin\":true,\"type\":\"pie\"}],\"scatter\":[{\"marker\":{\"colorbar\":{\"outlinewidth\":0,\"ticks\":\"\"}},\"type\":\"scatter\"}],\"scatter3d\":[{\"line\":{\"colorbar\":{\"outlinewidth\":0,\"ticks\":\"\"}},\"marker\":{\"colorbar\":{\"outlinewidth\":0,\"ticks\":\"\"}},\"type\":\"scatter3d\"}],\"scattercarpet\":[{\"marker\":{\"colorbar\":{\"outlinewidth\":0,\"ticks\":\"\"}},\"type\":\"scattercarpet\"}],\"scattergeo\":[{\"marker\":{\"colorbar\":{\"outlinewidth\":0,\"ticks\":\"\"}},\"type\":\"scattergeo\"}],\"scattergl\":[{\"marker\":{\"colorbar\":{\"outlinewidth\":0,\"ticks\":\"\"}},\"type\":\"scattergl\"}],\"scattermapbox\":[{\"marker\":{\"colorbar\":{\"outlinewidth\":0,\"ticks\":\"\"}},\"type\":\"scattermapbox\"}],\"scatterpolar\":[{\"marker\":{\"colorbar\":{\"outlinewidth\":0,\"ticks\":\"\"}},\"type\":\"scatterpolar\"}],\"scatterpolargl\":[{\"marker\":{\"colorbar\":{\"outlinewidth\":0,\"ticks\":\"\"}},\"type\":\"scatterpolargl\"}],\"scatterternary\":[{\"marker\":{\"colorbar\":{\"outlinewidth\":0,\"ticks\":\"\"}},\"type\":\"scatterternary\"}],\"surface\":[{\"colorbar\":{\"outlinewidth\":0,\"ticks\":\"\"},\"colorscale\":[[0.0,\"#0d0887\"],[0.1111111111111111,\"#46039f\"],[0.2222222222222222,\"#7201a8\"],[0.3333333333333333,\"#9c179e\"],[0.4444444444444444,\"#bd3786\"],[0.5555555555555556,\"#d8576b\"],[0.6666666666666666,\"#ed7953\"],[0.7777777777777778,\"#fb9f3a\"],[0.8888888888888888,\"#fdca26\"],[1.0,\"#f0f921\"]],\"type\":\"surface\"}],\"table\":[{\"cells\":{\"fill\":{\"color\":\"#EBF0F8\"},\"line\":{\"color\":\"white\"}},\"header\":{\"fill\":{\"color\":\"#C8D4E3\"},\"line\":{\"color\":\"white\"}},\"type\":\"table\"}]},\"layout\":{\"annotationdefaults\":{\"arrowcolor\":\"#2a3f5f\",\"arrowhead\":0,\"arrowwidth\":1},\"autotypenumbers\":\"strict\",\"coloraxis\":{\"colorbar\":{\"outlinewidth\":0,\"ticks\":\"\"}},\"colorscale\":{\"diverging\":[[0,\"#8e0152\"],[0.1,\"#c51b7d\"],[0.2,\"#de77ae\"],[0.3,\"#f1b6da\"],[0.4,\"#fde0ef\"],[0.5,\"#f7f7f7\"],[0.6,\"#e6f5d0\"],[0.7,\"#b8e186\"],[0.8,\"#7fbc41\"],[0.9,\"#4d9221\"],[1,\"#276419\"]],\"sequential\":[[0.0,\"#0d0887\"],[0.1111111111111111,\"#46039f\"],[0.2222222222222222,\"#7201a8\"],[0.3333333333333333,\"#9c179e\"],[0.4444444444444444,\"#bd3786\"],[0.5555555555555556,\"#d8576b\"],[0.6666666666666666,\"#ed7953\"],[0.7777777777777778,\"#fb9f3a\"],[0.8888888888888888,\"#fdca26\"],[1.0,\"#f0f921\"]],\"sequentialminus\":[[0.0,\"#0d0887\"],[0.1111111111111111,\"#46039f\"],[0.2222222222222222,\"#7201a8\"],[0.3333333333333333,\"#9c179e\"],[0.4444444444444444,\"#bd3786\"],[0.5555555555555556,\"#d8576b\"],[0.6666666666666666,\"#ed7953\"],[0.7777777777777778,\"#fb9f3a\"],[0.8888888888888888,\"#fdca26\"],[1.0,\"#f0f921\"]]},\"colorway\":[\"#636efa\",\"#EF553B\",\"#00cc96\",\"#ab63fa\",\"#FFA15A\",\"#19d3f3\",\"#FF6692\",\"#B6E880\",\"#FF97FF\",\"#FECB52\"],\"font\":{\"color\":\"#2a3f5f\"},\"geo\":{\"bgcolor\":\"white\",\"lakecolor\":\"white\",\"landcolor\":\"#E5ECF6\",\"showlakes\":true,\"showland\":true,\"subunitcolor\":\"white\"},\"hoverlabel\":{\"align\":\"left\"},\"hovermode\":\"closest\",\"mapbox\":{\"style\":\"light\"},\"paper_bgcolor\":\"white\",\"plot_bgcolor\":\"#E5ECF6\",\"polar\":{\"angularaxis\":{\"gridcolor\":\"white\",\"linecolor\":\"white\",\"ticks\":\"\"},\"bgcolor\":\"#E5ECF6\",\"radialaxis\":{\"gridcolor\":\"white\",\"linecolor\":\"white\",\"ticks\":\"\"}},\"scene\":{\"xaxis\":{\"backgroundcolor\":\"#E5ECF6\",\"gridcolor\":\"white\",\"gridwidth\":2,\"linecolor\":\"white\",\"showbackground\":true,\"ticks\":\"\",\"zerolinecolor\":\"white\"},\"yaxis\":{\"backgroundcolor\":\"#E5ECF6\",\"gridcolor\":\"white\",\"gridwidth\":2,\"linecolor\":\"white\",\"showbackground\":true,\"ticks\":\"\",\"zerolinecolor\":\"white\"},\"zaxis\":{\"backgroundcolor\":\"#E5ECF6\",\"gridcolor\":\"white\",\"gridwidth\":2,\"linecolor\":\"white\",\"showbackground\":true,\"ticks\":\"\",\"zerolinecolor\":\"white\"}},\"shapedefaults\":{\"line\":{\"color\":\"#2a3f5f\"}},\"ternary\":{\"aaxis\":{\"gridcolor\":\"white\",\"linecolor\":\"white\",\"ticks\":\"\"},\"baxis\":{\"gridcolor\":\"white\",\"linecolor\":\"white\",\"ticks\":\"\"},\"bgcolor\":\"#E5ECF6\",\"caxis\":{\"gridcolor\":\"white\",\"linecolor\":\"white\",\"ticks\":\"\"}},\"title\":{\"x\":0.05},\"xaxis\":{\"automargin\":true,\"gridcolor\":\"white\",\"linecolor\":\"white\",\"ticks\":\"\",\"title\":{\"standoff\":15},\"zerolinecolor\":\"white\",\"zerolinewidth\":2},\"yaxis\":{\"automargin\":true,\"gridcolor\":\"white\",\"linecolor\":\"white\",\"ticks\":\"\",\"title\":{\"standoff\":15},\"zerolinecolor\":\"white\",\"zerolinewidth\":2}}},\"xaxis\":{\"anchor\":\"y\",\"domain\":[0.0,1.0],\"title\":{\"text\":\"\\u0426\\u0435\\u043b\\u044c \\u043a\\u0440\\u0435\\u0434\\u0438\\u0442\\u0430\"}},\"yaxis\":{\"anchor\":\"x\",\"domain\":[0.0,1.0],\"title\":{\"text\":\"\\u0414\\u043e\\u043b\\u044f \\u043d\\u0435\\u0432\\u043e\\u0437\\u0432\\u0440\\u0430\\u0442\\u0430, %\"}},\"coloraxis\":{\"colorbar\":{\"title\":{\"text\":\"\\u0414\\u043e\\u043b\\u044f \\u043d\\u0435\\u0432\\u043e\\u0437\\u0432\\u0440\\u0430\\u0442\\u0430, %\"}},\"colorscale\":[[0.0,\"#0d0887\"],[0.1111111111111111,\"#46039f\"],[0.2222222222222222,\"#7201a8\"],[0.3333333333333333,\"#9c179e\"],[0.4444444444444444,\"#bd3786\"],[0.5555555555555556,\"#d8576b\"],[0.6666666666666666,\"#ed7953\"],[0.7777777777777778,\"#fb9f3a\"],[0.8888888888888888,\"#fdca26\"],[1.0,\"#f0f921\"]]},\"legend\":{\"tracegroupgap\":0},\"title\":{\"text\":\"\\u0414\\u043e\\u043b\\u044f \\u043d\\u0435\\u0432\\u043e\\u0437\\u0432\\u0440\\u0430\\u0442\\u0430 \\u043f\\u043e \\u0426\\u0435\\u043b\\u044c \\u043a\\u0440\\u0435\\u0434\\u0438\\u0442\\u0430\"},\"barmode\":\"relative\"},                        {\"responsive\": true}                    ).then(function(){\n",
       "                            \n",
       "var gd = document.getElementById('5d5bd069-c955-41ec-8e84-e0b556355755');\n",
       "var x = new MutationObserver(function (mutations, observer) {{\n",
       "        var display = window.getComputedStyle(gd).display;\n",
       "        if (!display || display === 'none') {{\n",
       "            console.log([gd, 'removed!']);\n",
       "            Plotly.purge(gd);\n",
       "            observer.disconnect();\n",
       "        }}\n",
       "}});\n",
       "\n",
       "// Listen for the removal of the full notebook cells\n",
       "var notebookContainer = gd.closest('#notebook-container');\n",
       "if (notebookContainer) {{\n",
       "    x.observe(notebookContainer, {childList: true});\n",
       "}}\n",
       "\n",
       "// Listen for the clearing of the current output cell\n",
       "var outputEl = gd.closest('.output');\n",
       "if (outputEl) {{\n",
       "    x.observe(outputEl, {childList: true});\n",
       "}}\n",
       "\n",
       "                        })                };                });            </script>        </div>"
      ]
     },
     "metadata": {},
     "output_type": "display_data"
    }
   ],
   "source": [
    "debt_ratio(data, 'Цель кредита')"
   ]
  },
  {
   "attachments": {
    "newplot%20%2836%29.png": {
     "image/png": "[encoded data removed]"
    }
   },
   "cell_type": "markdown",
   "id": "45f9442e",
   "metadata": {},
   "source": [
    "![newplot%20%2836%29.png](attachment:newplot%20%2836%29.png)"
   ]
  },
  {
   "cell_type": "markdown",
   "id": "40d20ae8",
   "metadata": {
    "id": "b4bb2ce6"
   },
   "source": [
    "**Вывод:** "
   ]
  },
  {
   "cell_type": "markdown",
   "id": "cebf01c3",
   "metadata": {},
   "source": [
    "Операции с автомобилем и получение образования - наиболее рискованные, а операции с недвижимостью - наиболее безопасные."
   ]
  },
  {
   "cell_type": "markdown",
   "id": "1dc28be7",
   "metadata": {
    "id": "09c3ac4c"
   },
   "source": [
    "#### 3.5 Возможные причины появления пропусков в исходных данных."
   ]
  },
  {
   "cell_type": "markdown",
   "id": "98d60ccc",
   "metadata": {
    "id": "9da2ceda"
   },
   "source": [
    " Возможны два основных фактора пропусков в исходных данных: человеческий и технический.   \n",
    "**Человеческий**: клиенты могли не предоставлять данные, либо данная информация не требовалась в каких-то случаях.   \n",
    "**Технический**: На этапе загрузки/выгрузки данных; неверно составленный запрос либо объединение таблиц. \n"
   ]
  },
  {
   "cell_type": "markdown",
   "id": "1f507226",
   "metadata": {
    "id": "7b0487d6"
   },
   "source": [
    "#### 3.6 Почему заполнить пропуски медианным значением лучшее решение для количественных переменных?"
   ]
  },
  {
   "cell_type": "markdown",
   "id": "1e6cf438",
   "metadata": {
    "id": "7ecf2b8e"
   },
   "source": [
    "Медианное значение не так чувствительно к \"выбросам\" и является более подходящей мерой, чем \"среднее\", а следовательно показывает более явную и правдоподобную картину о столбце данных, к которому применяется. Рассмотрим пример на списке дат постройки зданий: "
   ]
  },
  {
   "cell_type": "code",
   "execution_count": 30,
   "id": "3ad34c6e",
   "metadata": {},
   "outputs": [
    {
     "name": "stdout",
     "output_type": "stream",
     "text": [
      "1966.8\n",
      "2001\n"
     ]
    }
   ],
   "source": [
    "import statistics as stat\n",
    "building_year = [1820, 2001, 2010, 1998, 2005]\n",
    "print(stat.mean(building_year))\n",
    "print(stat.median(building_year))"
   ]
  },
  {
   "cell_type": "markdown",
   "id": "05154512",
   "metadata": {},
   "source": [
    "При подсчете среднего всего одно старое здание \"состарило\" все наши здания на 34 года по сравнению с медианным значением"
   ]
  },
  {
   "cell_type": "markdown",
   "id": "cd65adcd",
   "metadata": {
    "id": "6db5255a"
   },
   "source": [
    "### Шаг 4: общий вывод."
   ]
  },
  {
   "cell_type": "markdown",
   "id": "99ea1b28",
   "metadata": {},
   "source": [
    "Наиболее рискованным для банка с точки зрения возврата кредита будет не женатый / не замужний клиент с 4 детьми, с категорией дохода \"Е\", с целью совершения операций с автомобилем. \n",
    "Но, видимо, в нашем датафрейме нет наблюдений, удовлетворяющих всем этим запросам:"
   ]
  },
  {
   "cell_type": "code",
   "execution_count": 31,
   "id": "a54e2511",
   "metadata": {
    "scrolled": true
   },
   "outputs": [
    {
     "data": {
      "text/html": [
       "<div>\n",
       "<style scoped>\n",
       "    .dataframe tbody tr th:only-of-type {\n",
       "        vertical-align: middle;\n",
       "    }\n",
       "\n",
       "    .dataframe tbody tr th {\n",
       "        vertical-align: top;\n",
       "    }\n",
       "\n",
       "    .dataframe thead th {\n",
       "        text-align: right;\n",
       "    }\n",
       "</style>\n",
       "<table border=\"1\" class=\"dataframe\">\n",
       "  <thead>\n",
       "    <tr style=\"text-align: right;\">\n",
       "      <th></th>\n",
       "      <th>Кол-во детей</th>\n",
       "      <th>days_employed</th>\n",
       "      <th>dob_years</th>\n",
       "      <th>education</th>\n",
       "      <th>education_id</th>\n",
       "      <th>Семейное положение</th>\n",
       "      <th>family_status_id</th>\n",
       "      <th>gender</th>\n",
       "      <th>income_type</th>\n",
       "      <th>Доля должников, %</th>\n",
       "      <th>total_income</th>\n",
       "      <th>purpose</th>\n",
       "      <th>Категория дохода</th>\n",
       "      <th>Цель кредита</th>\n",
       "    </tr>\n",
       "  </thead>\n",
       "  <tbody>\n",
       "  </tbody>\n",
       "</table>\n",
       "</div>"
      ],
      "text/plain": [
       "Empty DataFrame\n",
       "Columns: [Кол-во детей, days_employed, dob_years, education, education_id, Семейное положение, family_status_id, gender, income_type, Доля должников, %, total_income, purpose, Категория дохода, Цель кредита]\n",
       "Index: []"
      ]
     },
     "execution_count": 31,
     "metadata": {},
     "output_type": "execute_result"
    }
   ],
   "source": [
    "data.loc[(data['Семейное положение'] == 'Не женат / не замужем') & \\\n",
    "                      (data['Цель кредита'] == 'операции с автомобилем') & \\\n",
    "                      (data['Кол-во детей'] == 4) & \\\n",
    "                      (data['Категория дохода'] == 'E')]"
   ]
  }
 ],
 "metadata": {
  "ExecuteTimeLog": [
   {
    "duration": 459,
    "start_time": "2022-09-22T14:15:40.564Z"
   },
   {
    "duration": 21,
    "start_time": "2022-09-22T14:15:45.747Z"
   },
   {
    "duration": 10,
    "start_time": "2022-09-22T14:15:59.691Z"
   },
   {
    "duration": 30,
    "start_time": "2022-09-22T14:16:07.589Z"
   },
   {
    "duration": 3,
    "start_time": "2022-09-22T14:16:09.589Z"
   },
   {
    "duration": 8,
    "start_time": "2022-09-22T14:16:16.870Z"
   },
   {
    "duration": 5,
    "start_time": "2022-09-22T14:16:19.838Z"
   },
   {
    "duration": 8,
    "start_time": "2022-09-22T14:16:20.566Z"
   },
   {
    "duration": 4,
    "start_time": "2022-09-22T14:16:21.142Z"
   },
   {
    "duration": 31,
    "start_time": "2022-09-22T14:16:22.127Z"
   },
   {
    "duration": 8,
    "start_time": "2022-09-22T14:16:23.255Z"
   },
   {
    "duration": 4,
    "start_time": "2022-09-22T14:16:25.223Z"
   },
   {
    "duration": 11,
    "start_time": "2022-09-22T14:16:26.430Z"
   },
   {
    "duration": 20,
    "start_time": "2022-09-22T14:16:27.311Z"
   },
   {
    "duration": 17,
    "start_time": "2022-09-22T14:16:27.767Z"
   },
   {
    "duration": 3,
    "start_time": "2022-09-22T14:16:29.174Z"
   },
   {
    "duration": 10,
    "start_time": "2022-09-22T14:16:29.511Z"
   },
   {
    "duration": 7,
    "start_time": "2022-09-22T14:16:30.719Z"
   },
   {
    "duration": 3,
    "start_time": "2022-09-22T14:16:32.304Z"
   },
   {
    "duration": 8,
    "start_time": "2022-09-22T14:16:32.696Z"
   },
   {
    "duration": 24,
    "start_time": "2022-09-22T14:18:49.240Z"
   },
   {
    "duration": 61,
    "start_time": "2022-09-22T14:21:39.075Z"
   },
   {
    "duration": 9,
    "start_time": "2022-09-22T14:21:45.950Z"
   },
   {
    "duration": 8,
    "start_time": "2022-09-22T14:21:55.727Z"
   },
   {
    "duration": 8,
    "start_time": "2022-09-22T14:22:57.400Z"
   },
   {
    "duration": 21,
    "start_time": "2022-09-22T14:25:26.946Z"
   },
   {
    "duration": 20,
    "start_time": "2022-09-22T14:35:29.090Z"
   },
   {
    "duration": 48,
    "start_time": "2022-09-22T14:37:48.413Z"
   },
   {
    "duration": 63,
    "start_time": "2022-09-22T14:38:26.764Z"
   },
   {
    "duration": 16,
    "start_time": "2022-09-22T14:38:32.269Z"
   },
   {
    "duration": 52,
    "start_time": "2022-09-22T14:39:00.489Z"
   },
   {
    "duration": 43,
    "start_time": "2022-09-22T14:39:40.645Z"
   },
   {
    "duration": 32,
    "start_time": "2022-09-22T14:44:42.541Z"
   },
   {
    "duration": 20,
    "start_time": "2022-09-22T14:45:23.586Z"
   },
   {
    "duration": 10,
    "start_time": "2022-09-22T14:46:02.734Z"
   },
   {
    "duration": 21,
    "start_time": "2022-09-22T14:51:44.474Z"
   },
   {
    "duration": 20,
    "start_time": "2022-09-22T14:52:15.864Z"
   },
   {
    "duration": 22,
    "start_time": "2022-09-22T14:55:56.375Z"
   },
   {
    "duration": 13,
    "start_time": "2022-09-22T14:56:47.969Z"
   },
   {
    "duration": 13,
    "start_time": "2022-09-22T14:56:54.521Z"
   },
   {
    "duration": 13,
    "start_time": "2022-09-22T14:57:00.521Z"
   },
   {
    "duration": 12,
    "start_time": "2022-09-22T15:02:02.893Z"
   },
   {
    "duration": 20,
    "start_time": "2022-09-22T15:10:02.999Z"
   },
   {
    "duration": 22,
    "start_time": "2022-09-22T15:10:09.034Z"
   },
   {
    "duration": 7,
    "start_time": "2022-09-22T15:11:58.366Z"
   },
   {
    "duration": 8,
    "start_time": "2022-09-22T15:12:03.230Z"
   },
   {
    "duration": 8,
    "start_time": "2022-09-22T15:12:25.874Z"
   },
   {
    "duration": 8,
    "start_time": "2022-09-22T15:13:13.303Z"
   },
   {
    "duration": 10,
    "start_time": "2022-09-22T15:13:16.920Z"
   },
   {
    "duration": 7,
    "start_time": "2022-09-22T15:13:30.106Z"
   },
   {
    "duration": 6,
    "start_time": "2022-09-22T15:14:05.959Z"
   },
   {
    "duration": 21,
    "start_time": "2022-09-22T15:17:03.862Z"
   },
   {
    "duration": 20,
    "start_time": "2022-09-22T15:17:24.968Z"
   },
   {
    "duration": 21,
    "start_time": "2022-09-22T15:21:21.662Z"
   },
   {
    "duration": 30,
    "start_time": "2022-09-22T15:30:22.879Z"
   },
   {
    "duration": 30,
    "start_time": "2022-09-22T15:31:16.499Z"
   },
   {
    "duration": 27,
    "start_time": "2022-09-22T15:35:21.308Z"
   },
   {
    "duration": 28,
    "start_time": "2022-09-22T15:41:54.899Z"
   },
   {
    "duration": 31,
    "start_time": "2022-09-22T15:45:11.283Z"
   },
   {
    "duration": 30,
    "start_time": "2022-09-22T15:45:30.453Z"
   },
   {
    "duration": 33,
    "start_time": "2022-09-22T15:47:55.279Z"
   },
   {
    "duration": 30,
    "start_time": "2022-09-22T15:48:11.529Z"
   },
   {
    "duration": 26,
    "start_time": "2022-09-22T15:48:47.526Z"
   },
   {
    "duration": 24,
    "start_time": "2022-09-22T15:50:20.157Z"
   },
   {
    "duration": 23,
    "start_time": "2022-09-22T15:51:53.889Z"
   },
   {
    "duration": 25,
    "start_time": "2022-09-22T15:52:12.038Z"
   },
   {
    "duration": 82,
    "start_time": "2022-09-22T15:53:48.769Z"
   },
   {
    "duration": 7,
    "start_time": "2022-09-22T16:12:34.490Z"
   },
   {
    "duration": 13,
    "start_time": "2022-09-22T16:13:37.038Z"
   },
   {
    "duration": 4,
    "start_time": "2022-09-22T16:13:59.174Z"
   },
   {
    "duration": 3,
    "start_time": "2022-09-22T16:14:13.830Z"
   },
   {
    "duration": 52,
    "start_time": "2022-09-22T16:15:52.561Z"
   },
   {
    "duration": 47,
    "start_time": "2022-09-22T16:37:37.926Z"
   },
   {
    "duration": 70,
    "start_time": "2022-09-22T16:38:07.191Z"
   },
   {
    "duration": 19,
    "start_time": "2022-09-22T16:42:25.469Z"
   },
   {
    "duration": 13,
    "start_time": "2022-09-22T16:42:34.401Z"
   },
   {
    "duration": 9,
    "start_time": "2022-09-22T16:43:19.767Z"
   },
   {
    "duration": 16,
    "start_time": "2022-09-22T16:45:59.358Z"
   },
   {
    "duration": 28,
    "start_time": "2022-09-22T16:46:26.020Z"
   },
   {
    "duration": 12,
    "start_time": "2022-09-22T16:47:46.622Z"
   },
   {
    "duration": 11,
    "start_time": "2022-09-22T16:48:37.411Z"
   },
   {
    "duration": 18,
    "start_time": "2022-09-22T16:48:47.048Z"
   },
   {
    "duration": 19,
    "start_time": "2022-09-22T16:48:57.506Z"
   },
   {
    "duration": 12,
    "start_time": "2022-09-22T16:51:06.165Z"
   },
   {
    "duration": 12,
    "start_time": "2022-09-22T16:51:55.516Z"
   },
   {
    "duration": 463,
    "start_time": "2022-09-22T18:41:50.919Z"
   },
   {
    "duration": 23,
    "start_time": "2022-09-22T18:41:51.383Z"
   },
   {
    "duration": 16,
    "start_time": "2022-09-22T18:41:51.407Z"
   },
   {
    "duration": 19,
    "start_time": "2022-09-22T18:41:51.425Z"
   },
   {
    "duration": 30,
    "start_time": "2022-09-22T18:41:51.445Z"
   },
   {
    "duration": 3,
    "start_time": "2022-09-22T18:41:51.477Z"
   },
   {
    "duration": 9,
    "start_time": "2022-09-22T18:41:51.481Z"
   },
   {
    "duration": 3,
    "start_time": "2022-09-22T18:41:51.492Z"
   },
   {
    "duration": 7,
    "start_time": "2022-09-22T18:41:51.509Z"
   },
   {
    "duration": 4,
    "start_time": "2022-09-22T18:41:51.520Z"
   },
   {
    "duration": 32,
    "start_time": "2022-09-22T18:41:51.525Z"
   },
   {
    "duration": 8,
    "start_time": "2022-09-22T18:41:51.558Z"
   },
   {
    "duration": 9,
    "start_time": "2022-09-22T18:41:51.568Z"
   },
   {
    "duration": 37,
    "start_time": "2022-09-22T18:41:51.578Z"
   },
   {
    "duration": 19,
    "start_time": "2022-09-22T18:41:51.616Z"
   },
   {
    "duration": 17,
    "start_time": "2022-09-22T18:41:51.636Z"
   },
   {
    "duration": 4,
    "start_time": "2022-09-22T18:41:51.654Z"
   },
   {
    "duration": 12,
    "start_time": "2022-09-22T18:41:51.660Z"
   },
   {
    "duration": 6,
    "start_time": "2022-09-22T18:41:51.673Z"
   },
   {
    "duration": 30,
    "start_time": "2022-09-22T18:41:51.680Z"
   },
   {
    "duration": 10,
    "start_time": "2022-09-22T18:41:51.711Z"
   },
   {
    "duration": 21,
    "start_time": "2022-09-22T18:41:51.722Z"
   },
   {
    "duration": 5,
    "start_time": "2022-09-22T18:41:51.744Z"
   },
   {
    "duration": 34,
    "start_time": "2022-09-22T18:41:51.750Z"
   },
   {
    "duration": 45,
    "start_time": "2022-09-22T18:41:51.785Z"
   },
   {
    "duration": 22,
    "start_time": "2022-09-22T18:41:51.831Z"
   },
   {
    "duration": 7,
    "start_time": "2022-09-22T18:41:51.855Z"
   },
   {
    "duration": 12,
    "start_time": "2022-09-22T18:41:51.865Z"
   },
   {
    "duration": 4,
    "start_time": "2022-09-22T18:48:58.035Z"
   },
   {
    "duration": 20,
    "start_time": "2022-09-22T18:52:20.852Z"
   },
   {
    "duration": 4,
    "start_time": "2022-09-22T20:03:32.990Z"
   },
   {
    "duration": 53,
    "start_time": "2022-09-22T20:07:51.435Z"
   },
   {
    "duration": 717,
    "start_time": "2022-09-22T20:08:11.022Z"
   },
   {
    "duration": 24,
    "start_time": "2022-09-22T20:08:17.925Z"
   },
   {
    "duration": 32,
    "start_time": "2022-09-22T20:29:06.139Z"
   },
   {
    "duration": 14,
    "start_time": "2022-09-22T20:37:39.586Z"
   },
   {
    "duration": 67,
    "start_time": "2022-09-22T20:37:56.921Z"
   },
   {
    "duration": 14,
    "start_time": "2022-09-22T20:37:56.990Z"
   },
   {
    "duration": 13,
    "start_time": "2022-09-22T20:37:57.005Z"
   },
   {
    "duration": 9,
    "start_time": "2022-09-22T20:37:57.020Z"
   },
   {
    "duration": 32,
    "start_time": "2022-09-22T20:37:57.030Z"
   },
   {
    "duration": 3,
    "start_time": "2022-09-22T20:37:57.064Z"
   },
   {
    "duration": 9,
    "start_time": "2022-09-22T20:37:57.068Z"
   },
   {
    "duration": 4,
    "start_time": "2022-09-22T20:37:57.078Z"
   },
   {
    "duration": 29,
    "start_time": "2022-09-22T20:37:57.083Z"
   },
   {
    "duration": 4,
    "start_time": "2022-09-22T20:37:57.114Z"
   },
   {
    "duration": 30,
    "start_time": "2022-09-22T20:37:57.119Z"
   },
   {
    "duration": 8,
    "start_time": "2022-09-22T20:37:57.150Z"
   },
   {
    "duration": 4,
    "start_time": "2022-09-22T20:37:57.160Z"
   },
   {
    "duration": 12,
    "start_time": "2022-09-22T20:37:57.165Z"
   },
   {
    "duration": 45,
    "start_time": "2022-09-22T20:37:57.178Z"
   },
   {
    "duration": 16,
    "start_time": "2022-09-22T20:37:57.225Z"
   },
   {
    "duration": 4,
    "start_time": "2022-09-22T20:37:57.242Z"
   },
   {
    "duration": 15,
    "start_time": "2022-09-22T20:37:57.247Z"
   },
   {
    "duration": 10,
    "start_time": "2022-09-22T20:37:57.264Z"
   },
   {
    "duration": 3,
    "start_time": "2022-09-22T20:37:57.276Z"
   },
   {
    "duration": 30,
    "start_time": "2022-09-22T20:37:57.281Z"
   },
   {
    "duration": 23,
    "start_time": "2022-09-22T20:37:57.312Z"
   },
   {
    "duration": 16,
    "start_time": "2022-09-22T20:38:01.140Z"
   },
   {
    "duration": 16,
    "start_time": "2022-09-22T20:38:24.470Z"
   },
   {
    "duration": 14,
    "start_time": "2022-09-22T20:38:25.631Z"
   },
   {
    "duration": 53,
    "start_time": "2022-09-22T20:39:23.381Z"
   },
   {
    "duration": 18,
    "start_time": "2022-09-22T20:39:28.799Z"
   },
   {
    "duration": 13,
    "start_time": "2022-09-22T20:42:25.187Z"
   },
   {
    "duration": 11,
    "start_time": "2022-09-22T20:42:44.117Z"
   },
   {
    "duration": 15,
    "start_time": "2022-09-22T20:43:29.394Z"
   },
   {
    "duration": 19,
    "start_time": "2022-09-22T20:44:29.547Z"
   },
   {
    "duration": 10,
    "start_time": "2022-09-22T20:45:04.319Z"
   },
   {
    "duration": 16,
    "start_time": "2022-09-22T20:45:41.362Z"
   },
   {
    "duration": 17,
    "start_time": "2022-09-22T20:46:21.279Z"
   },
   {
    "duration": 2088,
    "start_time": "2022-09-22T20:47:00.797Z"
   },
   {
    "duration": 485,
    "start_time": "2022-09-22T20:58:32.149Z"
   },
   {
    "duration": 17,
    "start_time": "2022-09-22T20:58:49.217Z"
   },
   {
    "duration": 526,
    "start_time": "2022-09-22T20:59:21.925Z"
   },
   {
    "duration": 17,
    "start_time": "2022-09-22T20:59:40.799Z"
   },
   {
    "duration": 761,
    "start_time": "2022-09-22T20:59:52.432Z"
   },
   {
    "duration": 23,
    "start_time": "2022-09-22T21:00:04.579Z"
   },
   {
    "duration": 17,
    "start_time": "2022-09-22T21:00:17.467Z"
   },
   {
    "duration": 12,
    "start_time": "2022-09-22T21:07:59.555Z"
   },
   {
    "duration": 14,
    "start_time": "2022-09-22T21:09:11.619Z"
   },
   {
    "duration": 59,
    "start_time": "2022-09-22T21:09:40.607Z"
   },
   {
    "duration": 42,
    "start_time": "2022-09-22T21:09:54.906Z"
   },
   {
    "duration": 43,
    "start_time": "2022-09-22T21:10:12.331Z"
   },
   {
    "duration": 36,
    "start_time": "2022-09-22T21:10:47.544Z"
   },
   {
    "duration": 24,
    "start_time": "2022-09-22T21:11:18.779Z"
   },
   {
    "duration": 20,
    "start_time": "2022-09-22T21:11:45.742Z"
   },
   {
    "duration": 20,
    "start_time": "2022-09-22T21:12:05.864Z"
   },
   {
    "duration": 33,
    "start_time": "2022-09-22T21:12:27.131Z"
   },
   {
    "duration": 13,
    "start_time": "2022-09-22T21:12:49.790Z"
   },
   {
    "duration": 23,
    "start_time": "2022-09-22T21:13:35.859Z"
   },
   {
    "duration": 18,
    "start_time": "2022-09-22T21:17:43.226Z"
   },
   {
    "duration": 1781,
    "start_time": "2022-09-22T21:18:18.293Z"
   },
   {
    "duration": 78,
    "start_time": "2022-09-22T21:18:43.288Z"
   },
   {
    "duration": 16,
    "start_time": "2022-09-22T21:18:56.625Z"
   },
   {
    "duration": 19,
    "start_time": "2022-09-22T21:20:43.007Z"
   },
   {
    "duration": 20,
    "start_time": "2022-09-22T21:24:42.091Z"
   },
   {
    "duration": 21,
    "start_time": "2022-09-22T21:26:08.750Z"
   },
   {
    "duration": 21,
    "start_time": "2022-09-22T21:27:05.805Z"
   },
   {
    "duration": 770,
    "start_time": "2022-09-22T21:34:30.841Z"
   },
   {
    "duration": 21,
    "start_time": "2022-09-22T21:34:37.546Z"
   },
   {
    "duration": 20,
    "start_time": "2022-09-22T21:34:46.835Z"
   },
   {
    "duration": 80,
    "start_time": "2022-09-23T10:06:07.585Z"
   },
   {
    "duration": 22,
    "start_time": "2022-09-23T10:06:18.320Z"
   },
   {
    "duration": 931,
    "start_time": "2022-09-23T11:22:29.605Z"
   },
   {
    "duration": 733,
    "start_time": "2022-09-23T11:23:56.907Z"
   },
   {
    "duration": 67,
    "start_time": "2022-09-23T11:24:15.073Z"
   },
   {
    "duration": 14,
    "start_time": "2022-09-23T11:24:15.142Z"
   },
   {
    "duration": 15,
    "start_time": "2022-09-23T11:24:15.157Z"
   },
   {
    "duration": 9,
    "start_time": "2022-09-23T11:24:15.174Z"
   },
   {
    "duration": 43,
    "start_time": "2022-09-23T11:24:15.184Z"
   },
   {
    "duration": 3,
    "start_time": "2022-09-23T11:24:15.229Z"
   },
   {
    "duration": 14,
    "start_time": "2022-09-23T11:24:15.233Z"
   },
   {
    "duration": 5,
    "start_time": "2022-09-23T11:24:15.249Z"
   },
   {
    "duration": 7,
    "start_time": "2022-09-23T11:24:15.255Z"
   },
   {
    "duration": 4,
    "start_time": "2022-09-23T11:24:15.264Z"
   },
   {
    "duration": 87,
    "start_time": "2022-09-23T11:24:15.270Z"
   },
   {
    "duration": 10,
    "start_time": "2022-09-23T11:24:15.358Z"
   },
   {
    "duration": 3,
    "start_time": "2022-09-23T11:24:15.369Z"
   },
   {
    "duration": 12,
    "start_time": "2022-09-23T11:24:15.374Z"
   },
   {
    "duration": 35,
    "start_time": "2022-09-23T11:24:15.388Z"
   },
   {
    "duration": 16,
    "start_time": "2022-09-23T11:24:15.425Z"
   },
   {
    "duration": 3,
    "start_time": "2022-09-23T11:24:15.442Z"
   },
   {
    "duration": 11,
    "start_time": "2022-09-23T11:24:15.447Z"
   },
   {
    "duration": 15,
    "start_time": "2022-09-23T11:24:15.460Z"
   },
   {
    "duration": 3,
    "start_time": "2022-09-23T11:24:15.477Z"
   },
   {
    "duration": 27,
    "start_time": "2022-09-23T11:24:15.482Z"
   },
   {
    "duration": 19,
    "start_time": "2022-09-23T11:24:15.511Z"
   },
   {
    "duration": 896,
    "start_time": "2022-09-23T11:24:17.247Z"
   },
   {
    "duration": 65,
    "start_time": "2022-09-23T11:26:00.638Z"
   },
   {
    "duration": 17,
    "start_time": "2022-09-23T11:26:19.336Z"
   },
   {
    "duration": 15,
    "start_time": "2022-09-23T11:26:22.477Z"
   },
   {
    "duration": 16,
    "start_time": "2022-09-23T11:26:31.337Z"
   },
   {
    "duration": 21,
    "start_time": "2022-09-23T11:26:33.965Z"
   },
   {
    "duration": 26,
    "start_time": "2022-09-23T11:44:54.777Z"
   },
   {
    "duration": 22,
    "start_time": "2022-09-23T11:45:48.650Z"
   },
   {
    "duration": 21,
    "start_time": "2022-09-23T11:47:19.508Z"
   },
   {
    "duration": 22,
    "start_time": "2022-09-23T11:47:45.903Z"
   },
   {
    "duration": 21,
    "start_time": "2022-09-23T11:49:47.765Z"
   },
   {
    "duration": 20,
    "start_time": "2022-09-23T11:50:06.088Z"
   },
   {
    "duration": 29,
    "start_time": "2022-09-23T11:57:16.652Z"
   },
   {
    "duration": 21,
    "start_time": "2022-09-23T11:57:32.429Z"
   },
   {
    "duration": 20,
    "start_time": "2022-09-23T11:58:07.785Z"
   },
   {
    "duration": 23,
    "start_time": "2022-09-23T11:58:28.940Z"
   },
   {
    "duration": 27,
    "start_time": "2022-09-23T11:58:44.414Z"
   },
   {
    "duration": 22,
    "start_time": "2022-09-23T11:59:01.256Z"
   },
   {
    "duration": 20,
    "start_time": "2022-09-23T11:59:32.308Z"
   },
   {
    "duration": 26,
    "start_time": "2022-09-23T11:59:45.077Z"
   },
   {
    "duration": 18,
    "start_time": "2022-09-23T12:02:06.886Z"
   },
   {
    "duration": 22,
    "start_time": "2022-09-23T12:05:38.901Z"
   },
   {
    "duration": 27,
    "start_time": "2022-09-23T12:06:13.260Z"
   },
   {
    "duration": 15,
    "start_time": "2022-09-23T12:06:35.103Z"
   },
   {
    "duration": 22,
    "start_time": "2022-09-23T12:06:41.920Z"
   },
   {
    "duration": 23,
    "start_time": "2022-09-23T12:07:23.093Z"
   },
   {
    "duration": 19,
    "start_time": "2022-09-23T12:16:04.165Z"
   },
   {
    "duration": 23,
    "start_time": "2022-09-23T12:16:15.415Z"
   },
   {
    "duration": 12,
    "start_time": "2022-09-23T12:17:42.160Z"
   },
   {
    "duration": 12,
    "start_time": "2022-09-23T12:18:30.238Z"
   },
   {
    "duration": 14,
    "start_time": "2022-09-23T12:20:26.509Z"
   },
   {
    "duration": 15,
    "start_time": "2022-09-23T12:24:33.733Z"
   },
   {
    "duration": 7,
    "start_time": "2022-09-23T12:31:48.173Z"
   },
   {
    "duration": 9,
    "start_time": "2022-09-23T12:31:50.079Z"
   },
   {
    "duration": 16,
    "start_time": "2022-09-23T12:32:17.133Z"
   },
   {
    "duration": 5,
    "start_time": "2022-09-23T12:39:03.469Z"
   },
   {
    "duration": 846,
    "start_time": "2022-09-23T12:39:13.120Z"
   },
   {
    "duration": 9,
    "start_time": "2022-09-23T12:39:19.582Z"
   },
   {
    "duration": 6,
    "start_time": "2022-09-23T12:39:21.063Z"
   },
   {
    "duration": 9,
    "start_time": "2022-09-23T12:39:31.863Z"
   },
   {
    "duration": 6,
    "start_time": "2022-09-23T12:39:38.208Z"
   },
   {
    "duration": 10,
    "start_time": "2022-09-23T12:39:39.040Z"
   },
   {
    "duration": 74,
    "start_time": "2022-09-23T12:40:08.874Z"
   },
   {
    "duration": 19,
    "start_time": "2022-09-23T12:40:08.950Z"
   },
   {
    "duration": 15,
    "start_time": "2022-09-23T12:40:08.971Z"
   },
   {
    "duration": 39,
    "start_time": "2022-09-23T12:40:08.988Z"
   },
   {
    "duration": 39,
    "start_time": "2022-09-23T12:40:09.030Z"
   },
   {
    "duration": 3,
    "start_time": "2022-09-23T12:40:09.070Z"
   },
   {
    "duration": 13,
    "start_time": "2022-09-23T12:40:09.075Z"
   },
   {
    "duration": 3,
    "start_time": "2022-09-23T12:40:09.089Z"
   },
   {
    "duration": 29,
    "start_time": "2022-09-23T12:40:09.094Z"
   },
   {
    "duration": 7,
    "start_time": "2022-09-23T12:40:09.124Z"
   },
   {
    "duration": 33,
    "start_time": "2022-09-23T12:40:09.132Z"
   },
   {
    "duration": 9,
    "start_time": "2022-09-23T12:40:09.166Z"
   },
   {
    "duration": 4,
    "start_time": "2022-09-23T12:40:09.176Z"
   },
   {
    "duration": 11,
    "start_time": "2022-09-23T12:40:09.182Z"
   },
   {
    "duration": 40,
    "start_time": "2022-09-23T12:40:09.195Z"
   },
   {
    "duration": 24,
    "start_time": "2022-09-23T12:40:09.236Z"
   },
   {
    "duration": 8,
    "start_time": "2022-09-23T12:40:09.261Z"
   },
   {
    "duration": 21,
    "start_time": "2022-09-23T12:40:09.271Z"
   },
   {
    "duration": 11,
    "start_time": "2022-09-23T12:40:09.293Z"
   },
   {
    "duration": 5,
    "start_time": "2022-09-23T12:40:09.307Z"
   },
   {
    "duration": 27,
    "start_time": "2022-09-23T12:40:09.314Z"
   },
   {
    "duration": 29,
    "start_time": "2022-09-23T12:40:09.343Z"
   },
   {
    "duration": 5,
    "start_time": "2022-09-23T12:40:11.397Z"
   },
   {
    "duration": 21,
    "start_time": "2022-09-23T12:40:11.625Z"
   },
   {
    "duration": 17,
    "start_time": "2022-09-23T12:44:29.483Z"
   },
   {
    "duration": 10,
    "start_time": "2022-09-23T12:52:21.386Z"
   },
   {
    "duration": 39,
    "start_time": "2022-09-23T12:53:26.702Z"
   },
   {
    "duration": 13,
    "start_time": "2022-09-23T12:53:38.044Z"
   },
   {
    "duration": 1220,
    "start_time": "2022-09-23T12:53:41.348Z"
   },
   {
    "duration": 10,
    "start_time": "2022-09-23T12:55:38.085Z"
   },
   {
    "duration": 18,
    "start_time": "2022-09-23T12:55:44.398Z"
   },
   {
    "duration": 16,
    "start_time": "2022-09-23T12:55:49.231Z"
   },
   {
    "duration": 1355,
    "start_time": "2022-09-23T12:56:11.705Z"
   },
   {
    "duration": 209,
    "start_time": "2022-09-23T12:56:56.102Z"
   },
   {
    "duration": 21,
    "start_time": "2022-09-23T13:00:18.776Z"
   },
   {
    "duration": 24,
    "start_time": "2022-09-23T13:00:36.074Z"
   },
   {
    "duration": 18,
    "start_time": "2022-09-23T13:02:16.349Z"
   },
   {
    "duration": 18,
    "start_time": "2022-09-23T13:03:31.255Z"
   },
   {
    "duration": 18,
    "start_time": "2022-09-23T13:03:45.480Z"
   },
   {
    "duration": 74,
    "start_time": "2022-09-23T13:07:01.832Z"
   },
   {
    "duration": 17,
    "start_time": "2022-09-23T13:07:05.400Z"
   },
   {
    "duration": 18,
    "start_time": "2022-09-23T13:07:16.009Z"
   },
   {
    "duration": 16,
    "start_time": "2022-09-23T13:08:18.265Z"
   },
   {
    "duration": 18,
    "start_time": "2022-09-23T13:09:14.577Z"
   },
   {
    "duration": 31,
    "start_time": "2022-09-23T13:09:24.026Z"
   },
   {
    "duration": 28,
    "start_time": "2022-09-23T13:09:29.092Z"
   },
   {
    "duration": 16,
    "start_time": "2022-09-23T13:09:50.572Z"
   },
   {
    "duration": 16,
    "start_time": "2022-09-23T13:15:25.939Z"
   },
   {
    "duration": 21,
    "start_time": "2022-09-23T13:15:36.111Z"
   },
   {
    "duration": 19,
    "start_time": "2022-09-23T13:16:47.774Z"
   },
   {
    "duration": 17,
    "start_time": "2022-09-23T13:17:12.221Z"
   },
   {
    "duration": 16,
    "start_time": "2022-09-23T13:17:26.332Z"
   },
   {
    "duration": 17,
    "start_time": "2022-09-23T13:23:30.444Z"
   },
   {
    "duration": 22,
    "start_time": "2022-09-23T13:24:34.408Z"
   },
   {
    "duration": 15,
    "start_time": "2022-09-23T13:25:26.373Z"
   },
   {
    "duration": 18,
    "start_time": "2022-09-23T13:26:10.500Z"
   },
   {
    "duration": 17,
    "start_time": "2022-09-23T13:26:25.254Z"
   },
   {
    "duration": 16,
    "start_time": "2022-09-23T13:27:16.139Z"
   },
   {
    "duration": 28,
    "start_time": "2022-09-23T13:54:33.599Z"
   },
   {
    "duration": 78,
    "start_time": "2022-09-23T13:55:19.515Z"
   },
   {
    "duration": 16,
    "start_time": "2022-09-23T13:55:19.595Z"
   },
   {
    "duration": 25,
    "start_time": "2022-09-23T13:55:19.613Z"
   },
   {
    "duration": 10,
    "start_time": "2022-09-23T13:55:19.640Z"
   },
   {
    "duration": 32,
    "start_time": "2022-09-23T13:55:19.651Z"
   },
   {
    "duration": 3,
    "start_time": "2022-09-23T13:55:19.685Z"
   },
   {
    "duration": 12,
    "start_time": "2022-09-23T13:55:19.709Z"
   },
   {
    "duration": 12,
    "start_time": "2022-09-23T13:55:19.723Z"
   },
   {
    "duration": 11,
    "start_time": "2022-09-23T13:55:19.736Z"
   },
   {
    "duration": 5,
    "start_time": "2022-09-23T13:55:19.749Z"
   },
   {
    "duration": 33,
    "start_time": "2022-09-23T13:55:19.755Z"
   },
   {
    "duration": 24,
    "start_time": "2022-09-23T13:55:19.789Z"
   },
   {
    "duration": 11,
    "start_time": "2022-09-23T13:55:19.816Z"
   },
   {
    "duration": 13,
    "start_time": "2022-09-23T13:55:19.829Z"
   },
   {
    "duration": 19,
    "start_time": "2022-09-23T13:55:19.843Z"
   },
   {
    "duration": 45,
    "start_time": "2022-09-23T13:55:19.864Z"
   },
   {
    "duration": 5,
    "start_time": "2022-09-23T13:55:19.912Z"
   },
   {
    "duration": 32,
    "start_time": "2022-09-23T13:55:19.919Z"
   },
   {
    "duration": 8,
    "start_time": "2022-09-23T13:55:19.952Z"
   },
   {
    "duration": 6,
    "start_time": "2022-09-23T13:55:19.962Z"
   },
   {
    "duration": 16,
    "start_time": "2022-09-23T13:55:19.969Z"
   },
   {
    "duration": 29,
    "start_time": "2022-09-23T13:55:19.987Z"
   },
   {
    "duration": 26,
    "start_time": "2022-09-23T13:55:21.880Z"
   },
   {
    "duration": 55,
    "start_time": "2022-09-23T14:10:23.051Z"
   },
   {
    "duration": 22,
    "start_time": "2022-09-23T14:10:44.936Z"
   },
   {
    "duration": 33,
    "start_time": "2022-09-23T14:11:01.546Z"
   },
   {
    "duration": 36,
    "start_time": "2022-09-23T14:11:44.211Z"
   },
   {
    "duration": 1149,
    "start_time": "2022-09-23T14:11:55.969Z"
   },
   {
    "duration": 25,
    "start_time": "2022-09-23T14:12:00.850Z"
   },
   {
    "duration": 23,
    "start_time": "2022-09-23T14:12:42.263Z"
   },
   {
    "duration": 25,
    "start_time": "2022-09-23T14:13:14.332Z"
   },
   {
    "duration": 23,
    "start_time": "2022-09-23T14:13:24.793Z"
   },
   {
    "duration": 31,
    "start_time": "2022-09-23T14:13:34.382Z"
   },
   {
    "duration": 23,
    "start_time": "2022-09-23T14:15:50.221Z"
   },
   {
    "duration": 26,
    "start_time": "2022-09-23T14:17:20.201Z"
   },
   {
    "duration": 24,
    "start_time": "2022-09-23T14:18:04.831Z"
   },
   {
    "duration": 17,
    "start_time": "2022-09-23T14:18:16.016Z"
   },
   {
    "duration": 24,
    "start_time": "2022-09-23T14:18:21.161Z"
   },
   {
    "duration": 26,
    "start_time": "2022-09-23T14:18:25.345Z"
   },
   {
    "duration": 996,
    "start_time": "2022-09-23T14:18:27.281Z"
   },
   {
    "duration": 7,
    "start_time": "2022-09-23T14:19:10.758Z"
   },
   {
    "duration": 774,
    "start_time": "2022-09-23T14:32:37.348Z"
   },
   {
    "duration": 20,
    "start_time": "2022-09-23T14:33:38.644Z"
   },
   {
    "duration": 11,
    "start_time": "2022-09-23T14:35:50.532Z"
   },
   {
    "duration": 33,
    "start_time": "2022-09-23T14:36:13.599Z"
   },
   {
    "duration": 11,
    "start_time": "2022-09-23T14:36:39.337Z"
   },
   {
    "duration": 12,
    "start_time": "2022-09-23T14:36:48.771Z"
   },
   {
    "duration": 80,
    "start_time": "2022-09-23T14:39:24.670Z"
   },
   {
    "duration": 16,
    "start_time": "2022-09-23T14:39:24.753Z"
   },
   {
    "duration": 22,
    "start_time": "2022-09-23T14:39:24.770Z"
   },
   {
    "duration": 9,
    "start_time": "2022-09-23T14:39:24.794Z"
   },
   {
    "duration": 44,
    "start_time": "2022-09-23T14:39:24.804Z"
   },
   {
    "duration": 3,
    "start_time": "2022-09-23T14:39:24.850Z"
   },
   {
    "duration": 12,
    "start_time": "2022-09-23T14:39:24.855Z"
   },
   {
    "duration": 4,
    "start_time": "2022-09-23T14:39:24.868Z"
   },
   {
    "duration": 9,
    "start_time": "2022-09-23T14:39:24.873Z"
   },
   {
    "duration": 5,
    "start_time": "2022-09-23T14:39:24.884Z"
   },
   {
    "duration": 44,
    "start_time": "2022-09-23T14:39:24.890Z"
   },
   {
    "duration": 8,
    "start_time": "2022-09-23T14:39:24.936Z"
   },
   {
    "duration": 3,
    "start_time": "2022-09-23T14:39:24.946Z"
   },
   {
    "duration": 11,
    "start_time": "2022-09-23T14:39:24.951Z"
   },
   {
    "duration": 19,
    "start_time": "2022-09-23T14:39:24.963Z"
   },
   {
    "duration": 20,
    "start_time": "2022-09-23T14:39:25.009Z"
   },
   {
    "duration": 6,
    "start_time": "2022-09-23T14:39:25.030Z"
   },
   {
    "duration": 14,
    "start_time": "2022-09-23T14:39:25.037Z"
   },
   {
    "duration": 8,
    "start_time": "2022-09-23T14:39:25.053Z"
   },
   {
    "duration": 7,
    "start_time": "2022-09-23T14:39:25.062Z"
   },
   {
    "duration": 12,
    "start_time": "2022-09-23T14:39:25.070Z"
   },
   {
    "duration": 38,
    "start_time": "2022-09-23T14:39:25.084Z"
   },
   {
    "duration": 22,
    "start_time": "2022-09-23T14:39:25.123Z"
   },
   {
    "duration": 20,
    "start_time": "2022-09-23T14:39:25.147Z"
   },
   {
    "duration": 15,
    "start_time": "2022-09-23T14:39:25.168Z"
   },
   {
    "duration": 13,
    "start_time": "2022-09-23T14:39:25.185Z"
   },
   {
    "duration": 27,
    "start_time": "2022-09-23T14:39:25.199Z"
   },
   {
    "duration": 5,
    "start_time": "2022-09-23T14:39:25.229Z"
   },
   {
    "duration": 11,
    "start_time": "2022-09-23T14:39:25.236Z"
   },
   {
    "duration": 442,
    "start_time": "2022-09-23T14:57:56.912Z"
   },
   {
    "duration": 20,
    "start_time": "2022-09-23T14:57:57.356Z"
   },
   {
    "duration": 15,
    "start_time": "2022-09-23T14:57:57.377Z"
   },
   {
    "duration": 10,
    "start_time": "2022-09-23T14:57:57.394Z"
   },
   {
    "duration": 42,
    "start_time": "2022-09-23T14:57:57.406Z"
   },
   {
    "duration": 3,
    "start_time": "2022-09-23T14:57:57.449Z"
   },
   {
    "duration": 9,
    "start_time": "2022-09-23T14:57:57.454Z"
   },
   {
    "duration": 3,
    "start_time": "2022-09-23T14:57:57.465Z"
   },
   {
    "duration": 10,
    "start_time": "2022-09-23T14:57:57.470Z"
   },
   {
    "duration": 21,
    "start_time": "2022-09-23T14:57:57.483Z"
   },
   {
    "duration": 34,
    "start_time": "2022-09-23T14:57:57.506Z"
   },
   {
    "duration": 8,
    "start_time": "2022-09-23T14:57:57.541Z"
   },
   {
    "duration": 3,
    "start_time": "2022-09-23T14:57:57.551Z"
   },
   {
    "duration": 13,
    "start_time": "2022-09-23T14:57:57.555Z"
   },
   {
    "duration": 34,
    "start_time": "2022-09-23T14:57:57.569Z"
   },
   {
    "duration": 15,
    "start_time": "2022-09-23T14:57:57.604Z"
   },
   {
    "duration": 4,
    "start_time": "2022-09-23T14:57:57.621Z"
   },
   {
    "duration": 14,
    "start_time": "2022-09-23T14:57:57.627Z"
   },
   {
    "duration": 32,
    "start_time": "2022-09-23T14:57:57.643Z"
   },
   {
    "duration": 3,
    "start_time": "2022-09-23T14:57:57.677Z"
   },
   {
    "duration": 11,
    "start_time": "2022-09-23T14:57:57.682Z"
   },
   {
    "duration": 28,
    "start_time": "2022-09-23T14:57:57.695Z"
   },
   {
    "duration": 22,
    "start_time": "2022-09-23T14:57:57.725Z"
   },
   {
    "duration": 7,
    "start_time": "2022-09-23T14:57:57.748Z"
   },
   {
    "duration": 21,
    "start_time": "2022-09-23T14:57:57.756Z"
   },
   {
    "duration": 28,
    "start_time": "2022-09-23T14:57:57.779Z"
   },
   {
    "duration": 14,
    "start_time": "2022-09-23T14:57:57.809Z"
   },
   {
    "duration": 10,
    "start_time": "2022-09-23T14:57:57.826Z"
   },
   {
    "duration": 27,
    "start_time": "2022-09-23T14:57:57.838Z"
   },
   {
    "duration": 457,
    "start_time": "2022-09-23T15:03:31.211Z"
   },
   {
    "duration": 23,
    "start_time": "2022-09-23T15:03:31.669Z"
   },
   {
    "duration": 27,
    "start_time": "2022-09-23T15:03:31.694Z"
   },
   {
    "duration": 11,
    "start_time": "2022-09-23T15:03:31.723Z"
   },
   {
    "duration": 35,
    "start_time": "2022-09-23T15:03:31.735Z"
   },
   {
    "duration": 3,
    "start_time": "2022-09-23T15:03:31.771Z"
   },
   {
    "duration": 38,
    "start_time": "2022-09-23T15:03:31.775Z"
   },
   {
    "duration": 7,
    "start_time": "2022-09-23T15:03:31.815Z"
   },
   {
    "duration": 12,
    "start_time": "2022-09-23T15:03:31.823Z"
   },
   {
    "duration": 7,
    "start_time": "2022-09-23T15:03:31.838Z"
   },
   {
    "duration": 32,
    "start_time": "2022-09-23T15:03:31.847Z"
   },
   {
    "duration": 8,
    "start_time": "2022-09-23T15:03:31.881Z"
   },
   {
    "duration": 9,
    "start_time": "2022-09-23T15:03:31.891Z"
   },
   {
    "duration": 31,
    "start_time": "2022-09-23T15:03:31.902Z"
   },
   {
    "duration": 17,
    "start_time": "2022-09-23T15:03:31.934Z"
   },
   {
    "duration": 16,
    "start_time": "2022-09-23T15:03:31.953Z"
   },
   {
    "duration": 16,
    "start_time": "2022-09-23T15:03:31.970Z"
   },
   {
    "duration": 15,
    "start_time": "2022-09-23T15:03:31.988Z"
   },
   {
    "duration": 7,
    "start_time": "2022-09-23T15:03:32.005Z"
   },
   {
    "duration": 5,
    "start_time": "2022-09-23T15:03:32.014Z"
   },
   {
    "duration": 10,
    "start_time": "2022-09-23T15:03:32.020Z"
   },
   {
    "duration": 19,
    "start_time": "2022-09-23T15:03:32.031Z"
   },
   {
    "duration": 492,
    "start_time": "2022-09-23T15:03:32.051Z"
   },
   {
    "duration": 18,
    "start_time": "2022-09-23T15:03:32.544Z"
   },
   {
    "duration": 41,
    "start_time": "2022-09-23T15:03:32.563Z"
   },
   {
    "duration": 24,
    "start_time": "2022-09-23T15:03:32.606Z"
   },
   {
    "duration": 15,
    "start_time": "2022-09-23T15:03:32.631Z"
   },
   {
    "duration": 17,
    "start_time": "2022-09-23T15:03:32.699Z"
   },
   {
    "duration": 7,
    "start_time": "2022-09-23T15:03:32.717Z"
   },
   {
    "duration": 13,
    "start_time": "2022-09-23T15:03:32.725Z"
   },
   {
    "duration": 103,
    "start_time": "2022-09-23T15:17:55.076Z"
   },
   {
    "duration": 66,
    "start_time": "2022-09-23T15:18:02.077Z"
   },
   {
    "duration": 14,
    "start_time": "2022-09-23T15:18:02.145Z"
   },
   {
    "duration": 16,
    "start_time": "2022-09-23T15:18:02.160Z"
   },
   {
    "duration": 8,
    "start_time": "2022-09-23T15:18:02.178Z"
   },
   {
    "duration": 49,
    "start_time": "2022-09-23T15:18:02.187Z"
   },
   {
    "duration": 3,
    "start_time": "2022-09-23T15:18:02.237Z"
   },
   {
    "duration": 10,
    "start_time": "2022-09-23T15:18:02.242Z"
   },
   {
    "duration": 4,
    "start_time": "2022-09-23T15:18:02.254Z"
   },
   {
    "duration": 6,
    "start_time": "2022-09-23T15:18:02.259Z"
   },
   {
    "duration": 4,
    "start_time": "2022-09-23T15:18:02.267Z"
   },
   {
    "duration": 57,
    "start_time": "2022-09-23T15:18:02.272Z"
   },
   {
    "duration": 9,
    "start_time": "2022-09-23T15:18:02.330Z"
   },
   {
    "duration": 4,
    "start_time": "2022-09-23T15:18:02.340Z"
   },
   {
    "duration": 14,
    "start_time": "2022-09-23T15:18:02.345Z"
   },
   {
    "duration": 18,
    "start_time": "2022-09-23T15:18:02.360Z"
   },
   {
    "duration": 38,
    "start_time": "2022-09-23T15:18:02.379Z"
   },
   {
    "duration": 3,
    "start_time": "2022-09-23T15:18:02.418Z"
   },
   {
    "duration": 19,
    "start_time": "2022-09-23T15:18:02.423Z"
   },
   {
    "duration": 10,
    "start_time": "2022-09-23T15:18:02.444Z"
   },
   {
    "duration": 3,
    "start_time": "2022-09-23T15:18:02.456Z"
   },
   {
    "duration": 11,
    "start_time": "2022-09-23T15:18:02.460Z"
   },
   {
    "duration": 20,
    "start_time": "2022-09-23T15:18:02.473Z"
   },
   {
    "duration": 394,
    "start_time": "2022-09-23T15:18:02.494Z"
   },
   {
    "duration": 19,
    "start_time": "2022-09-23T15:18:02.890Z"
   },
   {
    "duration": 6,
    "start_time": "2022-09-23T15:18:02.910Z"
   },
   {
    "duration": 21,
    "start_time": "2022-09-23T15:18:02.917Z"
   },
   {
    "duration": 14,
    "start_time": "2022-09-23T15:18:02.939Z"
   },
   {
    "duration": 65,
    "start_time": "2022-09-23T15:18:02.956Z"
   },
   {
    "duration": 4,
    "start_time": "2022-09-23T15:18:03.022Z"
   },
   {
    "duration": 14,
    "start_time": "2022-09-23T15:18:03.027Z"
   },
   {
    "duration": 69,
    "start_time": "2022-09-23T15:26:25.207Z"
   },
   {
    "duration": 66,
    "start_time": "2022-09-23T15:26:58.869Z"
   },
   {
    "duration": 67,
    "start_time": "2022-09-23T15:28:25.654Z"
   },
   {
    "duration": 89,
    "start_time": "2022-09-23T15:28:41.491Z"
   },
   {
    "duration": 70,
    "start_time": "2022-09-23T15:29:01.674Z"
   },
   {
    "duration": 21,
    "start_time": "2022-09-23T15:31:56.929Z"
   },
   {
    "duration": 79,
    "start_time": "2022-09-23T15:32:15.857Z"
   },
   {
    "duration": 14,
    "start_time": "2022-09-23T15:32:15.938Z"
   },
   {
    "duration": 16,
    "start_time": "2022-09-23T15:32:15.954Z"
   },
   {
    "duration": 10,
    "start_time": "2022-09-23T15:32:15.972Z"
   },
   {
    "duration": 32,
    "start_time": "2022-09-23T15:32:16.008Z"
   },
   {
    "duration": 3,
    "start_time": "2022-09-23T15:32:16.042Z"
   },
   {
    "duration": 9,
    "start_time": "2022-09-23T15:32:16.047Z"
   },
   {
    "duration": 5,
    "start_time": "2022-09-23T15:32:16.058Z"
   },
   {
    "duration": 8,
    "start_time": "2022-09-23T15:32:16.064Z"
   },
   {
    "duration": 4,
    "start_time": "2022-09-23T15:32:16.109Z"
   },
   {
    "duration": 30,
    "start_time": "2022-09-23T15:32:16.115Z"
   },
   {
    "duration": 8,
    "start_time": "2022-09-23T15:32:16.146Z"
   },
   {
    "duration": 6,
    "start_time": "2022-09-23T15:32:16.156Z"
   },
   {
    "duration": 20,
    "start_time": "2022-09-23T15:32:16.163Z"
   },
   {
    "duration": 40,
    "start_time": "2022-09-23T15:32:16.185Z"
   },
   {
    "duration": 20,
    "start_time": "2022-09-23T15:32:16.227Z"
   },
   {
    "duration": 4,
    "start_time": "2022-09-23T15:32:16.248Z"
   },
   {
    "duration": 18,
    "start_time": "2022-09-23T15:32:16.254Z"
   },
   {
    "duration": 12,
    "start_time": "2022-09-23T15:32:16.274Z"
   },
   {
    "duration": 22,
    "start_time": "2022-09-23T15:32:16.287Z"
   },
   {
    "duration": 8,
    "start_time": "2022-09-23T15:32:16.310Z"
   },
   {
    "duration": 21,
    "start_time": "2022-09-23T15:32:16.320Z"
   },
   {
    "duration": 135,
    "start_time": "2022-09-23T15:32:16.342Z"
   },
   {
    "duration": 86,
    "start_time": "2022-09-23T15:32:16.478Z"
   },
   {
    "duration": 1394,
    "start_time": "2022-09-23T15:32:16.566Z"
   },
   {
    "duration": 0,
    "start_time": "2022-09-23T15:32:17.962Z"
   },
   {
    "duration": 0,
    "start_time": "2022-09-23T15:32:17.963Z"
   },
   {
    "duration": 0,
    "start_time": "2022-09-23T15:32:17.964Z"
   },
   {
    "duration": 0,
    "start_time": "2022-09-23T15:32:17.965Z"
   },
   {
    "duration": 0,
    "start_time": "2022-09-23T15:32:17.965Z"
   },
   {
    "duration": 32,
    "start_time": "2022-09-23T15:39:49.073Z"
   },
   {
    "duration": 80,
    "start_time": "2022-09-23T15:41:00.002Z"
   },
   {
    "duration": 13,
    "start_time": "2022-09-23T15:41:00.084Z"
   },
   {
    "duration": 19,
    "start_time": "2022-09-23T15:41:00.099Z"
   },
   {
    "duration": 12,
    "start_time": "2022-09-23T15:41:00.120Z"
   },
   {
    "duration": 44,
    "start_time": "2022-09-23T15:41:00.134Z"
   },
   {
    "duration": 3,
    "start_time": "2022-09-23T15:41:00.179Z"
   },
   {
    "duration": 22,
    "start_time": "2022-09-23T15:41:00.184Z"
   },
   {
    "duration": 19,
    "start_time": "2022-09-23T15:41:00.207Z"
   },
   {
    "duration": 11,
    "start_time": "2022-09-23T15:41:00.227Z"
   },
   {
    "duration": 22,
    "start_time": "2022-09-23T15:41:00.240Z"
   },
   {
    "duration": 44,
    "start_time": "2022-09-23T15:41:00.263Z"
   },
   {
    "duration": 9,
    "start_time": "2022-09-23T15:41:00.309Z"
   },
   {
    "duration": 23,
    "start_time": "2022-09-23T15:41:00.319Z"
   },
   {
    "duration": 38,
    "start_time": "2022-09-23T15:41:00.344Z"
   },
   {
    "duration": 30,
    "start_time": "2022-09-23T15:41:00.383Z"
   },
   {
    "duration": 20,
    "start_time": "2022-09-23T15:41:00.414Z"
   },
   {
    "duration": 4,
    "start_time": "2022-09-23T15:41:00.435Z"
   },
   {
    "duration": 30,
    "start_time": "2022-09-23T15:41:00.440Z"
   },
   {
    "duration": 11,
    "start_time": "2022-09-23T15:41:00.472Z"
   },
   {
    "duration": 9,
    "start_time": "2022-09-23T15:41:00.485Z"
   },
   {
    "duration": 22,
    "start_time": "2022-09-23T15:41:00.496Z"
   },
   {
    "duration": 48,
    "start_time": "2022-09-23T15:41:00.520Z"
   },
   {
    "duration": 72,
    "start_time": "2022-09-23T15:41:00.570Z"
   },
   {
    "duration": 35,
    "start_time": "2022-09-23T15:41:03.448Z"
   },
   {
    "duration": 73,
    "start_time": "2022-09-23T15:41:45.086Z"
   },
   {
    "duration": 1560,
    "start_time": "2022-09-23T15:41:53.759Z"
   },
   {
    "duration": 7,
    "start_time": "2022-09-23T15:42:21.410Z"
   },
   {
    "duration": 68,
    "start_time": "2022-09-23T15:43:02.960Z"
   },
   {
    "duration": 67,
    "start_time": "2022-09-23T15:47:15.495Z"
   },
   {
    "duration": 7,
    "start_time": "2022-09-23T15:47:19.541Z"
   },
   {
    "duration": 69,
    "start_time": "2022-09-23T15:47:22.814Z"
   },
   {
    "duration": 64,
    "start_time": "2022-09-23T15:47:29.455Z"
   },
   {
    "duration": 74,
    "start_time": "2022-09-23T15:47:56.210Z"
   },
   {
    "duration": 3,
    "start_time": "2022-09-23T15:48:12.156Z"
   },
   {
    "duration": 1866,
    "start_time": "2022-09-23T15:48:15.749Z"
   },
   {
    "duration": 12,
    "start_time": "2022-09-23T15:48:31.127Z"
   },
   {
    "duration": 19,
    "start_time": "2022-09-23T15:48:55.963Z"
   },
   {
    "duration": 65,
    "start_time": "2022-09-23T15:49:08.405Z"
   },
   {
    "duration": 66,
    "start_time": "2022-09-23T15:49:39.761Z"
   },
   {
    "duration": 505,
    "start_time": "2022-09-23T16:23:09.377Z"
   },
   {
    "duration": 23,
    "start_time": "2022-09-23T16:23:09.885Z"
   },
   {
    "duration": 21,
    "start_time": "2022-09-23T16:23:09.910Z"
   },
   {
    "duration": 8,
    "start_time": "2022-09-23T16:23:09.933Z"
   },
   {
    "duration": 62,
    "start_time": "2022-09-23T16:23:09.944Z"
   },
   {
    "duration": 4,
    "start_time": "2022-09-23T16:23:10.007Z"
   },
   {
    "duration": 11,
    "start_time": "2022-09-23T16:23:10.012Z"
   },
   {
    "duration": 8,
    "start_time": "2022-09-23T16:23:10.024Z"
   },
   {
    "duration": 9,
    "start_time": "2022-09-23T16:23:10.034Z"
   },
   {
    "duration": 5,
    "start_time": "2022-09-23T16:23:10.047Z"
   },
   {
    "duration": 65,
    "start_time": "2022-09-23T16:23:10.055Z"
   },
   {
    "duration": 11,
    "start_time": "2022-09-23T16:23:10.122Z"
   },
   {
    "duration": 4,
    "start_time": "2022-09-23T16:23:10.135Z"
   },
   {
    "duration": 18,
    "start_time": "2022-09-23T16:23:10.141Z"
   },
   {
    "duration": 53,
    "start_time": "2022-09-23T16:23:10.160Z"
   },
   {
    "duration": 22,
    "start_time": "2022-09-23T16:23:10.215Z"
   },
   {
    "duration": 5,
    "start_time": "2022-09-23T16:23:10.239Z"
   },
   {
    "duration": 16,
    "start_time": "2022-09-23T16:23:10.246Z"
   },
   {
    "duration": 8,
    "start_time": "2022-09-23T16:23:10.264Z"
   },
   {
    "duration": 6,
    "start_time": "2022-09-23T16:23:10.300Z"
   },
   {
    "duration": 13,
    "start_time": "2022-09-23T16:23:10.308Z"
   },
   {
    "duration": 21,
    "start_time": "2022-09-23T16:23:10.323Z"
   },
   {
    "duration": 559,
    "start_time": "2022-09-23T16:23:10.347Z"
   },
   {
    "duration": 132,
    "start_time": "2022-09-23T16:23:10.911Z"
   },
   {
    "duration": 8,
    "start_time": "2022-09-23T16:23:11.044Z"
   },
   {
    "duration": 74,
    "start_time": "2022-09-23T16:23:11.100Z"
   },
   {
    "duration": 88,
    "start_time": "2022-09-23T16:23:11.175Z"
   },
   {
    "duration": 88,
    "start_time": "2022-09-23T16:23:11.266Z"
   },
   {
    "duration": 6,
    "start_time": "2022-09-23T16:23:11.356Z"
   },
   {
    "duration": 16,
    "start_time": "2022-09-23T16:23:11.364Z"
   },
   {
    "duration": 81,
    "start_time": "2022-09-23T16:46:05.087Z"
   },
   {
    "duration": 19,
    "start_time": "2022-09-23T16:46:05.169Z"
   },
   {
    "duration": 27,
    "start_time": "2022-09-23T16:46:05.190Z"
   },
   {
    "duration": 13,
    "start_time": "2022-09-23T16:46:05.220Z"
   },
   {
    "duration": 38,
    "start_time": "2022-09-23T16:46:05.235Z"
   },
   {
    "duration": 3,
    "start_time": "2022-09-23T16:46:05.275Z"
   },
   {
    "duration": 15,
    "start_time": "2022-09-23T16:46:05.279Z"
   },
   {
    "duration": 17,
    "start_time": "2022-09-23T16:46:05.295Z"
   },
   {
    "duration": 15,
    "start_time": "2022-09-23T16:46:05.313Z"
   },
   {
    "duration": 7,
    "start_time": "2022-09-23T16:46:05.331Z"
   },
   {
    "duration": 36,
    "start_time": "2022-09-23T16:46:05.339Z"
   },
   {
    "duration": 10,
    "start_time": "2022-09-23T16:46:05.377Z"
   },
   {
    "duration": 20,
    "start_time": "2022-09-23T16:46:05.389Z"
   },
   {
    "duration": 16,
    "start_time": "2022-09-23T16:46:05.410Z"
   },
   {
    "duration": 21,
    "start_time": "2022-09-23T16:46:05.428Z"
   },
   {
    "duration": 18,
    "start_time": "2022-09-23T16:46:05.451Z"
   },
   {
    "duration": 4,
    "start_time": "2022-09-23T16:46:05.470Z"
   },
   {
    "duration": 14,
    "start_time": "2022-09-23T16:46:05.476Z"
   },
   {
    "duration": 24,
    "start_time": "2022-09-23T16:46:05.491Z"
   },
   {
    "duration": 5,
    "start_time": "2022-09-23T16:46:05.516Z"
   },
   {
    "duration": 14,
    "start_time": "2022-09-23T16:46:05.522Z"
   },
   {
    "duration": 18,
    "start_time": "2022-09-23T16:46:05.537Z"
   },
   {
    "duration": 93,
    "start_time": "2022-09-23T16:46:05.557Z"
   },
   {
    "duration": 88,
    "start_time": "2022-09-23T16:46:05.651Z"
   },
   {
    "duration": 7,
    "start_time": "2022-09-23T16:46:05.740Z"
   },
   {
    "duration": 91,
    "start_time": "2022-09-23T16:46:05.748Z"
   },
   {
    "duration": 87,
    "start_time": "2022-09-23T16:46:05.841Z"
   },
   {
    "duration": 81,
    "start_time": "2022-09-23T16:46:05.931Z"
   },
   {
    "duration": 4,
    "start_time": "2022-09-23T16:46:06.013Z"
   },
   {
    "duration": 15,
    "start_time": "2022-09-23T16:46:06.018Z"
   },
   {
    "duration": 67,
    "start_time": "2022-09-23T16:46:36.995Z"
   },
   {
    "duration": 73,
    "start_time": "2022-09-23T16:46:44.524Z"
   },
   {
    "duration": 17,
    "start_time": "2022-09-23T16:46:55.421Z"
   },
   {
    "duration": 495,
    "start_time": "2022-09-23T16:47:04.864Z"
   },
   {
    "duration": 21,
    "start_time": "2022-09-23T16:47:05.361Z"
   },
   {
    "duration": 42,
    "start_time": "2022-09-23T16:47:05.384Z"
   },
   {
    "duration": 17,
    "start_time": "2022-09-23T16:47:05.428Z"
   },
   {
    "duration": 51,
    "start_time": "2022-09-23T16:47:05.446Z"
   },
   {
    "duration": 3,
    "start_time": "2022-09-23T16:47:05.498Z"
   },
   {
    "duration": 9,
    "start_time": "2022-09-23T16:47:05.503Z"
   },
   {
    "duration": 10,
    "start_time": "2022-09-23T16:47:05.514Z"
   },
   {
    "duration": 8,
    "start_time": "2022-09-23T16:47:05.526Z"
   },
   {
    "duration": 3,
    "start_time": "2022-09-23T16:47:05.538Z"
   },
   {
    "duration": 38,
    "start_time": "2022-09-23T16:47:05.542Z"
   },
   {
    "duration": 9,
    "start_time": "2022-09-23T16:47:05.581Z"
   },
   {
    "duration": 11,
    "start_time": "2022-09-23T16:47:05.609Z"
   },
   {
    "duration": 37,
    "start_time": "2022-09-23T16:47:05.621Z"
   },
   {
    "duration": 28,
    "start_time": "2022-09-23T16:47:05.659Z"
   },
   {
    "duration": 26,
    "start_time": "2022-09-23T16:47:05.688Z"
   },
   {
    "duration": 3,
    "start_time": "2022-09-23T16:47:05.716Z"
   },
   {
    "duration": 16,
    "start_time": "2022-09-23T16:47:05.720Z"
   },
   {
    "duration": 10,
    "start_time": "2022-09-23T16:47:05.738Z"
   },
   {
    "duration": 8,
    "start_time": "2022-09-23T16:47:05.749Z"
   },
   {
    "duration": 22,
    "start_time": "2022-09-23T16:47:05.759Z"
   },
   {
    "duration": 43,
    "start_time": "2022-09-23T16:47:05.782Z"
   },
   {
    "duration": 505,
    "start_time": "2022-09-23T16:47:05.827Z"
   },
   {
    "duration": 119,
    "start_time": "2022-09-23T16:47:06.335Z"
   },
   {
    "duration": 56,
    "start_time": "2022-09-23T16:47:06.456Z"
   },
   {
    "duration": 82,
    "start_time": "2022-09-23T16:47:06.513Z"
   },
   {
    "duration": 75,
    "start_time": "2022-09-23T16:47:06.596Z"
   },
   {
    "duration": 85,
    "start_time": "2022-09-23T16:47:06.674Z"
   },
   {
    "duration": 6,
    "start_time": "2022-09-23T16:47:06.760Z"
   },
   {
    "duration": 21,
    "start_time": "2022-09-23T16:47:06.767Z"
   },
   {
    "duration": 49,
    "start_time": "2022-09-25T11:51:39.890Z"
   },
   {
    "duration": 523,
    "start_time": "2022-09-25T11:51:47.138Z"
   },
   {
    "duration": 23,
    "start_time": "2022-09-25T11:51:47.663Z"
   },
   {
    "duration": 27,
    "start_time": "2022-09-25T11:51:47.688Z"
   },
   {
    "duration": 36,
    "start_time": "2022-09-25T11:51:47.716Z"
   },
   {
    "duration": 1086,
    "start_time": "2022-09-25T11:51:51.875Z"
   },
   {
    "duration": 80,
    "start_time": "2022-09-25T11:58:29.560Z"
   },
   {
    "duration": 18,
    "start_time": "2022-09-25T11:58:29.642Z"
   },
   {
    "duration": 36,
    "start_time": "2022-09-25T11:58:29.662Z"
   },
   {
    "duration": 10,
    "start_time": "2022-09-25T11:58:29.700Z"
   },
   {
    "duration": 49,
    "start_time": "2022-09-25T11:58:29.712Z"
   },
   {
    "duration": 3,
    "start_time": "2022-09-25T11:58:29.763Z"
   },
   {
    "duration": 39,
    "start_time": "2022-09-25T11:58:29.768Z"
   },
   {
    "duration": 20,
    "start_time": "2022-09-25T11:58:29.809Z"
   },
   {
    "duration": 33,
    "start_time": "2022-09-25T11:58:29.831Z"
   },
   {
    "duration": 26,
    "start_time": "2022-09-25T11:58:29.866Z"
   },
   {
    "duration": 46,
    "start_time": "2022-09-25T11:58:29.893Z"
   },
   {
    "duration": 10,
    "start_time": "2022-09-25T11:58:29.941Z"
   },
   {
    "duration": 13,
    "start_time": "2022-09-25T11:58:29.953Z"
   },
   {
    "duration": 32,
    "start_time": "2022-09-25T11:58:29.968Z"
   },
   {
    "duration": 48,
    "start_time": "2022-09-25T11:58:30.002Z"
   },
   {
    "duration": 25,
    "start_time": "2022-09-25T11:58:30.052Z"
   },
   {
    "duration": 6,
    "start_time": "2022-09-25T11:58:30.079Z"
   },
   {
    "duration": 18,
    "start_time": "2022-09-25T11:58:30.087Z"
   },
   {
    "duration": 34,
    "start_time": "2022-09-25T11:58:30.107Z"
   },
   {
    "duration": 17,
    "start_time": "2022-09-25T11:58:30.143Z"
   },
   {
    "duration": 54,
    "start_time": "2022-09-25T11:58:30.162Z"
   },
   {
    "duration": 43,
    "start_time": "2022-09-25T11:58:30.217Z"
   },
   {
    "duration": 564,
    "start_time": "2022-09-25T11:58:30.262Z"
   },
   {
    "duration": 110,
    "start_time": "2022-09-25T11:58:30.828Z"
   },
   {
    "duration": 54,
    "start_time": "2022-09-25T11:58:30.940Z"
   },
   {
    "duration": 106,
    "start_time": "2022-09-25T11:58:30.996Z"
   },
   {
    "duration": 88,
    "start_time": "2022-09-25T11:58:31.104Z"
   },
   {
    "duration": 75,
    "start_time": "2022-09-25T11:58:31.195Z"
   },
   {
    "duration": 6,
    "start_time": "2022-09-25T11:58:31.289Z"
   },
   {
    "duration": 31,
    "start_time": "2022-09-25T11:58:31.297Z"
   },
   {
    "duration": 9,
    "start_time": "2022-09-29T09:40:01.404Z"
   },
   {
    "duration": 669,
    "start_time": "2022-09-29T09:40:10.993Z"
   },
   {
    "duration": 22,
    "start_time": "2022-09-29T09:40:11.664Z"
   },
   {
    "duration": 23,
    "start_time": "2022-09-29T09:40:11.687Z"
   },
   {
    "duration": 38,
    "start_time": "2022-09-29T09:40:11.713Z"
   },
   {
    "duration": 82,
    "start_time": "2022-09-29T09:40:11.752Z"
   },
   {
    "duration": 139,
    "start_time": "2022-09-29T09:40:11.836Z"
   },
   {
    "duration": 49,
    "start_time": "2022-09-29T09:40:11.977Z"
   },
   {
    "duration": 4,
    "start_time": "2022-09-29T09:40:12.028Z"
   },
   {
    "duration": 9,
    "start_time": "2022-09-29T09:40:12.033Z"
   },
   {
    "duration": 6,
    "start_time": "2022-09-29T09:40:12.044Z"
   },
   {
    "duration": 31,
    "start_time": "2022-09-29T09:40:12.052Z"
   },
   {
    "duration": 9,
    "start_time": "2022-09-29T09:40:12.085Z"
   },
   {
    "duration": 8,
    "start_time": "2022-09-29T09:40:12.096Z"
   },
   {
    "duration": 18,
    "start_time": "2022-09-29T09:40:12.106Z"
   },
   {
    "duration": 21,
    "start_time": "2022-09-29T09:40:12.125Z"
   },
   {
    "duration": 15,
    "start_time": "2022-09-29T09:40:12.147Z"
   },
   {
    "duration": 3,
    "start_time": "2022-09-29T09:40:12.163Z"
   },
   {
    "duration": 14,
    "start_time": "2022-09-29T09:40:12.168Z"
   },
   {
    "duration": 19,
    "start_time": "2022-09-29T09:40:12.183Z"
   },
   {
    "duration": 3,
    "start_time": "2022-09-29T09:40:12.203Z"
   },
   {
    "duration": 4,
    "start_time": "2022-09-29T09:40:22.066Z"
   },
   {
    "duration": 6853,
    "start_time": "2022-09-29T09:40:24.958Z"
   },
   {
    "duration": 18,
    "start_time": "2022-09-29T09:40:36.046Z"
   },
   {
    "duration": 4,
    "start_time": "2022-09-29T09:40:44.815Z"
   },
   {
    "duration": 5,
    "start_time": "2022-09-29T09:42:23.641Z"
   },
   {
    "duration": 522,
    "start_time": "2022-09-29T09:42:28.578Z"
   },
   {
    "duration": 66,
    "start_time": "2022-09-29T09:42:31.171Z"
   },
   {
    "duration": 44,
    "start_time": "2022-10-01T12:11:12.627Z"
   },
   {
    "duration": 653,
    "start_time": "2022-10-01T12:11:20.676Z"
   },
   {
    "duration": 27,
    "start_time": "2022-10-01T12:11:27.873Z"
   },
   {
    "duration": 7,
    "start_time": "2022-10-01T12:11:45.816Z"
   },
   {
    "duration": 10,
    "start_time": "2022-10-01T12:12:12.715Z"
   },
   {
    "duration": 435,
    "start_time": "2022-10-01T12:12:39.883Z"
   },
   {
    "duration": 13,
    "start_time": "2022-10-01T12:13:01.073Z"
   },
   {
    "duration": 6,
    "start_time": "2022-10-01T12:14:16.597Z"
   },
   {
    "duration": 13,
    "start_time": "2022-10-01T12:14:37.133Z"
   },
   {
    "duration": 4,
    "start_time": "2022-10-01T12:15:03.152Z"
   },
   {
    "duration": 542,
    "start_time": "2022-10-01T12:15:15.785Z"
   },
   {
    "duration": 5,
    "start_time": "2022-10-01T12:16:30.833Z"
   },
   {
    "duration": 8,
    "start_time": "2022-10-01T12:16:49.316Z"
   },
   {
    "duration": 7,
    "start_time": "2022-10-01T12:18:06.165Z"
   },
   {
    "duration": 5,
    "start_time": "2022-10-01T12:18:17.800Z"
   },
   {
    "duration": 8,
    "start_time": "2022-10-01T12:18:44.990Z"
   },
   {
    "duration": 10,
    "start_time": "2022-10-01T12:19:57.907Z"
   },
   {
    "duration": 22,
    "start_time": "2022-10-01T12:20:21.788Z"
   },
   {
    "duration": 7,
    "start_time": "2022-10-01T12:22:02.995Z"
   },
   {
    "duration": 4,
    "start_time": "2022-10-01T12:22:06.083Z"
   },
   {
    "duration": 6,
    "start_time": "2022-10-01T12:22:06.296Z"
   },
   {
    "duration": 7,
    "start_time": "2022-10-01T12:22:50.311Z"
   },
   {
    "duration": 6,
    "start_time": "2022-10-01T12:23:17.481Z"
   },
   {
    "duration": 6,
    "start_time": "2022-10-01T12:25:03.008Z"
   },
   {
    "duration": 4,
    "start_time": "2022-10-01T12:31:07.547Z"
   },
   {
    "duration": 19,
    "start_time": "2022-10-01T12:31:15.341Z"
   },
   {
    "duration": 5,
    "start_time": "2022-10-01T12:32:27.726Z"
   },
   {
    "duration": 63,
    "start_time": "2022-10-01T13:29:12.430Z"
   },
   {
    "duration": 14,
    "start_time": "2022-10-01T13:29:12.495Z"
   },
   {
    "duration": 15,
    "start_time": "2022-10-01T13:29:12.511Z"
   },
   {
    "duration": 13,
    "start_time": "2022-10-01T13:29:12.529Z"
   },
   {
    "duration": 31,
    "start_time": "2022-10-01T13:29:12.544Z"
   },
   {
    "duration": 4,
    "start_time": "2022-10-01T13:29:12.577Z"
   },
   {
    "duration": 9,
    "start_time": "2022-10-01T13:29:12.582Z"
   },
   {
    "duration": 5,
    "start_time": "2022-10-01T13:29:12.593Z"
   },
   {
    "duration": 6,
    "start_time": "2022-10-01T13:29:12.599Z"
   },
   {
    "duration": 35,
    "start_time": "2022-10-01T13:29:12.607Z"
   },
   {
    "duration": 33,
    "start_time": "2022-10-01T13:29:12.644Z"
   },
   {
    "duration": 10,
    "start_time": "2022-10-01T13:29:12.679Z"
   },
   {
    "duration": 4,
    "start_time": "2022-10-01T13:29:12.691Z"
   },
   {
    "duration": 42,
    "start_time": "2022-10-01T13:29:12.697Z"
   },
   {
    "duration": 20,
    "start_time": "2022-10-01T13:29:12.740Z"
   },
   {
    "duration": 16,
    "start_time": "2022-10-01T13:29:12.762Z"
   },
   {
    "duration": 3,
    "start_time": "2022-10-01T13:29:12.780Z"
   },
   {
    "duration": 12,
    "start_time": "2022-10-01T13:29:12.785Z"
   },
   {
    "duration": 6,
    "start_time": "2022-10-01T13:29:12.798Z"
   },
   {
    "duration": 33,
    "start_time": "2022-10-01T13:29:12.806Z"
   },
   {
    "duration": 32,
    "start_time": "2022-10-01T13:29:12.841Z"
   },
   {
    "duration": 6825,
    "start_time": "2022-10-01T13:29:12.875Z"
   },
   {
    "duration": 6,
    "start_time": "2022-10-01T13:29:22.512Z"
   },
   {
    "duration": 12,
    "start_time": "2022-10-01T13:30:02.659Z"
   },
   {
    "duration": 3,
    "start_time": "2022-10-01T13:30:15.927Z"
   },
   {
    "duration": 5,
    "start_time": "2022-10-01T13:30:24.671Z"
   },
   {
    "duration": 5,
    "start_time": "2022-10-01T13:30:43.507Z"
   },
   {
    "duration": 7,
    "start_time": "2022-10-01T13:31:17.895Z"
   },
   {
    "duration": 4,
    "start_time": "2022-10-01T13:31:24.870Z"
   },
   {
    "duration": 7,
    "start_time": "2022-10-01T13:31:26.747Z"
   },
   {
    "duration": 419,
    "start_time": "2022-10-01T13:31:45.173Z"
   },
   {
    "duration": 4,
    "start_time": "2022-10-01T13:31:55.205Z"
   },
   {
    "duration": 13,
    "start_time": "2022-10-01T13:31:55.566Z"
   },
   {
    "duration": 11,
    "start_time": "2022-10-01T13:31:56.396Z"
   },
   {
    "duration": 3,
    "start_time": "2022-10-01T13:31:58.206Z"
   },
   {
    "duration": 6,
    "start_time": "2022-10-01T13:31:59.859Z"
   },
   {
    "duration": 6710,
    "start_time": "2022-10-01T13:32:02.254Z"
   },
   {
    "duration": 7,
    "start_time": "2022-10-01T13:32:08.966Z"
   },
   {
    "duration": 10,
    "start_time": "2022-10-01T13:32:11.443Z"
   },
   {
    "duration": 7,
    "start_time": "2022-10-01T13:32:12.044Z"
   },
   {
    "duration": 22,
    "start_time": "2022-10-01T13:32:13.895Z"
   },
   {
    "duration": 7,
    "start_time": "2022-10-01T13:32:46.445Z"
   },
   {
    "duration": 713,
    "start_time": "2022-10-09T19:38:39.649Z"
   },
   {
    "duration": 26,
    "start_time": "2022-10-09T19:38:40.364Z"
   },
   {
    "duration": 17,
    "start_time": "2022-10-09T19:38:40.393Z"
   },
   {
    "duration": 16,
    "start_time": "2022-10-09T19:38:40.412Z"
   },
   {
    "duration": 55,
    "start_time": "2022-10-09T19:38:40.430Z"
   },
   {
    "duration": 5,
    "start_time": "2022-10-09T19:38:40.487Z"
   },
   {
    "duration": 31,
    "start_time": "2022-10-09T19:38:40.494Z"
   },
   {
    "duration": 6,
    "start_time": "2022-10-09T19:38:40.527Z"
   },
   {
    "duration": 15,
    "start_time": "2022-10-09T19:38:40.534Z"
   },
   {
    "duration": 7,
    "start_time": "2022-10-09T19:38:40.554Z"
   },
   {
    "duration": 76,
    "start_time": "2022-10-09T19:38:40.563Z"
   },
   {
    "duration": 15,
    "start_time": "2022-10-09T19:38:40.642Z"
   },
   {
    "duration": 5,
    "start_time": "2022-10-09T19:38:40.659Z"
   },
   {
    "duration": 27,
    "start_time": "2022-10-09T19:38:40.666Z"
   },
   {
    "duration": 40,
    "start_time": "2022-10-09T19:38:40.696Z"
   },
   {
    "duration": 19,
    "start_time": "2022-10-09T19:38:40.737Z"
   },
   {
    "duration": 4,
    "start_time": "2022-10-09T19:38:40.758Z"
   },
   {
    "duration": 14,
    "start_time": "2022-10-09T19:38:40.763Z"
   },
   {
    "duration": 9,
    "start_time": "2022-10-09T19:38:40.779Z"
   },
   {
    "duration": 3,
    "start_time": "2022-10-09T19:38:40.821Z"
   },
   {
    "duration": 16,
    "start_time": "2022-10-09T19:38:40.826Z"
   },
   {
    "duration": 8321,
    "start_time": "2022-10-09T19:38:40.844Z"
   },
   {
    "duration": 8,
    "start_time": "2022-10-09T19:38:49.167Z"
   },
   {
    "duration": 544,
    "start_time": "2022-10-09T19:38:49.176Z"
   },
   {
    "duration": 140,
    "start_time": "2022-10-09T19:38:49.722Z"
   },
   {
    "duration": 58,
    "start_time": "2022-10-09T19:38:49.864Z"
   },
   {
    "duration": 90,
    "start_time": "2022-10-09T19:38:49.924Z"
   },
   {
    "duration": 80,
    "start_time": "2022-10-09T19:38:50.022Z"
   },
   {
    "duration": 79,
    "start_time": "2022-10-09T19:38:50.120Z"
   },
   {
    "duration": 31,
    "start_time": "2022-10-09T19:38:50.201Z"
   },
   {
    "duration": 21,
    "start_time": "2022-10-09T19:38:50.235Z"
   },
   {
    "duration": 535,
    "start_time": "2023-01-13T15:19:34.968Z"
   },
   {
    "duration": 26,
    "start_time": "2023-01-13T15:19:35.504Z"
   },
   {
    "duration": 20,
    "start_time": "2023-01-13T15:19:35.532Z"
   },
   {
    "duration": 10,
    "start_time": "2023-01-13T15:19:35.555Z"
   },
   {
    "duration": 38,
    "start_time": "2023-01-13T15:19:35.567Z"
   },
   {
    "duration": 23,
    "start_time": "2023-01-13T15:19:35.607Z"
   },
   {
    "duration": 11,
    "start_time": "2023-01-13T15:19:35.637Z"
   },
   {
    "duration": 6,
    "start_time": "2023-01-13T15:19:35.650Z"
   },
   {
    "duration": 12,
    "start_time": "2023-01-13T15:19:35.658Z"
   },
   {
    "duration": 5,
    "start_time": "2023-01-13T15:19:35.672Z"
   },
   {
    "duration": 55,
    "start_time": "2023-01-13T15:19:35.679Z"
   },
   {
    "duration": 10,
    "start_time": "2023-01-13T15:19:35.736Z"
   },
   {
    "duration": 13,
    "start_time": "2023-01-13T15:19:35.748Z"
   },
   {
    "duration": 20,
    "start_time": "2023-01-13T15:19:35.763Z"
   },
   {
    "duration": 24,
    "start_time": "2023-01-13T15:19:35.786Z"
   },
   {
    "duration": 25,
    "start_time": "2023-01-13T15:19:35.812Z"
   },
   {
    "duration": 25,
    "start_time": "2023-01-13T15:19:35.840Z"
   },
   {
    "duration": 29,
    "start_time": "2023-01-13T15:19:35.869Z"
   },
   {
    "duration": 11,
    "start_time": "2023-01-13T15:19:35.900Z"
   },
   {
    "duration": 5,
    "start_time": "2023-01-13T15:19:35.912Z"
   },
   {
    "duration": 27,
    "start_time": "2023-01-13T15:19:35.918Z"
   },
   {
    "duration": 8299,
    "start_time": "2023-01-13T15:19:35.948Z"
   },
   {
    "duration": 8,
    "start_time": "2023-01-13T15:19:44.250Z"
   },
   {
    "duration": 583,
    "start_time": "2023-01-13T15:19:44.260Z"
   },
   {
    "duration": 176,
    "start_time": "2023-01-13T15:19:44.846Z"
   },
   {
    "duration": 10,
    "start_time": "2023-01-13T15:19:45.025Z"
   },
   {
    "duration": 106,
    "start_time": "2023-01-13T15:19:45.039Z"
   },
   {
    "duration": 90,
    "start_time": "2023-01-13T15:19:45.148Z"
   },
   {
    "duration": 104,
    "start_time": "2023-01-13T15:19:45.240Z"
   },
   {
    "duration": 6,
    "start_time": "2023-01-13T15:19:45.346Z"
   },
   {
    "duration": 22,
    "start_time": "2023-01-13T15:19:45.354Z"
   }
  ],
  "colab": {
   "name": "dpp_template_part2.ipynb",
   "provenance": []
  },
  "kernelspec": {
   "display_name": "Python 3 (ipykernel)",
   "language": "python",
   "name": "python3"
  },
  "language_info": {
   "codemirror_mode": {
    "name": "ipython",
    "version": 3
   },
   "file_extension": ".py",
   "mimetype": "text/x-python",
   "name": "python",
   "nbconvert_exporter": "python",
   "pygments_lexer": "ipython3",
   "version": "3.9.12"
  },
  "toc": {
   "base_numbering": 1,
   "nav_menu": {},
   "number_sections": true,
   "sideBar": true,
   "skip_h1_title": true,
   "title_cell": "Table of Contents",
   "title_sidebar": "Contents",
   "toc_cell": false,
   "toc_position": {},
   "toc_section_display": true,
   "toc_window_display": false
  }
 },
 "nbformat": 4,
 "nbformat_minor": 5
}
