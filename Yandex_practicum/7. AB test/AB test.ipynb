{
 "cells": [
  {
   "cell_type": "markdown",
   "metadata": {},
   "source": [
    "## Принятие решений в бизнесе. Увеличение выручки. \n",
    "\n",
    "**Цель исследования**   \n",
    "\n",
    "Приоретизация гипотез, выполнение и анализ результатов A/B тестов\n",
    "\n",
    "**Входные данные**  \n",
    "\n",
    "* гипотезы (файл hypothesis.csv)\n",
    "\n",
    "`Hypothesis` — краткое описание гипотезы;  \n",
    "`Reach` — охват пользователей по 10-балльной шкале;  \n",
    "`Impact` — влияние на пользователей по 10-балльной шкале;  \n",
    "`Confidence` — уверенность в гипотезе по 10-балльной шкале;  \n",
    "`Efforts` — затраты ресурсов на проверку гипотезы по 10-балльной шкале. Чем больше значение Efforts, тем дороже проверка гипотезы\n",
    "\n",
    "* заказы (файл orders.csv)\n",
    "\n",
    "`transactionId` — идентификатор заказа;  \n",
    "`visitorId` — идентификатор пользователя, совершившего заказ;  \n",
    "`date` — дата, когда был совершён заказ;  \n",
    "`revenue` — выручка заказа;  \n",
    "`group` — группа A/B-теста, в которую попал заказ.\n",
    "\n",
    "* посетители (файл visitors.csv)\n",
    "\n",
    "`date` — дата;  \n",
    "`group` — группа A/B-теста;  \n",
    "`visitors` — количество пользователей в указанную дату в указанной группе A/B-теста.\n",
    "\n",
    "**Ход исследования**  \n",
    "\n",
    "1. Подготовка данных\n",
    "2. Расчет ICE для гипотез\n",
    "3. Расчет RICE для гипотез\n",
    "4. Построенте графиков\n",
    "5. Проверка стат. гипотез\n",
    "6. Вывод\n",
    "\n",
    "**Навыки и инструменты**    \n",
    "\n",
    "`Pandas`   \n",
    "`Numpy`   \n",
    "`Matplotlib`   \n",
    "`Stats`   \n",
    "\n",
    "`A/B-тестирование`  \n",
    "`Проверка стат. гипотез`  \n",
    "`Событийная аналитика`  \n",
    "\n",
    "**Вывод**  \n",
    "\n",
    "Исходя из обнаруженных фактов, тест следует остановить и признать его успешным.\n",
    "\n",
    "Анализ данных говорит о наличии статистически значимых различий в среднем количестве транзакций между группами как по сырым, так и по очищенным данным. Т.е. среднее количество заказов на посетителя в группе B статистически значимо. \n",
    "\n",
    "Анализ даннхых говорит об отсутствии стат. значимых различий в среднем чеке заказа между группами по сырым и очищенным данным. Но при этом относительное различие среднего чека между сегментами практически пропало после очистки данных от аномалий.\n",
    "\n",
    "В процессе работы с даннми было обнаружено, что некоторые пользователи присутствовали в обеих группах, что нарушает правило проведения A/B тестирования (в нашем случае 58 пользователей видели обе версии сайта, чего допускать нельзя). \n",
    "Рекомендуется проверить корректность обработки показа сайта для пользователей и пересмотреть систему тестирования на наличие ошибок. "
   ]
  },
  {
   "cell_type": "code",
   "execution_count": 1,
   "metadata": {},
   "outputs": [],
   "source": [
    "import pandas as pd \n",
    "import numpy as np \n",
    "import datetime as dt\n",
    "import matplotlib.pyplot as plt\n",
    "from pandas.plotting import register_matplotlib_converters\n",
    "import warnings  \n",
    "import scipy.stats as stats\n",
    "pd.options.display.max_colwidth = 100 # изменяет максимальную ширину колонки до 100\n",
    "register_matplotlib_converters()\n",
    "\n",
    "hypothesis = pd.read_csv('/datasets/hypothesis.csv')\n",
    "orders = pd.read_csv('/datasets/orders.csv')\n",
    "visitors = pd.read_csv('/datasets/visitors.csv')\n"
   ]
  },
  {
   "cell_type": "markdown",
   "metadata": {},
   "source": [
    "### Подготовка данных"
   ]
  },
  {
   "cell_type": "markdown",
   "metadata": {},
   "source": [
    "##### Функция для визуализации пропусков в данных"
   ]
  },
  {
   "cell_type": "code",
   "execution_count": 2,
   "metadata": {},
   "outputs": [],
   "source": [
    "def vis_nan(df):\n",
    "    # вывод информации о пропусках в процентах по каждому столбцу\n",
    "    for col in df.columns:\n",
    "        pct_missing = np.mean(df[col].isnull())\n",
    "        print('{} - {}%'.format(col, round(pct_missing*100)))\n",
    "    "
   ]
  },
  {
   "cell_type": "markdown",
   "metadata": {},
   "source": [
    "##### Функция для вывода всей общей информации"
   ]
  },
  {
   "cell_type": "code",
   "execution_count": 3,
   "metadata": {},
   "outputs": [],
   "source": [
    "def gen_info(df):\n",
    "    return display(df.sample(9)), \\\n",
    "    display(df.describe()), \\\n",
    "    display(df.info()), \\\n",
    "    display(df.shape), \\\n",
    "    display(vis_nan(df))"
   ]
  },
  {
   "cell_type": "markdown",
   "metadata": {},
   "source": [
    "##### Применим функции"
   ]
  },
  {
   "cell_type": "code",
   "execution_count": 4,
   "metadata": {},
   "outputs": [
    {
     "data": {
      "text/html": [
       "<div>\n",
       "<style scoped>\n",
       "    .dataframe tbody tr th:only-of-type {\n",
       "        vertical-align: middle;\n",
       "    }\n",
       "\n",
       "    .dataframe tbody tr th {\n",
       "        vertical-align: top;\n",
       "    }\n",
       "\n",
       "    .dataframe thead th {\n",
       "        text-align: right;\n",
       "    }\n",
       "</style>\n",
       "<table border=\"1\" class=\"dataframe\">\n",
       "  <thead>\n",
       "    <tr style=\"text-align: right;\">\n",
       "      <th></th>\n",
       "      <th>Hypothesis</th>\n",
       "      <th>Reach</th>\n",
       "      <th>Impact</th>\n",
       "      <th>Confidence</th>\n",
       "      <th>Efforts</th>\n",
       "    </tr>\n",
       "  </thead>\n",
       "  <tbody>\n",
       "    <tr>\n",
       "      <th>2</th>\n",
       "      <td>Добавить блоки рекомендаций товаров на сайт интернет магазина, чтобы повысить конверсию и средни...</td>\n",
       "      <td>8</td>\n",
       "      <td>3</td>\n",
       "      <td>7</td>\n",
       "      <td>3</td>\n",
       "    </tr>\n",
       "    <tr>\n",
       "      <th>8</th>\n",
       "      <td>Запустить акцию, дающую скидку на товар в день рождения</td>\n",
       "      <td>1</td>\n",
       "      <td>9</td>\n",
       "      <td>9</td>\n",
       "      <td>5</td>\n",
       "    </tr>\n",
       "    <tr>\n",
       "      <th>6</th>\n",
       "      <td>Показать на главной странице баннеры с актуальными акциями и распродажами, чтобы увеличить конве...</td>\n",
       "      <td>5</td>\n",
       "      <td>3</td>\n",
       "      <td>8</td>\n",
       "      <td>3</td>\n",
       "    </tr>\n",
       "    <tr>\n",
       "      <th>4</th>\n",
       "      <td>Изменить цвет фона главной страницы, чтобы увеличить вовлеченность пользователей</td>\n",
       "      <td>3</td>\n",
       "      <td>1</td>\n",
       "      <td>1</td>\n",
       "      <td>1</td>\n",
       "    </tr>\n",
       "    <tr>\n",
       "      <th>0</th>\n",
       "      <td>Добавить два новых канала привлечения трафика, что позволит привлекать на 30% больше пользователей</td>\n",
       "      <td>3</td>\n",
       "      <td>10</td>\n",
       "      <td>8</td>\n",
       "      <td>6</td>\n",
       "    </tr>\n",
       "    <tr>\n",
       "      <th>1</th>\n",
       "      <td>Запустить собственную службу доставки, что сократит срок доставки заказов</td>\n",
       "      <td>2</td>\n",
       "      <td>5</td>\n",
       "      <td>4</td>\n",
       "      <td>10</td>\n",
       "    </tr>\n",
       "    <tr>\n",
       "      <th>5</th>\n",
       "      <td>Добавить страницу отзывов клиентов о магазине, что позволит увеличить количество заказов</td>\n",
       "      <td>3</td>\n",
       "      <td>2</td>\n",
       "      <td>2</td>\n",
       "      <td>3</td>\n",
       "    </tr>\n",
       "    <tr>\n",
       "      <th>3</th>\n",
       "      <td>Изменить структура категорий, что увеличит конверсию, т.к. пользователи быстрее найдут нужный товар</td>\n",
       "      <td>8</td>\n",
       "      <td>3</td>\n",
       "      <td>3</td>\n",
       "      <td>8</td>\n",
       "    </tr>\n",
       "    <tr>\n",
       "      <th>7</th>\n",
       "      <td>Добавить форму подписки на все основные страницы, чтобы собрать базу клиентов для email-рассылок</td>\n",
       "      <td>10</td>\n",
       "      <td>7</td>\n",
       "      <td>8</td>\n",
       "      <td>5</td>\n",
       "    </tr>\n",
       "  </tbody>\n",
       "</table>\n",
       "</div>"
      ],
      "text/plain": [
       "                                                                                            Hypothesis  \\\n",
       "2  Добавить блоки рекомендаций товаров на сайт интернет магазина, чтобы повысить конверсию и средни...   \n",
       "8                                              Запустить акцию, дающую скидку на товар в день рождения   \n",
       "6  Показать на главной странице баннеры с актуальными акциями и распродажами, чтобы увеличить конве...   \n",
       "4                     Изменить цвет фона главной страницы, чтобы увеличить вовлеченность пользователей   \n",
       "0   Добавить два новых канала привлечения трафика, что позволит привлекать на 30% больше пользователей   \n",
       "1                            Запустить собственную службу доставки, что сократит срок доставки заказов   \n",
       "5             Добавить страницу отзывов клиентов о магазине, что позволит увеличить количество заказов   \n",
       "3  Изменить структура категорий, что увеличит конверсию, т.к. пользователи быстрее найдут нужный товар   \n",
       "7     Добавить форму подписки на все основные страницы, чтобы собрать базу клиентов для email-рассылок   \n",
       "\n",
       "   Reach  Impact  Confidence  Efforts  \n",
       "2      8       3           7        3  \n",
       "8      1       9           9        5  \n",
       "6      5       3           8        3  \n",
       "4      3       1           1        1  \n",
       "0      3      10           8        6  \n",
       "1      2       5           4       10  \n",
       "5      3       2           2        3  \n",
       "3      8       3           3        8  \n",
       "7     10       7           8        5  "
      ]
     },
     "metadata": {},
     "output_type": "display_data"
    },
    {
     "data": {
      "text/html": [
       "<div>\n",
       "<style scoped>\n",
       "    .dataframe tbody tr th:only-of-type {\n",
       "        vertical-align: middle;\n",
       "    }\n",
       "\n",
       "    .dataframe tbody tr th {\n",
       "        vertical-align: top;\n",
       "    }\n",
       "\n",
       "    .dataframe thead th {\n",
       "        text-align: right;\n",
       "    }\n",
       "</style>\n",
       "<table border=\"1\" class=\"dataframe\">\n",
       "  <thead>\n",
       "    <tr style=\"text-align: right;\">\n",
       "      <th></th>\n",
       "      <th>Reach</th>\n",
       "      <th>Impact</th>\n",
       "      <th>Confidence</th>\n",
       "      <th>Efforts</th>\n",
       "    </tr>\n",
       "  </thead>\n",
       "  <tbody>\n",
       "    <tr>\n",
       "      <th>count</th>\n",
       "      <td>9.000000</td>\n",
       "      <td>9.000000</td>\n",
       "      <td>9.000000</td>\n",
       "      <td>9.000000</td>\n",
       "    </tr>\n",
       "    <tr>\n",
       "      <th>mean</th>\n",
       "      <td>4.777778</td>\n",
       "      <td>4.777778</td>\n",
       "      <td>5.555556</td>\n",
       "      <td>4.888889</td>\n",
       "    </tr>\n",
       "    <tr>\n",
       "      <th>std</th>\n",
       "      <td>3.153481</td>\n",
       "      <td>3.192874</td>\n",
       "      <td>3.045944</td>\n",
       "      <td>2.803767</td>\n",
       "    </tr>\n",
       "    <tr>\n",
       "      <th>min</th>\n",
       "      <td>1.000000</td>\n",
       "      <td>1.000000</td>\n",
       "      <td>1.000000</td>\n",
       "      <td>1.000000</td>\n",
       "    </tr>\n",
       "    <tr>\n",
       "      <th>25%</th>\n",
       "      <td>3.000000</td>\n",
       "      <td>3.000000</td>\n",
       "      <td>3.000000</td>\n",
       "      <td>3.000000</td>\n",
       "    </tr>\n",
       "    <tr>\n",
       "      <th>50%</th>\n",
       "      <td>3.000000</td>\n",
       "      <td>3.000000</td>\n",
       "      <td>7.000000</td>\n",
       "      <td>5.000000</td>\n",
       "    </tr>\n",
       "    <tr>\n",
       "      <th>75%</th>\n",
       "      <td>8.000000</td>\n",
       "      <td>7.000000</td>\n",
       "      <td>8.000000</td>\n",
       "      <td>6.000000</td>\n",
       "    </tr>\n",
       "    <tr>\n",
       "      <th>max</th>\n",
       "      <td>10.000000</td>\n",
       "      <td>10.000000</td>\n",
       "      <td>9.000000</td>\n",
       "      <td>10.000000</td>\n",
       "    </tr>\n",
       "  </tbody>\n",
       "</table>\n",
       "</div>"
      ],
      "text/plain": [
       "           Reach     Impact  Confidence    Efforts\n",
       "count   9.000000   9.000000    9.000000   9.000000\n",
       "mean    4.777778   4.777778    5.555556   4.888889\n",
       "std     3.153481   3.192874    3.045944   2.803767\n",
       "min     1.000000   1.000000    1.000000   1.000000\n",
       "25%     3.000000   3.000000    3.000000   3.000000\n",
       "50%     3.000000   3.000000    7.000000   5.000000\n",
       "75%     8.000000   7.000000    8.000000   6.000000\n",
       "max    10.000000  10.000000    9.000000  10.000000"
      ]
     },
     "metadata": {},
     "output_type": "display_data"
    },
    {
     "name": "stdout",
     "output_type": "stream",
     "text": [
      "<class 'pandas.core.frame.DataFrame'>\n",
      "RangeIndex: 9 entries, 0 to 8\n",
      "Data columns (total 5 columns):\n",
      " #   Column      Non-Null Count  Dtype \n",
      "---  ------      --------------  ----- \n",
      " 0   Hypothesis  9 non-null      object\n",
      " 1   Reach       9 non-null      int64 \n",
      " 2   Impact      9 non-null      int64 \n",
      " 3   Confidence  9 non-null      int64 \n",
      " 4   Efforts     9 non-null      int64 \n",
      "dtypes: int64(4), object(1)\n",
      "memory usage: 488.0+ bytes\n"
     ]
    },
    {
     "data": {
      "text/plain": [
       "None"
      ]
     },
     "metadata": {},
     "output_type": "display_data"
    },
    {
     "data": {
      "text/plain": [
       "(9, 5)"
      ]
     },
     "metadata": {},
     "output_type": "display_data"
    },
    {
     "name": "stdout",
     "output_type": "stream",
     "text": [
      "Hypothesis - 0%\n",
      "Reach - 0%\n",
      "Impact - 0%\n",
      "Confidence - 0%\n",
      "Efforts - 0%\n"
     ]
    },
    {
     "data": {
      "text/plain": [
       "None"
      ]
     },
     "metadata": {},
     "output_type": "display_data"
    },
    {
     "data": {
      "text/plain": [
       "(None, None, None, None, None)"
      ]
     },
     "execution_count": 4,
     "metadata": {},
     "output_type": "execute_result"
    }
   ],
   "source": [
    "gen_info(hypothesis)"
   ]
  },
  {
   "cell_type": "code",
   "execution_count": 5,
   "metadata": {},
   "outputs": [
    {
     "data": {
      "text/html": [
       "<div>\n",
       "<style scoped>\n",
       "    .dataframe tbody tr th:only-of-type {\n",
       "        vertical-align: middle;\n",
       "    }\n",
       "\n",
       "    .dataframe tbody tr th {\n",
       "        vertical-align: top;\n",
       "    }\n",
       "\n",
       "    .dataframe thead th {\n",
       "        text-align: right;\n",
       "    }\n",
       "</style>\n",
       "<table border=\"1\" class=\"dataframe\">\n",
       "  <thead>\n",
       "    <tr style=\"text-align: right;\">\n",
       "      <th></th>\n",
       "      <th>transactionId</th>\n",
       "      <th>visitorId</th>\n",
       "      <th>date</th>\n",
       "      <th>revenue</th>\n",
       "      <th>group</th>\n",
       "    </tr>\n",
       "  </thead>\n",
       "  <tbody>\n",
       "    <tr>\n",
       "      <th>554</th>\n",
       "      <td>3986425716</td>\n",
       "      <td>3908431265</td>\n",
       "      <td>2019-08-06</td>\n",
       "      <td>890</td>\n",
       "      <td>A</td>\n",
       "    </tr>\n",
       "    <tr>\n",
       "      <th>412</th>\n",
       "      <td>2100491088</td>\n",
       "      <td>1147554328</td>\n",
       "      <td>2019-08-06</td>\n",
       "      <td>990</td>\n",
       "      <td>B</td>\n",
       "    </tr>\n",
       "    <tr>\n",
       "      <th>254</th>\n",
       "      <td>1545495643</td>\n",
       "      <td>2686716486</td>\n",
       "      <td>2019-08-23</td>\n",
       "      <td>34340</td>\n",
       "      <td>B</td>\n",
       "    </tr>\n",
       "    <tr>\n",
       "      <th>153</th>\n",
       "      <td>4045393544</td>\n",
       "      <td>991436984</td>\n",
       "      <td>2019-08-01</td>\n",
       "      <td>1790</td>\n",
       "      <td>A</td>\n",
       "    </tr>\n",
       "    <tr>\n",
       "      <th>152</th>\n",
       "      <td>3227521980</td>\n",
       "      <td>3938001975</td>\n",
       "      <td>2019-08-01</td>\n",
       "      <td>9980</td>\n",
       "      <td>B</td>\n",
       "    </tr>\n",
       "    <tr>\n",
       "      <th>402</th>\n",
       "      <td>371848868</td>\n",
       "      <td>1294878855</td>\n",
       "      <td>2019-08-28</td>\n",
       "      <td>3080</td>\n",
       "      <td>B</td>\n",
       "    </tr>\n",
       "    <tr>\n",
       "      <th>1081</th>\n",
       "      <td>1181289994</td>\n",
       "      <td>3636615199</td>\n",
       "      <td>2019-08-12</td>\n",
       "      <td>8590</td>\n",
       "      <td>A</td>\n",
       "    </tr>\n",
       "    <tr>\n",
       "      <th>704</th>\n",
       "      <td>1185885568</td>\n",
       "      <td>759473111</td>\n",
       "      <td>2019-08-07</td>\n",
       "      <td>19520</td>\n",
       "      <td>A</td>\n",
       "    </tr>\n",
       "    <tr>\n",
       "      <th>653</th>\n",
       "      <td>2107411712</td>\n",
       "      <td>2819363575</td>\n",
       "      <td>2019-08-07</td>\n",
       "      <td>1530</td>\n",
       "      <td>B</td>\n",
       "    </tr>\n",
       "  </tbody>\n",
       "</table>\n",
       "</div>"
      ],
      "text/plain": [
       "      transactionId   visitorId        date  revenue group\n",
       "554      3986425716  3908431265  2019-08-06      890     A\n",
       "412      2100491088  1147554328  2019-08-06      990     B\n",
       "254      1545495643  2686716486  2019-08-23    34340     B\n",
       "153      4045393544   991436984  2019-08-01     1790     A\n",
       "152      3227521980  3938001975  2019-08-01     9980     B\n",
       "402       371848868  1294878855  2019-08-28     3080     B\n",
       "1081     1181289994  3636615199  2019-08-12     8590     A\n",
       "704      1185885568   759473111  2019-08-07    19520     A\n",
       "653      2107411712  2819363575  2019-08-07     1530     B"
      ]
     },
     "metadata": {},
     "output_type": "display_data"
    },
    {
     "data": {
      "text/html": [
       "<div>\n",
       "<style scoped>\n",
       "    .dataframe tbody tr th:only-of-type {\n",
       "        vertical-align: middle;\n",
       "    }\n",
       "\n",
       "    .dataframe tbody tr th {\n",
       "        vertical-align: top;\n",
       "    }\n",
       "\n",
       "    .dataframe thead th {\n",
       "        text-align: right;\n",
       "    }\n",
       "</style>\n",
       "<table border=\"1\" class=\"dataframe\">\n",
       "  <thead>\n",
       "    <tr style=\"text-align: right;\">\n",
       "      <th></th>\n",
       "      <th>transactionId</th>\n",
       "      <th>visitorId</th>\n",
       "      <th>revenue</th>\n",
       "    </tr>\n",
       "  </thead>\n",
       "  <tbody>\n",
       "    <tr>\n",
       "      <th>count</th>\n",
       "      <td>1.197000e+03</td>\n",
       "      <td>1.197000e+03</td>\n",
       "      <td>1.197000e+03</td>\n",
       "    </tr>\n",
       "    <tr>\n",
       "      <th>mean</th>\n",
       "      <td>2.155621e+09</td>\n",
       "      <td>2.165960e+09</td>\n",
       "      <td>8.348006e+03</td>\n",
       "    </tr>\n",
       "    <tr>\n",
       "      <th>std</th>\n",
       "      <td>1.229085e+09</td>\n",
       "      <td>1.236014e+09</td>\n",
       "      <td>3.919113e+04</td>\n",
       "    </tr>\n",
       "    <tr>\n",
       "      <th>min</th>\n",
       "      <td>1.062393e+06</td>\n",
       "      <td>5.114589e+06</td>\n",
       "      <td>5.000000e+01</td>\n",
       "    </tr>\n",
       "    <tr>\n",
       "      <th>25%</th>\n",
       "      <td>1.166776e+09</td>\n",
       "      <td>1.111826e+09</td>\n",
       "      <td>1.220000e+03</td>\n",
       "    </tr>\n",
       "    <tr>\n",
       "      <th>50%</th>\n",
       "      <td>2.145194e+09</td>\n",
       "      <td>2.217985e+09</td>\n",
       "      <td>2.978000e+03</td>\n",
       "    </tr>\n",
       "    <tr>\n",
       "      <th>75%</th>\n",
       "      <td>3.237740e+09</td>\n",
       "      <td>3.177606e+09</td>\n",
       "      <td>8.290000e+03</td>\n",
       "    </tr>\n",
       "    <tr>\n",
       "      <th>max</th>\n",
       "      <td>4.293856e+09</td>\n",
       "      <td>4.283872e+09</td>\n",
       "      <td>1.294500e+06</td>\n",
       "    </tr>\n",
       "  </tbody>\n",
       "</table>\n",
       "</div>"
      ],
      "text/plain": [
       "       transactionId     visitorId       revenue\n",
       "count   1.197000e+03  1.197000e+03  1.197000e+03\n",
       "mean    2.155621e+09  2.165960e+09  8.348006e+03\n",
       "std     1.229085e+09  1.236014e+09  3.919113e+04\n",
       "min     1.062393e+06  5.114589e+06  5.000000e+01\n",
       "25%     1.166776e+09  1.111826e+09  1.220000e+03\n",
       "50%     2.145194e+09  2.217985e+09  2.978000e+03\n",
       "75%     3.237740e+09  3.177606e+09  8.290000e+03\n",
       "max     4.293856e+09  4.283872e+09  1.294500e+06"
      ]
     },
     "metadata": {},
     "output_type": "display_data"
    },
    {
     "name": "stdout",
     "output_type": "stream",
     "text": [
      "<class 'pandas.core.frame.DataFrame'>\n",
      "RangeIndex: 1197 entries, 0 to 1196\n",
      "Data columns (total 5 columns):\n",
      " #   Column         Non-Null Count  Dtype \n",
      "---  ------         --------------  ----- \n",
      " 0   transactionId  1197 non-null   int64 \n",
      " 1   visitorId      1197 non-null   int64 \n",
      " 2   date           1197 non-null   object\n",
      " 3   revenue        1197 non-null   int64 \n",
      " 4   group          1197 non-null   object\n",
      "dtypes: int64(3), object(2)\n",
      "memory usage: 46.9+ KB\n"
     ]
    },
    {
     "data": {
      "text/plain": [
       "None"
      ]
     },
     "metadata": {},
     "output_type": "display_data"
    },
    {
     "data": {
      "text/plain": [
       "(1197, 5)"
      ]
     },
     "metadata": {},
     "output_type": "display_data"
    },
    {
     "name": "stdout",
     "output_type": "stream",
     "text": [
      "transactionId - 0%\n",
      "visitorId - 0%\n",
      "date - 0%\n",
      "revenue - 0%\n",
      "group - 0%\n"
     ]
    },
    {
     "data": {
      "text/plain": [
       "None"
      ]
     },
     "metadata": {},
     "output_type": "display_data"
    },
    {
     "data": {
      "text/plain": [
       "(None, None, None, None, None)"
      ]
     },
     "execution_count": 5,
     "metadata": {},
     "output_type": "execute_result"
    }
   ],
   "source": [
    "gen_info(orders)"
   ]
  },
  {
   "cell_type": "code",
   "execution_count": 6,
   "metadata": {},
   "outputs": [
    {
     "data": {
      "text/html": [
       "<div>\n",
       "<style scoped>\n",
       "    .dataframe tbody tr th:only-of-type {\n",
       "        vertical-align: middle;\n",
       "    }\n",
       "\n",
       "    .dataframe tbody tr th {\n",
       "        vertical-align: top;\n",
       "    }\n",
       "\n",
       "    .dataframe thead th {\n",
       "        text-align: right;\n",
       "    }\n",
       "</style>\n",
       "<table border=\"1\" class=\"dataframe\">\n",
       "  <thead>\n",
       "    <tr style=\"text-align: right;\">\n",
       "      <th></th>\n",
       "      <th>date</th>\n",
       "      <th>group</th>\n",
       "      <th>visitors</th>\n",
       "    </tr>\n",
       "  </thead>\n",
       "  <tbody>\n",
       "    <tr>\n",
       "      <th>2</th>\n",
       "      <td>2019-08-03</td>\n",
       "      <td>A</td>\n",
       "      <td>507</td>\n",
       "    </tr>\n",
       "    <tr>\n",
       "      <th>41</th>\n",
       "      <td>2019-08-11</td>\n",
       "      <td>B</td>\n",
       "      <td>721</td>\n",
       "    </tr>\n",
       "    <tr>\n",
       "      <th>3</th>\n",
       "      <td>2019-08-04</td>\n",
       "      <td>A</td>\n",
       "      <td>717</td>\n",
       "    </tr>\n",
       "    <tr>\n",
       "      <th>23</th>\n",
       "      <td>2019-08-24</td>\n",
       "      <td>A</td>\n",
       "      <td>395</td>\n",
       "    </tr>\n",
       "    <tr>\n",
       "      <th>0</th>\n",
       "      <td>2019-08-01</td>\n",
       "      <td>A</td>\n",
       "      <td>719</td>\n",
       "    </tr>\n",
       "    <tr>\n",
       "      <th>43</th>\n",
       "      <td>2019-08-13</td>\n",
       "      <td>B</td>\n",
       "      <td>769</td>\n",
       "    </tr>\n",
       "    <tr>\n",
       "      <th>22</th>\n",
       "      <td>2019-08-23</td>\n",
       "      <td>A</td>\n",
       "      <td>468</td>\n",
       "    </tr>\n",
       "    <tr>\n",
       "      <th>49</th>\n",
       "      <td>2019-08-19</td>\n",
       "      <td>B</td>\n",
       "      <td>487</td>\n",
       "    </tr>\n",
       "    <tr>\n",
       "      <th>61</th>\n",
       "      <td>2019-08-31</td>\n",
       "      <td>B</td>\n",
       "      <td>718</td>\n",
       "    </tr>\n",
       "  </tbody>\n",
       "</table>\n",
       "</div>"
      ],
      "text/plain": [
       "          date group  visitors\n",
       "2   2019-08-03     A       507\n",
       "41  2019-08-11     B       721\n",
       "3   2019-08-04     A       717\n",
       "23  2019-08-24     A       395\n",
       "0   2019-08-01     A       719\n",
       "43  2019-08-13     B       769\n",
       "22  2019-08-23     A       468\n",
       "49  2019-08-19     B       487\n",
       "61  2019-08-31     B       718"
      ]
     },
     "metadata": {},
     "output_type": "display_data"
    },
    {
     "data": {
      "text/html": [
       "<div>\n",
       "<style scoped>\n",
       "    .dataframe tbody tr th:only-of-type {\n",
       "        vertical-align: middle;\n",
       "    }\n",
       "\n",
       "    .dataframe tbody tr th {\n",
       "        vertical-align: top;\n",
       "    }\n",
       "\n",
       "    .dataframe thead th {\n",
       "        text-align: right;\n",
       "    }\n",
       "</style>\n",
       "<table border=\"1\" class=\"dataframe\">\n",
       "  <thead>\n",
       "    <tr style=\"text-align: right;\">\n",
       "      <th></th>\n",
       "      <th>visitors</th>\n",
       "    </tr>\n",
       "  </thead>\n",
       "  <tbody>\n",
       "    <tr>\n",
       "      <th>count</th>\n",
       "      <td>62.000000</td>\n",
       "    </tr>\n",
       "    <tr>\n",
       "      <th>mean</th>\n",
       "      <td>607.290323</td>\n",
       "    </tr>\n",
       "    <tr>\n",
       "      <th>std</th>\n",
       "      <td>114.400560</td>\n",
       "    </tr>\n",
       "    <tr>\n",
       "      <th>min</th>\n",
       "      <td>361.000000</td>\n",
       "    </tr>\n",
       "    <tr>\n",
       "      <th>25%</th>\n",
       "      <td>534.000000</td>\n",
       "    </tr>\n",
       "    <tr>\n",
       "      <th>50%</th>\n",
       "      <td>624.500000</td>\n",
       "    </tr>\n",
       "    <tr>\n",
       "      <th>75%</th>\n",
       "      <td>710.500000</td>\n",
       "    </tr>\n",
       "    <tr>\n",
       "      <th>max</th>\n",
       "      <td>770.000000</td>\n",
       "    </tr>\n",
       "  </tbody>\n",
       "</table>\n",
       "</div>"
      ],
      "text/plain": [
       "         visitors\n",
       "count   62.000000\n",
       "mean   607.290323\n",
       "std    114.400560\n",
       "min    361.000000\n",
       "25%    534.000000\n",
       "50%    624.500000\n",
       "75%    710.500000\n",
       "max    770.000000"
      ]
     },
     "metadata": {},
     "output_type": "display_data"
    },
    {
     "name": "stdout",
     "output_type": "stream",
     "text": [
      "<class 'pandas.core.frame.DataFrame'>\n",
      "RangeIndex: 62 entries, 0 to 61\n",
      "Data columns (total 3 columns):\n",
      " #   Column    Non-Null Count  Dtype \n",
      "---  ------    --------------  ----- \n",
      " 0   date      62 non-null     object\n",
      " 1   group     62 non-null     object\n",
      " 2   visitors  62 non-null     int64 \n",
      "dtypes: int64(1), object(2)\n",
      "memory usage: 1.6+ KB\n"
     ]
    },
    {
     "data": {
      "text/plain": [
       "None"
      ]
     },
     "metadata": {},
     "output_type": "display_data"
    },
    {
     "data": {
      "text/plain": [
       "(62, 3)"
      ]
     },
     "metadata": {},
     "output_type": "display_data"
    },
    {
     "name": "stdout",
     "output_type": "stream",
     "text": [
      "date - 0%\n",
      "group - 0%\n",
      "visitors - 0%\n"
     ]
    },
    {
     "data": {
      "text/plain": [
       "None"
      ]
     },
     "metadata": {},
     "output_type": "display_data"
    },
    {
     "data": {
      "text/plain": [
       "(None, None, None, None, None)"
      ]
     },
     "execution_count": 6,
     "metadata": {},
     "output_type": "execute_result"
    }
   ],
   "source": [
    "gen_info(visitors)"
   ]
  },
  {
   "cell_type": "markdown",
   "metadata": {},
   "source": [
    "**Вывод**:  \n",
    "Пропусков в данных нет, но нужно изменить тип данных в столбце date"
   ]
  },
  {
   "cell_type": "code",
   "execution_count": 7,
   "metadata": {},
   "outputs": [],
   "source": [
    "orders['date'] = pd.to_datetime(orders['date'])\n",
    "visitors['date'] = pd.to_datetime(visitors['date'])"
   ]
  },
  {
   "cell_type": "markdown",
   "metadata": {},
   "source": [
    "### Часть 1 "
   ]
  },
  {
   "cell_type": "code",
   "execution_count": 8,
   "metadata": {
    "scrolled": true
   },
   "outputs": [
    {
     "data": {
      "text/html": [
       "<div>\n",
       "<style scoped>\n",
       "    .dataframe tbody tr th:only-of-type {\n",
       "        vertical-align: middle;\n",
       "    }\n",
       "\n",
       "    .dataframe tbody tr th {\n",
       "        vertical-align: top;\n",
       "    }\n",
       "\n",
       "    .dataframe thead th {\n",
       "        text-align: right;\n",
       "    }\n",
       "</style>\n",
       "<table border=\"1\" class=\"dataframe\">\n",
       "  <thead>\n",
       "    <tr style=\"text-align: right;\">\n",
       "      <th></th>\n",
       "      <th>Hypothesis</th>\n",
       "      <th>Reach</th>\n",
       "      <th>Impact</th>\n",
       "      <th>Confidence</th>\n",
       "      <th>Efforts</th>\n",
       "    </tr>\n",
       "  </thead>\n",
       "  <tbody>\n",
       "    <tr>\n",
       "      <th>0</th>\n",
       "      <td>Добавить два новых канала привлечения трафика, что позволит привлекать на 30% больше пользователей</td>\n",
       "      <td>3</td>\n",
       "      <td>10</td>\n",
       "      <td>8</td>\n",
       "      <td>6</td>\n",
       "    </tr>\n",
       "    <tr>\n",
       "      <th>1</th>\n",
       "      <td>Запустить собственную службу доставки, что сократит срок доставки заказов</td>\n",
       "      <td>2</td>\n",
       "      <td>5</td>\n",
       "      <td>4</td>\n",
       "      <td>10</td>\n",
       "    </tr>\n",
       "    <tr>\n",
       "      <th>2</th>\n",
       "      <td>Добавить блоки рекомендаций товаров на сайт интернет магазина, чтобы повысить конверсию и средни...</td>\n",
       "      <td>8</td>\n",
       "      <td>3</td>\n",
       "      <td>7</td>\n",
       "      <td>3</td>\n",
       "    </tr>\n",
       "    <tr>\n",
       "      <th>3</th>\n",
       "      <td>Изменить структура категорий, что увеличит конверсию, т.к. пользователи быстрее найдут нужный товар</td>\n",
       "      <td>8</td>\n",
       "      <td>3</td>\n",
       "      <td>3</td>\n",
       "      <td>8</td>\n",
       "    </tr>\n",
       "    <tr>\n",
       "      <th>4</th>\n",
       "      <td>Изменить цвет фона главной страницы, чтобы увеличить вовлеченность пользователей</td>\n",
       "      <td>3</td>\n",
       "      <td>1</td>\n",
       "      <td>1</td>\n",
       "      <td>1</td>\n",
       "    </tr>\n",
       "    <tr>\n",
       "      <th>5</th>\n",
       "      <td>Добавить страницу отзывов клиентов о магазине, что позволит увеличить количество заказов</td>\n",
       "      <td>3</td>\n",
       "      <td>2</td>\n",
       "      <td>2</td>\n",
       "      <td>3</td>\n",
       "    </tr>\n",
       "    <tr>\n",
       "      <th>6</th>\n",
       "      <td>Показать на главной странице баннеры с актуальными акциями и распродажами, чтобы увеличить конве...</td>\n",
       "      <td>5</td>\n",
       "      <td>3</td>\n",
       "      <td>8</td>\n",
       "      <td>3</td>\n",
       "    </tr>\n",
       "    <tr>\n",
       "      <th>7</th>\n",
       "      <td>Добавить форму подписки на все основные страницы, чтобы собрать базу клиентов для email-рассылок</td>\n",
       "      <td>10</td>\n",
       "      <td>7</td>\n",
       "      <td>8</td>\n",
       "      <td>5</td>\n",
       "    </tr>\n",
       "    <tr>\n",
       "      <th>8</th>\n",
       "      <td>Запустить акцию, дающую скидку на товар в день рождения</td>\n",
       "      <td>1</td>\n",
       "      <td>9</td>\n",
       "      <td>9</td>\n",
       "      <td>5</td>\n",
       "    </tr>\n",
       "  </tbody>\n",
       "</table>\n",
       "</div>"
      ],
      "text/plain": [
       "                                                                                            Hypothesis  \\\n",
       "0   Добавить два новых канала привлечения трафика, что позволит привлекать на 30% больше пользователей   \n",
       "1                            Запустить собственную службу доставки, что сократит срок доставки заказов   \n",
       "2  Добавить блоки рекомендаций товаров на сайт интернет магазина, чтобы повысить конверсию и средни...   \n",
       "3  Изменить структура категорий, что увеличит конверсию, т.к. пользователи быстрее найдут нужный товар   \n",
       "4                     Изменить цвет фона главной страницы, чтобы увеличить вовлеченность пользователей   \n",
       "5             Добавить страницу отзывов клиентов о магазине, что позволит увеличить количество заказов   \n",
       "6  Показать на главной странице баннеры с актуальными акциями и распродажами, чтобы увеличить конве...   \n",
       "7     Добавить форму подписки на все основные страницы, чтобы собрать базу клиентов для email-рассылок   \n",
       "8                                              Запустить акцию, дающую скидку на товар в день рождения   \n",
       "\n",
       "   Reach  Impact  Confidence  Efforts  \n",
       "0      3      10           8        6  \n",
       "1      2       5           4       10  \n",
       "2      8       3           7        3  \n",
       "3      8       3           3        8  \n",
       "4      3       1           1        1  \n",
       "5      3       2           2        3  \n",
       "6      5       3           8        3  \n",
       "7     10       7           8        5  \n",
       "8      1       9           9        5  "
      ]
     },
     "execution_count": 8,
     "metadata": {},
     "output_type": "execute_result"
    }
   ],
   "source": [
    "hypothesis"
   ]
  },
  {
   "cell_type": "markdown",
   "metadata": {},
   "source": [
    "Переведем названия столбцов в нижний регистр. "
   ]
  },
  {
   "cell_type": "code",
   "execution_count": 9,
   "metadata": {},
   "outputs": [],
   "source": [
    "hypothesis.columns = [name.lower() for name in hypothesis.columns]"
   ]
  },
  {
   "cell_type": "markdown",
   "metadata": {},
   "source": [
    "##### Посчитаем ICE для гипотез "
   ]
  },
  {
   "cell_type": "code",
   "execution_count": 10,
   "metadata": {},
   "outputs": [
    {
     "data": {
      "text/html": [
       "<div>\n",
       "<style scoped>\n",
       "    .dataframe tbody tr th:only-of-type {\n",
       "        vertical-align: middle;\n",
       "    }\n",
       "\n",
       "    .dataframe tbody tr th {\n",
       "        vertical-align: top;\n",
       "    }\n",
       "\n",
       "    .dataframe thead th {\n",
       "        text-align: right;\n",
       "    }\n",
       "</style>\n",
       "<table border=\"1\" class=\"dataframe\">\n",
       "  <thead>\n",
       "    <tr style=\"text-align: right;\">\n",
       "      <th></th>\n",
       "      <th>hypothesis</th>\n",
       "      <th>reach</th>\n",
       "      <th>impact</th>\n",
       "      <th>confidence</th>\n",
       "      <th>efforts</th>\n",
       "      <th>ICE</th>\n",
       "    </tr>\n",
       "  </thead>\n",
       "  <tbody>\n",
       "    <tr>\n",
       "      <th>8</th>\n",
       "      <td>Запустить акцию, дающую скидку на товар в день рождения</td>\n",
       "      <td>1</td>\n",
       "      <td>9</td>\n",
       "      <td>9</td>\n",
       "      <td>5</td>\n",
       "      <td>16.20</td>\n",
       "    </tr>\n",
       "    <tr>\n",
       "      <th>0</th>\n",
       "      <td>Добавить два новых канала привлечения трафика, что позволит привлекать на 30% больше пользователей</td>\n",
       "      <td>3</td>\n",
       "      <td>10</td>\n",
       "      <td>8</td>\n",
       "      <td>6</td>\n",
       "      <td>13.33</td>\n",
       "    </tr>\n",
       "    <tr>\n",
       "      <th>7</th>\n",
       "      <td>Добавить форму подписки на все основные страницы, чтобы собрать базу клиентов для email-рассылок</td>\n",
       "      <td>10</td>\n",
       "      <td>7</td>\n",
       "      <td>8</td>\n",
       "      <td>5</td>\n",
       "      <td>11.20</td>\n",
       "    </tr>\n",
       "    <tr>\n",
       "      <th>6</th>\n",
       "      <td>Показать на главной странице баннеры с актуальными акциями и распродажами, чтобы увеличить конве...</td>\n",
       "      <td>5</td>\n",
       "      <td>3</td>\n",
       "      <td>8</td>\n",
       "      <td>3</td>\n",
       "      <td>8.00</td>\n",
       "    </tr>\n",
       "    <tr>\n",
       "      <th>2</th>\n",
       "      <td>Добавить блоки рекомендаций товаров на сайт интернет магазина, чтобы повысить конверсию и средни...</td>\n",
       "      <td>8</td>\n",
       "      <td>3</td>\n",
       "      <td>7</td>\n",
       "      <td>3</td>\n",
       "      <td>7.00</td>\n",
       "    </tr>\n",
       "    <tr>\n",
       "      <th>1</th>\n",
       "      <td>Запустить собственную службу доставки, что сократит срок доставки заказов</td>\n",
       "      <td>2</td>\n",
       "      <td>5</td>\n",
       "      <td>4</td>\n",
       "      <td>10</td>\n",
       "      <td>2.00</td>\n",
       "    </tr>\n",
       "    <tr>\n",
       "      <th>5</th>\n",
       "      <td>Добавить страницу отзывов клиентов о магазине, что позволит увеличить количество заказов</td>\n",
       "      <td>3</td>\n",
       "      <td>2</td>\n",
       "      <td>2</td>\n",
       "      <td>3</td>\n",
       "      <td>1.33</td>\n",
       "    </tr>\n",
       "    <tr>\n",
       "      <th>3</th>\n",
       "      <td>Изменить структура категорий, что увеличит конверсию, т.к. пользователи быстрее найдут нужный товар</td>\n",
       "      <td>8</td>\n",
       "      <td>3</td>\n",
       "      <td>3</td>\n",
       "      <td>8</td>\n",
       "      <td>1.12</td>\n",
       "    </tr>\n",
       "    <tr>\n",
       "      <th>4</th>\n",
       "      <td>Изменить цвет фона главной страницы, чтобы увеличить вовлеченность пользователей</td>\n",
       "      <td>3</td>\n",
       "      <td>1</td>\n",
       "      <td>1</td>\n",
       "      <td>1</td>\n",
       "      <td>1.00</td>\n",
       "    </tr>\n",
       "  </tbody>\n",
       "</table>\n",
       "</div>"
      ],
      "text/plain": [
       "                                                                                            hypothesis  \\\n",
       "8                                              Запустить акцию, дающую скидку на товар в день рождения   \n",
       "0   Добавить два новых канала привлечения трафика, что позволит привлекать на 30% больше пользователей   \n",
       "7     Добавить форму подписки на все основные страницы, чтобы собрать базу клиентов для email-рассылок   \n",
       "6  Показать на главной странице баннеры с актуальными акциями и распродажами, чтобы увеличить конве...   \n",
       "2  Добавить блоки рекомендаций товаров на сайт интернет магазина, чтобы повысить конверсию и средни...   \n",
       "1                            Запустить собственную службу доставки, что сократит срок доставки заказов   \n",
       "5             Добавить страницу отзывов клиентов о магазине, что позволит увеличить количество заказов   \n",
       "3  Изменить структура категорий, что увеличит конверсию, т.к. пользователи быстрее найдут нужный товар   \n",
       "4                     Изменить цвет фона главной страницы, чтобы увеличить вовлеченность пользователей   \n",
       "\n",
       "   reach  impact  confidence  efforts    ICE  \n",
       "8      1       9           9        5  16.20  \n",
       "0      3      10           8        6  13.33  \n",
       "7     10       7           8        5  11.20  \n",
       "6      5       3           8        3   8.00  \n",
       "2      8       3           7        3   7.00  \n",
       "1      2       5           4       10   2.00  \n",
       "5      3       2           2        3   1.33  \n",
       "3      8       3           3        8   1.12  \n",
       "4      3       1           1        1   1.00  "
      ]
     },
     "execution_count": 10,
     "metadata": {},
     "output_type": "execute_result"
    }
   ],
   "source": [
    "hypothesis['ICE'] = round((hypothesis['impact'] * hypothesis['confidence']) / hypothesis['efforts'], 2)\n",
    "hypothesis.sort_values(by = 'ICE', ascending = False) "
   ]
  },
  {
   "cell_type": "markdown",
   "metadata": {},
   "source": [
    "##### Посчитаем RICE для гипотез "
   ]
  },
  {
   "cell_type": "code",
   "execution_count": 11,
   "metadata": {},
   "outputs": [
    {
     "data": {
      "text/html": [
       "<div>\n",
       "<style scoped>\n",
       "    .dataframe tbody tr th:only-of-type {\n",
       "        vertical-align: middle;\n",
       "    }\n",
       "\n",
       "    .dataframe tbody tr th {\n",
       "        vertical-align: top;\n",
       "    }\n",
       "\n",
       "    .dataframe thead th {\n",
       "        text-align: right;\n",
       "    }\n",
       "</style>\n",
       "<table border=\"1\" class=\"dataframe\">\n",
       "  <thead>\n",
       "    <tr style=\"text-align: right;\">\n",
       "      <th></th>\n",
       "      <th>hypothesis</th>\n",
       "      <th>reach</th>\n",
       "      <th>impact</th>\n",
       "      <th>confidence</th>\n",
       "      <th>efforts</th>\n",
       "      <th>ICE</th>\n",
       "      <th>RICE</th>\n",
       "    </tr>\n",
       "  </thead>\n",
       "  <tbody>\n",
       "    <tr>\n",
       "      <th>7</th>\n",
       "      <td>Добавить форму подписки на все основные страницы, чтобы собрать базу клиентов для email-рассылок</td>\n",
       "      <td>10</td>\n",
       "      <td>7</td>\n",
       "      <td>8</td>\n",
       "      <td>5</td>\n",
       "      <td>11.20</td>\n",
       "      <td>112.0</td>\n",
       "    </tr>\n",
       "    <tr>\n",
       "      <th>2</th>\n",
       "      <td>Добавить блоки рекомендаций товаров на сайт интернет магазина, чтобы повысить конверсию и средни...</td>\n",
       "      <td>8</td>\n",
       "      <td>3</td>\n",
       "      <td>7</td>\n",
       "      <td>3</td>\n",
       "      <td>7.00</td>\n",
       "      <td>56.0</td>\n",
       "    </tr>\n",
       "    <tr>\n",
       "      <th>0</th>\n",
       "      <td>Добавить два новых канала привлечения трафика, что позволит привлекать на 30% больше пользователей</td>\n",
       "      <td>3</td>\n",
       "      <td>10</td>\n",
       "      <td>8</td>\n",
       "      <td>6</td>\n",
       "      <td>13.33</td>\n",
       "      <td>40.0</td>\n",
       "    </tr>\n",
       "    <tr>\n",
       "      <th>6</th>\n",
       "      <td>Показать на главной странице баннеры с актуальными акциями и распродажами, чтобы увеличить конве...</td>\n",
       "      <td>5</td>\n",
       "      <td>3</td>\n",
       "      <td>8</td>\n",
       "      <td>3</td>\n",
       "      <td>8.00</td>\n",
       "      <td>40.0</td>\n",
       "    </tr>\n",
       "    <tr>\n",
       "      <th>8</th>\n",
       "      <td>Запустить акцию, дающую скидку на товар в день рождения</td>\n",
       "      <td>1</td>\n",
       "      <td>9</td>\n",
       "      <td>9</td>\n",
       "      <td>5</td>\n",
       "      <td>16.20</td>\n",
       "      <td>16.2</td>\n",
       "    </tr>\n",
       "    <tr>\n",
       "      <th>3</th>\n",
       "      <td>Изменить структура категорий, что увеличит конверсию, т.к. пользователи быстрее найдут нужный товар</td>\n",
       "      <td>8</td>\n",
       "      <td>3</td>\n",
       "      <td>3</td>\n",
       "      <td>8</td>\n",
       "      <td>1.12</td>\n",
       "      <td>9.0</td>\n",
       "    </tr>\n",
       "    <tr>\n",
       "      <th>1</th>\n",
       "      <td>Запустить собственную службу доставки, что сократит срок доставки заказов</td>\n",
       "      <td>2</td>\n",
       "      <td>5</td>\n",
       "      <td>4</td>\n",
       "      <td>10</td>\n",
       "      <td>2.00</td>\n",
       "      <td>4.0</td>\n",
       "    </tr>\n",
       "    <tr>\n",
       "      <th>5</th>\n",
       "      <td>Добавить страницу отзывов клиентов о магазине, что позволит увеличить количество заказов</td>\n",
       "      <td>3</td>\n",
       "      <td>2</td>\n",
       "      <td>2</td>\n",
       "      <td>3</td>\n",
       "      <td>1.33</td>\n",
       "      <td>4.0</td>\n",
       "    </tr>\n",
       "    <tr>\n",
       "      <th>4</th>\n",
       "      <td>Изменить цвет фона главной страницы, чтобы увеличить вовлеченность пользователей</td>\n",
       "      <td>3</td>\n",
       "      <td>1</td>\n",
       "      <td>1</td>\n",
       "      <td>1</td>\n",
       "      <td>1.00</td>\n",
       "      <td>3.0</td>\n",
       "    </tr>\n",
       "  </tbody>\n",
       "</table>\n",
       "</div>"
      ],
      "text/plain": [
       "                                                                                            hypothesis  \\\n",
       "7     Добавить форму подписки на все основные страницы, чтобы собрать базу клиентов для email-рассылок   \n",
       "2  Добавить блоки рекомендаций товаров на сайт интернет магазина, чтобы повысить конверсию и средни...   \n",
       "0   Добавить два новых канала привлечения трафика, что позволит привлекать на 30% больше пользователей   \n",
       "6  Показать на главной странице баннеры с актуальными акциями и распродажами, чтобы увеличить конве...   \n",
       "8                                              Запустить акцию, дающую скидку на товар в день рождения   \n",
       "3  Изменить структура категорий, что увеличит конверсию, т.к. пользователи быстрее найдут нужный товар   \n",
       "1                            Запустить собственную службу доставки, что сократит срок доставки заказов   \n",
       "5             Добавить страницу отзывов клиентов о магазине, что позволит увеличить количество заказов   \n",
       "4                     Изменить цвет фона главной страницы, чтобы увеличить вовлеченность пользователей   \n",
       "\n",
       "   reach  impact  confidence  efforts    ICE   RICE  \n",
       "7     10       7           8        5  11.20  112.0  \n",
       "2      8       3           7        3   7.00   56.0  \n",
       "0      3      10           8        6  13.33   40.0  \n",
       "6      5       3           8        3   8.00   40.0  \n",
       "8      1       9           9        5  16.20   16.2  \n",
       "3      8       3           3        8   1.12    9.0  \n",
       "1      2       5           4       10   2.00    4.0  \n",
       "5      3       2           2        3   1.33    4.0  \n",
       "4      3       1           1        1   1.00    3.0  "
      ]
     },
     "execution_count": 11,
     "metadata": {},
     "output_type": "execute_result"
    }
   ],
   "source": [
    "hypothesis['RICE'] = round((hypothesis['reach'] * hypothesis['impact'] * hypothesis['confidence']) / hypothesis['efforts'], 2)\n",
    "hypothesis.sort_values(by = 'RICE', ascending = False) "
   ]
  },
  {
   "cell_type": "markdown",
   "metadata": {},
   "source": [
    "**Вывод**: Фрейморк `RICE` при расчете учитывает показатель \"reach\". В формуле он располагается в числителе и умножается на все остальные показатели тем самым увеличивая показатель `RICE`. Следрвательно чем больше reach, тем больше показатель `RICE`. Эти изменения можно наблюдать при сравнении показателей `ICE` и `RICE`.  \n",
    "\n",
    "При использования фреймворка `ICE` первенство занимала гипотеза \"*Запустить акцию, дающую скидку на товар в день рождения*\". Эта гипотеза имела высокий impact и confidence и поэтому имела высокий `ICE`. Но при этом эта же гипотеза имела самый низкий возможный reach. При подсчете `ICE` этот показатель не учитывается. Поэтому при расчете `RICE` эта гипотеза спускаеися на 5 место, а первенство занимает уже гипотеза \"*Добавить форму подписки на все основные страницы, чтобы собрать базу клиентов для email-рассылок*\". Эта гипотеза имеет высокие `reach`, `impact`, `confidence` и средний показатель `efforts`.\n",
    "\n",
    "Так же сильные изменения при разных фреймворках произошли для гипотезы \"*Изменить структура категорий, что увеличит конверсию, т.к. пользователи быстрее найдут нужный товар*\": при расчете `ICE` эта гипотеза занимала предпоследнее место, а при расчете `RICE` уже 2-ое. Этот случай ярко демонстрирует как сильно один показатель влияет на приоретизацию гипотез и как важен выбор фрейморка. "
   ]
  },
  {
   "cell_type": "markdown",
   "metadata": {},
   "source": [
    "### Часть 2"
   ]
  },
  {
   "cell_type": "code",
   "execution_count": 12,
   "metadata": {
    "scrolled": true
   },
   "outputs": [
    {
     "data": {
      "text/html": [
       "<div>\n",
       "<style scoped>\n",
       "    .dataframe tbody tr th:only-of-type {\n",
       "        vertical-align: middle;\n",
       "    }\n",
       "\n",
       "    .dataframe tbody tr th {\n",
       "        vertical-align: top;\n",
       "    }\n",
       "\n",
       "    .dataframe thead th {\n",
       "        text-align: right;\n",
       "    }\n",
       "</style>\n",
       "<table border=\"1\" class=\"dataframe\">\n",
       "  <thead>\n",
       "    <tr style=\"text-align: right;\">\n",
       "      <th></th>\n",
       "      <th>transactionId</th>\n",
       "      <th>visitorId</th>\n",
       "      <th>date</th>\n",
       "      <th>revenue</th>\n",
       "      <th>group</th>\n",
       "    </tr>\n",
       "  </thead>\n",
       "  <tbody>\n",
       "    <tr>\n",
       "      <th>0</th>\n",
       "      <td>3667963787</td>\n",
       "      <td>3312258926</td>\n",
       "      <td>2019-08-15</td>\n",
       "      <td>1650</td>\n",
       "      <td>B</td>\n",
       "    </tr>\n",
       "    <tr>\n",
       "      <th>1</th>\n",
       "      <td>2804400009</td>\n",
       "      <td>3642806036</td>\n",
       "      <td>2019-08-15</td>\n",
       "      <td>730</td>\n",
       "      <td>B</td>\n",
       "    </tr>\n",
       "    <tr>\n",
       "      <th>2</th>\n",
       "      <td>2961555356</td>\n",
       "      <td>4069496402</td>\n",
       "      <td>2019-08-15</td>\n",
       "      <td>400</td>\n",
       "      <td>A</td>\n",
       "    </tr>\n",
       "    <tr>\n",
       "      <th>3</th>\n",
       "      <td>3797467345</td>\n",
       "      <td>1196621759</td>\n",
       "      <td>2019-08-15</td>\n",
       "      <td>9759</td>\n",
       "      <td>B</td>\n",
       "    </tr>\n",
       "    <tr>\n",
       "      <th>4</th>\n",
       "      <td>2282983706</td>\n",
       "      <td>2322279887</td>\n",
       "      <td>2019-08-15</td>\n",
       "      <td>2308</td>\n",
       "      <td>B</td>\n",
       "    </tr>\n",
       "    <tr>\n",
       "      <th>...</th>\n",
       "      <td>...</td>\n",
       "      <td>...</td>\n",
       "      <td>...</td>\n",
       "      <td>...</td>\n",
       "      <td>...</td>\n",
       "    </tr>\n",
       "    <tr>\n",
       "      <th>1192</th>\n",
       "      <td>2662137336</td>\n",
       "      <td>3733762160</td>\n",
       "      <td>2019-08-14</td>\n",
       "      <td>6490</td>\n",
       "      <td>B</td>\n",
       "    </tr>\n",
       "    <tr>\n",
       "      <th>1193</th>\n",
       "      <td>2203539145</td>\n",
       "      <td>370388673</td>\n",
       "      <td>2019-08-14</td>\n",
       "      <td>3190</td>\n",
       "      <td>A</td>\n",
       "    </tr>\n",
       "    <tr>\n",
       "      <th>1194</th>\n",
       "      <td>1807773912</td>\n",
       "      <td>573423106</td>\n",
       "      <td>2019-08-14</td>\n",
       "      <td>10550</td>\n",
       "      <td>A</td>\n",
       "    </tr>\n",
       "    <tr>\n",
       "      <th>1195</th>\n",
       "      <td>1947021204</td>\n",
       "      <td>1614305549</td>\n",
       "      <td>2019-08-14</td>\n",
       "      <td>100</td>\n",
       "      <td>A</td>\n",
       "    </tr>\n",
       "    <tr>\n",
       "      <th>1196</th>\n",
       "      <td>3936777065</td>\n",
       "      <td>2108080724</td>\n",
       "      <td>2019-08-15</td>\n",
       "      <td>202740</td>\n",
       "      <td>B</td>\n",
       "    </tr>\n",
       "  </tbody>\n",
       "</table>\n",
       "<p>1197 rows × 5 columns</p>\n",
       "</div>"
      ],
      "text/plain": [
       "      transactionId   visitorId       date  revenue group\n",
       "0        3667963787  3312258926 2019-08-15     1650     B\n",
       "1        2804400009  3642806036 2019-08-15      730     B\n",
       "2        2961555356  4069496402 2019-08-15      400     A\n",
       "3        3797467345  1196621759 2019-08-15     9759     B\n",
       "4        2282983706  2322279887 2019-08-15     2308     B\n",
       "...             ...         ...        ...      ...   ...\n",
       "1192     2662137336  3733762160 2019-08-14     6490     B\n",
       "1193     2203539145   370388673 2019-08-14     3190     A\n",
       "1194     1807773912   573423106 2019-08-14    10550     A\n",
       "1195     1947021204  1614305549 2019-08-14      100     A\n",
       "1196     3936777065  2108080724 2019-08-15   202740     B\n",
       "\n",
       "[1197 rows x 5 columns]"
      ]
     },
     "execution_count": 12,
     "metadata": {},
     "output_type": "execute_result"
    }
   ],
   "source": [
    "orders"
   ]
  },
  {
   "cell_type": "code",
   "execution_count": 13,
   "metadata": {},
   "outputs": [
    {
     "data": {
      "text/plain": [
       "0"
      ]
     },
     "execution_count": 13,
     "metadata": {},
     "output_type": "execute_result"
    }
   ],
   "source": [
    "orders.duplicated().sum()"
   ]
  },
  {
   "cell_type": "markdown",
   "metadata": {},
   "source": [
    "**Явных дубликатов нет**"
   ]
  },
  {
   "cell_type": "markdown",
   "metadata": {},
   "source": [
    "##### Проверим не попали ли пользователи одной группы в другую. Используем для этого множества."
   ]
  },
  {
   "cell_type": "code",
   "execution_count": 14,
   "metadata": {},
   "outputs": [
    {
     "data": {
      "text/plain": [
       "58"
      ]
     },
     "execution_count": 14,
     "metadata": {},
     "output_type": "execute_result"
    }
   ],
   "source": [
    "id_group_a = orders.query('group == \"A\"')['visitorId']\n",
    "id_group_b = orders.query('group == \"B\"')['visitorId']\n",
    "len(set(id_group_a) & set(id_group_b))"
   ]
  },
  {
   "cell_type": "markdown",
   "metadata": {},
   "source": [
    "**Вывод**: Обнаружили 58 пользователей, которые каким-то образом попали в обе группы. Преподаватель по проектам объяснил, что удалять их не нужно и в реальной практике нужно сообщить об этом случае разработке. "
   ]
  },
  {
   "cell_type": "code",
   "execution_count": 15,
   "metadata": {
    "scrolled": true
   },
   "outputs": [
    {
     "data": {
      "text/html": [
       "<div>\n",
       "<style scoped>\n",
       "    .dataframe tbody tr th:only-of-type {\n",
       "        vertical-align: middle;\n",
       "    }\n",
       "\n",
       "    .dataframe tbody tr th {\n",
       "        vertical-align: top;\n",
       "    }\n",
       "\n",
       "    .dataframe thead th {\n",
       "        text-align: right;\n",
       "    }\n",
       "</style>\n",
       "<table border=\"1\" class=\"dataframe\">\n",
       "  <thead>\n",
       "    <tr style=\"text-align: right;\">\n",
       "      <th></th>\n",
       "      <th>date</th>\n",
       "      <th>group</th>\n",
       "      <th>visitors</th>\n",
       "    </tr>\n",
       "  </thead>\n",
       "  <tbody>\n",
       "    <tr>\n",
       "      <th>0</th>\n",
       "      <td>2019-08-01</td>\n",
       "      <td>A</td>\n",
       "      <td>719</td>\n",
       "    </tr>\n",
       "    <tr>\n",
       "      <th>1</th>\n",
       "      <td>2019-08-02</td>\n",
       "      <td>A</td>\n",
       "      <td>619</td>\n",
       "    </tr>\n",
       "    <tr>\n",
       "      <th>2</th>\n",
       "      <td>2019-08-03</td>\n",
       "      <td>A</td>\n",
       "      <td>507</td>\n",
       "    </tr>\n",
       "    <tr>\n",
       "      <th>3</th>\n",
       "      <td>2019-08-04</td>\n",
       "      <td>A</td>\n",
       "      <td>717</td>\n",
       "    </tr>\n",
       "    <tr>\n",
       "      <th>4</th>\n",
       "      <td>2019-08-05</td>\n",
       "      <td>A</td>\n",
       "      <td>756</td>\n",
       "    </tr>\n",
       "    <tr>\n",
       "      <th>...</th>\n",
       "      <td>...</td>\n",
       "      <td>...</td>\n",
       "      <td>...</td>\n",
       "    </tr>\n",
       "    <tr>\n",
       "      <th>57</th>\n",
       "      <td>2019-08-27</td>\n",
       "      <td>B</td>\n",
       "      <td>720</td>\n",
       "    </tr>\n",
       "    <tr>\n",
       "      <th>58</th>\n",
       "      <td>2019-08-28</td>\n",
       "      <td>B</td>\n",
       "      <td>654</td>\n",
       "    </tr>\n",
       "    <tr>\n",
       "      <th>59</th>\n",
       "      <td>2019-08-29</td>\n",
       "      <td>B</td>\n",
       "      <td>531</td>\n",
       "    </tr>\n",
       "    <tr>\n",
       "      <th>60</th>\n",
       "      <td>2019-08-30</td>\n",
       "      <td>B</td>\n",
       "      <td>490</td>\n",
       "    </tr>\n",
       "    <tr>\n",
       "      <th>61</th>\n",
       "      <td>2019-08-31</td>\n",
       "      <td>B</td>\n",
       "      <td>718</td>\n",
       "    </tr>\n",
       "  </tbody>\n",
       "</table>\n",
       "<p>62 rows × 3 columns</p>\n",
       "</div>"
      ],
      "text/plain": [
       "         date group  visitors\n",
       "0  2019-08-01     A       719\n",
       "1  2019-08-02     A       619\n",
       "2  2019-08-03     A       507\n",
       "3  2019-08-04     A       717\n",
       "4  2019-08-05     A       756\n",
       "..        ...   ...       ...\n",
       "57 2019-08-27     B       720\n",
       "58 2019-08-28     B       654\n",
       "59 2019-08-29     B       531\n",
       "60 2019-08-30     B       490\n",
       "61 2019-08-31     B       718\n",
       "\n",
       "[62 rows x 3 columns]"
      ]
     },
     "execution_count": 15,
     "metadata": {},
     "output_type": "execute_result"
    }
   ],
   "source": [
    "visitors"
   ]
  },
  {
   "cell_type": "code",
   "execution_count": 16,
   "metadata": {},
   "outputs": [
    {
     "data": {
      "text/plain": [
       "0"
      ]
     },
     "execution_count": 16,
     "metadata": {},
     "output_type": "execute_result"
    }
   ],
   "source": [
    "visitors.duplicated().sum()"
   ]
  },
  {
   "cell_type": "markdown",
   "metadata": {},
   "source": [
    "**Явных дубликатов нет**"
   ]
  },
  {
   "cell_type": "markdown",
   "metadata": {},
   "source": [
    "##### Построим график кумулятивной выручки по группам"
   ]
  },
  {
   "cell_type": "code",
   "execution_count": 17,
   "metadata": {},
   "outputs": [
    {
     "data": {
      "image/png": "[encoded data removed]",
      "text/plain": [
       "<Figure size 1296x576 with 1 Axes>"
      ]
     },
     "metadata": {
      "needs_background": "light"
     },
     "output_type": "display_data"
    }
   ],
   "source": [
    "datesGroups = orders[['date', 'group']].drop_duplicates()\n",
    "\n",
    "ordersAggregated = datesGroups.apply(\n",
    "    lambda x: orders[\n",
    "        np.logical_and(\n",
    "            orders['date'] <= x['date'], orders['group'] == x['group']\n",
    "        )\n",
    "    ].agg(\n",
    "        {\n",
    "            'date': 'max',\n",
    "            'group': 'max',\n",
    "            'transactionId': 'nunique',\n",
    "            'visitorId': 'nunique',\n",
    "            'revenue': 'sum',\n",
    "        }\n",
    "    ),\n",
    "    axis=1,\n",
    ").sort_values(by=['date', 'group'])\n",
    "\n",
    "visitorsAggregated = datesGroups.apply(\n",
    "    lambda x: visitors[\n",
    "        np.logical_and(\n",
    "            visitors['date'] <= x['date'], visitors['group'] == x['group']\n",
    "        )\n",
    "    ].agg({'date': 'max', 'group': 'max', 'visitors': 'sum'}),\n",
    "    axis=1,\n",
    ").sort_values(by=['date', 'group'])\n",
    "\n",
    "cumulativeData = ordersAggregated.merge(\n",
    "    visitorsAggregated, left_on=['date', 'group'], right_on=['date', 'group']\n",
    ")\n",
    "cumulativeData.columns = [\n",
    "    'date',\n",
    "    'group',\n",
    "    'orders',\n",
    "    'buyers',\n",
    "    'revenue',\n",
    "    'visitors',\n",
    "]\n",
    "\n",
    "plt.figure(figsize=(18,8))\n",
    "plt.grid()\n",
    "plt.title('График кумулятивной выручки по группам')\n",
    "plt.xlabel('Дата')\n",
    "plt.ylabel('Выручка')\n",
    "\n",
    "plt.ticklabel_format(style='plain') # предотвращает \"научное\" обозначение на осях\n",
    "cumulativeRevenueA = cumulativeData[cumulativeData['group']=='A'][['date','revenue', 'orders']]\n",
    "cumulativeRevenueB = cumulativeData[cumulativeData['group']=='B'][['date','revenue', 'orders']]\n",
    "plt.plot(cumulativeRevenueA['date'], cumulativeRevenueA['revenue'], label='A')\n",
    "plt.plot(cumulativeRevenueB['date'], cumulativeRevenueB['revenue'], label='B')\n",
    "plt.xticks(rotation = 90)\n",
    "plt.legend();"
   ]
  },
  {
   "cell_type": "markdown",
   "metadata": {},
   "source": [
    "**Вывод**: Сегмент B лидирует на протяжении всего теста, иногда соприкасаясь с сегментом A. Во 2ой половине теста виден резкое повышение сегмента B, что можно объяснить аномально большим заказом. "
   ]
  },
  {
   "cell_type": "markdown",
   "metadata": {},
   "source": [
    "##### Построим график кумулятивного среднего чека по группам"
   ]
  },
  {
   "cell_type": "code",
   "execution_count": 18,
   "metadata": {},
   "outputs": [
    {
     "data": {
      "image/png": "[encoded data removed]",
      "text/plain": [
       "<Figure size 1296x576 with 1 Axes>"
      ]
     },
     "metadata": {
      "needs_background": "light"
     },
     "output_type": "display_data"
    }
   ],
   "source": [
    "plt.figure(figsize=(18,8))\n",
    "plt.grid()\n",
    "plt.title('График кумулятивного среднего чека по группам')\n",
    "plt.xlabel('Дата')\n",
    "plt.ylabel('Средний чек')\n",
    "plt.plot(cumulativeRevenueA['date'], cumulativeRevenueA['revenue']/cumulativeRevenueA['orders'], label='A')\n",
    "plt.plot(cumulativeRevenueB['date'], cumulativeRevenueB['revenue']/cumulativeRevenueB['orders'], label='B')\n",
    "plt.xticks(rotation = 90)\n",
    "plt.legend();"
   ]
  },
  {
   "cell_type": "markdown",
   "metadata": {},
   "source": [
    "**Вывод**: Кумулятивное значение среднего чека по сегментам колеблется в 1ой половине месяца, а в начале 2ой половины месяца наблюдается резкое повышение. Возможно потребуется искоючить выбросы, которые могут исказить результаты."
   ]
  },
  {
   "cell_type": "markdown",
   "metadata": {},
   "source": [
    "##### Построим график относительного различия в среднем чеке между группами."
   ]
  },
  {
   "cell_type": "code",
   "execution_count": 19,
   "metadata": {},
   "outputs": [
    {
     "data": {
      "image/png": "[encoded data removed]",
      "text/plain": [
       "<Figure size 1296x576 with 1 Axes>"
      ]
     },
     "metadata": {
      "needs_background": "light"
     },
     "output_type": "display_data"
    }
   ],
   "source": [
    "plt.figure(figsize=(18,8))\n",
    "plt.grid()\n",
    "plt.title('График относительного различия в среднем чеке между группами')\n",
    "plt.xlabel('Дата')\n",
    "plt.ylabel('Различия в %')\n",
    "mergedCumulativeRevenue = cumulativeRevenueA.merge(cumulativeRevenueB, left_on='date', right_on='date', how='left', suffixes=['A', 'B'])\n",
    "plt.plot(mergedCumulativeRevenue['date'], (mergedCumulativeRevenue['revenueB']/mergedCumulativeRevenue['ordersB'])/(mergedCumulativeRevenue['revenueA']/mergedCumulativeRevenue['ordersA'])*100-100)\n",
    "plt.axhline(y=0, color='black', linestyle='--')\n",
    "plt.xticks(rotation = 90);"
   ]
  },
  {
   "cell_type": "markdown",
   "metadata": {},
   "source": [
    "**Вывод**: Результаты теста резко менялись 2019-08-08 (начало падения) и 2019-08-18 (резкий всплеск). Но к концу рассматриваемого периода группа B показала лучшие результаты по среднему чеку (~ 25%) "
   ]
  },
  {
   "cell_type": "markdown",
   "metadata": {},
   "source": [
    "##### Постройте график кумулятивного среднего количества заказов на посетителя по группам. Сделайте выводы и предположения."
   ]
  },
  {
   "cell_type": "code",
   "execution_count": 20,
   "metadata": {},
   "outputs": [
    {
     "data": {
      "image/png": "[encoded data removed]",
      "text/plain": [
       "<Figure size 1296x576 with 1 Axes>"
      ]
     },
     "metadata": {
      "needs_background": "light"
     },
     "output_type": "display_data"
    }
   ],
   "source": [
    "plt.figure(figsize=(18,8))\n",
    "plt.grid()\n",
    "plt.title('График кумулятивного среднего количества заказов на посетителя по группам')\n",
    "plt.xlabel('Дата')\n",
    "plt.ylabel('Среднее количество заказов')\n",
    "cumulativeData['conversion'] = cumulativeData['orders']/cumulativeData['visitors']\n",
    "cumulativeDataA = cumulativeData[cumulativeData['group']=='A']\n",
    "cumulativeDataB = cumulativeData[cumulativeData['group']=='B']\n",
    "plt.plot(cumulativeDataA['date'], cumulativeDataA['conversion']*100, label='A')\n",
    "plt.plot(cumulativeDataB['date'], cumulativeDataB['conversion']*100, label='B')\n",
    "plt.xticks(rotation = 90)\n",
    "plt.legend();"
   ]
  },
  {
   "cell_type": "markdown",
   "metadata": {},
   "source": [
    "**Вывод**: В начале теста сегмент А имел бОльшую конверсию (3,7% в пике), но уже после 2019-09-05 графики пересеклись и конверсия сегмента B стала выше и сохраняла свое превосходство вполть до конца теста (3,4% в группе B против 3% в группе A)"
   ]
  },
  {
   "cell_type": "markdown",
   "metadata": {},
   "source": [
    "##### Построим график относительного изменения кумулятивного среднего количества заказов на посетителя группы B к группе A"
   ]
  },
  {
   "cell_type": "code",
   "execution_count": 21,
   "metadata": {},
   "outputs": [
    {
     "data": {
      "image/png": "[encoded data removed]",
      "text/plain": [
       "<Figure size 1296x576 with 1 Axes>"
      ]
     },
     "metadata": {
      "needs_background": "light"
     },
     "output_type": "display_data"
    }
   ],
   "source": [
    "plt.figure(figsize=(18,8))\n",
    "plt.grid()\n",
    "plt.title('График относительного изменения кумулятивного среднего количества заказов на посетителя группы B к группе A')\n",
    "plt.xlabel('Дата')\n",
    "plt.ylabel('изменение кумулятивного среднего в %')\n",
    "mergedCumulativeConversions = cumulativeDataA[['date', 'conversion']].merge(cumulativeDataB[['date','conversion']], left_on='date', right_on='date', how='left', suffixes=['A', 'B'])\n",
    "plt.plot(mergedCumulativeConversions['date'], mergedCumulativeConversions['conversionB']/mergedCumulativeConversions['conversionA']*10-10, label=\"Относительный прирост конверсии группы B относительно группы A\")\n",
    "plt.xticks(rotation = 90)\n",
    "plt.legend();\n"
   ]
  },
  {
   "cell_type": "markdown",
   "metadata": {},
   "source": [
    "**Вывод**: Почти с самого начала теста группа B лидирует по конверсии и достигает пика 2019-08-17. Начиная с этой даты конверсия снижается с 2% в пике до ~1,5%"
   ]
  },
  {
   "cell_type": "markdown",
   "metadata": {},
   "source": [
    "##### Построим точечный график количества заказов по пользователям"
   ]
  },
  {
   "cell_type": "code",
   "execution_count": 22,
   "metadata": {},
   "outputs": [
    {
     "data": {
      "image/png": "[encoded data removed]",
      "text/plain": [
       "<Figure size 432x288 with 1 Axes>"
      ]
     },
     "metadata": {
      "needs_background": "light"
     },
     "output_type": "display_data"
    }
   ],
   "source": [
    "ordersByUsers = (\n",
    "    orders.groupby('visitorId', as_index=False)\n",
    "    .agg({'transactionId': 'nunique'})\n",
    ")\n",
    "ordersByUsers.columns = ['visitorId', 'transactions']\n",
    "\n",
    "x_values = pd.Series(range(0, len(ordersByUsers)))\n",
    "plt.scatter(x_values, ordersByUsers['transactions']); "
   ]
  },
  {
   "cell_type": "markdown",
   "metadata": {},
   "source": [
    "**Вывод**: Пользователей, заказавших более 2-х раз мало. Можно считать таких пользователей аномальными. Но более точный ответ дадут перцентили. "
   ]
  },
  {
   "cell_type": "markdown",
   "metadata": {},
   "source": [
    "##### Посчитаем 95-й и 99-й перцентили количества заказов и определим границу для определения аномальных пользователей."
   ]
  },
  {
   "cell_type": "code",
   "execution_count": 23,
   "metadata": {},
   "outputs": [
    {
     "data": {
      "text/plain": [
       "array([2., 4.])"
      ]
     },
     "execution_count": 23,
     "metadata": {},
     "output_type": "execute_result"
    }
   ],
   "source": [
    "np.percentile(ordersByUsers['transactions'], [95, 99])"
   ]
  },
  {
   "cell_type": "markdown",
   "metadata": {},
   "source": [
    "**Вывод**: Не более 5% пользователей совершали больше 2-х заказов и не более 1% пользователей больше 4-х. В качестве границы для аномальных пользователей выберем 95-ый перцентиль: всех пользователей, у которых более 2-х транзакций будем считать аномальными. "
   ]
  },
  {
   "cell_type": "markdown",
   "metadata": {},
   "source": [
    "##### Построим точечный график стоимостей заказов"
   ]
  },
  {
   "cell_type": "code",
   "execution_count": 24,
   "metadata": {},
   "outputs": [
    {
     "data": {
      "image/png": "[encoded data removed]",
      "text/plain": [
       "<Figure size 432x288 with 1 Axes>"
      ]
     },
     "metadata": {
      "needs_background": "light"
     },
     "output_type": "display_data"
    }
   ],
   "source": [
    "x_values = pd.Series(range(0, len(orders['revenue'])))\n",
    "plt.scatter(x_values, orders['revenue'], alpha=0.2)\n",
    "plt.ticklabel_format(useOffset=False, style='plain'); # предотвращает \"научное\" обозначение на осях\n",
    "plt.yticks(np.arange(min(orders['revenue']), max(orders['revenue']), 100000)); # изменяет частоту отметок по оси y (каждые 100 тыс.)"
   ]
  },
  {
   "cell_type": "markdown",
   "metadata": {},
   "source": [
    "**Вывод**: Заказов стоимостью больше 100 тыс. почти нет. Есть выбросы более 1.2 млн. Такие заказы выгялят аномальными. "
   ]
  },
  {
   "cell_type": "markdown",
   "metadata": {},
   "source": [
    "##### Посчитаем 95-й и 99-й перцентили стоимости заказов, выберем границу для определения аномальных заказов. "
   ]
  },
  {
   "cell_type": "code",
   "execution_count": 25,
   "metadata": {},
   "outputs": [
    {
     "data": {
      "text/plain": [
       "array([28000. , 58233.2])"
      ]
     },
     "execution_count": 25,
     "metadata": {},
     "output_type": "execute_result"
    }
   ],
   "source": [
    "np.percentile(orders['revenue'], [95, 99])"
   ]
  },
  {
   "cell_type": "markdown",
   "metadata": {},
   "source": [
    "**Вывод**: Не более 5% заказов стоят дороже 28 тыс., и не более  1% стоят дороже 58 тыс. В качестве границы для аномальных покупок выберем 95-ый перцентиль: покупки дороже 28 тыс. будем считать аномальными. "
   ]
  },
  {
   "cell_type": "markdown",
   "metadata": {},
   "source": [
    "##### Посчитаем статистическую значимость различий в среднем количестве заказов на посетителя между группами по «сырым» данным\n",
    "\n",
    "H_0: Среднее количество заказов на посетителя в группе A по неподготовленным данным = среднему количеству заказов на посетителя в группе B по неподготовленным данным.  \n",
    "H_a: Среднее количество заказов на посетителя в группе A по неподготовленным данным ≠ среднему количеству заказов на посетителя в группе B по неподготовленным данным."
   ]
  },
  {
   "cell_type": "code",
   "execution_count": 26,
   "metadata": {},
   "outputs": [
    {
     "name": "stdout",
     "output_type": "stream",
     "text": [
      "P-value: 0.01679\n",
      "Относительный прирост средней конверсии группы B к группе A в %: 13.808\n"
     ]
    }
   ],
   "source": [
    "visitorsADaily = visitors[visitors['group'] == 'A'][['date', 'visitors']]\n",
    "visitorsADaily.columns = ['date', 'visitorsPerDateA']\n",
    "\n",
    "visitorsACummulative = visitorsADaily.apply(\n",
    "    lambda x: visitorsADaily[visitorsADaily['date'] <= x['date']].agg(\n",
    "        {'date': 'max', 'visitorsPerDateA': 'sum'}\n",
    "    ),\n",
    "    axis=1,\n",
    ")\n",
    "visitorsACummulative.columns = ['date', 'visitorsCummulativeA']\n",
    "\n",
    "visitorsBDaily = visitors[visitors['group'] == 'B'][['date', 'visitors']]\n",
    "visitorsBDaily.columns = ['date', 'visitorsPerDateB']\n",
    "\n",
    "visitorsBCummulative = visitorsBDaily.apply(\n",
    "    lambda x: visitorsBDaily[visitorsBDaily['date'] <= x['date']].agg(\n",
    "        {'date': 'max', 'visitorsPerDateB': 'sum'}\n",
    "    ),\n",
    "    axis=1,\n",
    ")\n",
    "visitorsBCummulative.columns = ['date', 'visitorsCummulativeB']\n",
    "\n",
    "ordersADaily = (\n",
    "    orders[orders['group'] == 'A'][['date', 'transactionId', 'visitorId', 'revenue']]\n",
    "    .groupby('date', as_index=False)\n",
    "    .agg({'transactionId': pd.Series.nunique, 'revenue': 'sum'})\n",
    ")\n",
    "ordersADaily.columns = ['date', 'ordersPerDateA', 'revenuePerDateA']\n",
    "\n",
    "ordersACummulative = ordersADaily.apply(\n",
    "    lambda x: ordersADaily[ordersADaily['date'] <= x['date']].agg(\n",
    "        {'date': 'max', 'ordersPerDateA': 'sum', 'revenuePerDateA': 'sum'}\n",
    "    ),\n",
    "    axis=1,\n",
    ").sort_values(by=['date'])\n",
    "ordersACummulative.columns = [\n",
    "    'date',\n",
    "    'ordersCummulativeA',\n",
    "    'revenueCummulativeA',\n",
    "]\n",
    "\n",
    "ordersBDaily = (\n",
    "    orders[orders['group'] == 'B'][['date', 'transactionId', 'visitorId', 'revenue']]\n",
    "    .groupby('date', as_index=False)\n",
    "    .agg({'transactionId': pd.Series.nunique, 'revenue': 'sum'})\n",
    ")\n",
    "ordersBDaily.columns = ['date', 'ordersPerDateB', 'revenuePerDateB']\n",
    "\n",
    "ordersBCummulative = ordersBDaily.apply(\n",
    "    lambda x: ordersBDaily[ordersBDaily['date'] <= x['date']].agg(\n",
    "        {'date': 'max', 'ordersPerDateB': 'sum', 'revenuePerDateB': 'sum'}\n",
    "    ),\n",
    "    axis=1,\n",
    ").sort_values(by=['date'])\n",
    "ordersBCummulative.columns = [\n",
    "    'date',\n",
    "    'ordersCummulativeB',\n",
    "    'revenueCummulativeB',\n",
    "]\n",
    "\n",
    "data = (\n",
    "    ordersADaily.merge(\n",
    "        ordersBDaily, left_on='date', right_on='date', how='left'\n",
    "    )\n",
    "    .merge(ordersACummulative, left_on='date', right_on='date', how='left')\n",
    "    .merge(ordersBCummulative, left_on='date', right_on='date', how='left')\n",
    "    .merge(visitorsADaily, left_on='date', right_on='date', how='left')\n",
    "    .merge(visitorsBDaily, left_on='date', right_on='date', how='left')\n",
    "    .merge(visitorsACummulative, left_on='date', right_on='date', how='left')\n",
    "    .merge(visitorsBCummulative, left_on='date', right_on='date', how='left')\n",
    ")\n",
    "\n",
    "ordersByUsersA = (\n",
    "    orders[orders['group'] == 'A']\n",
    "    .groupby('visitorId', as_index=False)\n",
    "    .agg({'transactionId': pd.Series.nunique})\n",
    ")\n",
    "ordersByUsersA.columns = ['visitorId', 'orders']\n",
    "\n",
    "ordersByUsersB = (\n",
    "    orders[orders['group'] == 'B']\n",
    "    .groupby('visitorId', as_index=False)\n",
    "    .agg({'transactionId': pd.Series.nunique})\n",
    ")\n",
    "ordersByUsersB.columns = ['visitorId', 'orders'] \n",
    "\n",
    "sampleA = pd.concat([ordersByUsersA['orders'],pd.Series(0, index=np.arange(data['visitorsPerDateA'].sum() - len(ordersByUsersA['orders'])), name='orders')],axis=0)\n",
    "\n",
    "sampleB = pd.concat([ordersByUsersB['orders'],pd.Series(0, index=np.arange(data['visitorsPerDateB'].sum() - len(ordersByUsersB['orders'])), name='orders')],axis=0)\n",
    "\n",
    "print(\"P-value: {0:.5f}\".format(stats.mannwhitneyu(sampleA, sampleB)[1]))\n",
    "\n",
    "print(\"Относительный прирост средней конверсии группы B к группе A в %: {0:.3f}\".format((data['ordersPerDateB'].sum()/data['visitorsPerDateB'].sum())/(data['ordersPerDateA'].sum()/data['visitorsPerDateA'].sum())*100-100))"
   ]
  },
  {
   "cell_type": "markdown",
   "metadata": {},
   "source": [
    "**Вывод**: P-value меньше 0,05. Отвергаем нулевю гипотезу. Анализ сырых данных говорит о наличии статистически значимых различий в среднем количестве транзакций между группами. Относительный прирост среднего группы B к конверсии группы A равен 13,8%. Возможно, после отчистки данных показатели изменятся."
   ]
  },
  {
   "cell_type": "markdown",
   "metadata": {},
   "source": [
    "##### Посчитаем статистическую значимость различий в среднем чеке заказа между группами по «сырым» данным\n",
    "\n",
    "H_0: Средний чек заказа в группе A по неподготовленным данным = среднему чеку заказа в группе B по неподготовленным данным.  \n",
    "H_a: Средний чек заказа в группе A по неподготовленным данным ≠ среднему чеку заказа в группе B по неподготовленным данным."
   ]
  },
  {
   "cell_type": "code",
   "execution_count": 27,
   "metadata": {},
   "outputs": [
    {
     "name": "stdout",
     "output_type": "stream",
     "text": [
      "P-value: 0.729\n",
      "Различия среднего чека по группам в %: 25.871\n"
     ]
    }
   ],
   "source": [
    "print('P-value: {0:.3f}'.format(stats.mannwhitneyu(orders[orders['group']=='A']['revenue'], orders[orders['group']=='B']['revenue'])[1]))\n",
    "print('Различия среднего чека по группам в %: {0:.3f}'.format(orders[orders['group']=='B']['revenue'].mean()/orders[orders['group']=='A']['revenue'].mean()*100-100)) "
   ]
  },
  {
   "cell_type": "markdown",
   "metadata": {},
   "source": [
    "**Вывод**: P-value больше 0,05 – статистически значимых отличий нет. Но при этом относительное различие среднего чека между сегментами 26%. Возможно, после отчистки данных показатели изменятся."
   ]
  },
  {
   "cell_type": "markdown",
   "metadata": {},
   "source": [
    "##### Посчитаем статистическую значимость различий в среднем количестве заказов на посетителя между группами по «очищенным» данным. \n",
    "Сформулируем гипотезы:  \n",
    "\n",
    "H_0: Среднее количество заказов на посетителя в группе A по подготовленным данным = среднему количеству заказов на посетителя в группе B по подготовленным данным.  \n",
    "H_a: Среднее количество заказов на посетителя в группе A по подготовленным данным ≠ среднему количеству заказов на посетителя в группе B по подготовленным данным.\n",
    "\n",
    "Для начала найдем пользователей, у которых больше 2-х заказов или совершил транзакцию более чем на 280 тыс. рублей."
   ]
  },
  {
   "cell_type": "code",
   "execution_count": 28,
   "metadata": {
    "scrolled": true
   },
   "outputs": [
    {
     "name": "stdout",
     "output_type": "stream",
     "text": [
      "1099    148427295\n",
      "18      199603092\n",
      "928     204675465\n",
      "23      237748145\n",
      "37      249864742\n",
      "Name: visitorId, dtype: int64\n"
     ]
    }
   ],
   "source": [
    "visitorsWithManyOrders = pd.concat(\n",
    "    [\n",
    "        ordersByUsersA[ordersByUsersA['orders'] > np.percentile(ordersByUsers['transactions'], [95])[0]]['visitorId'],\n",
    "        ordersByUsersB[ordersByUsersB['orders'] > np.percentile(ordersByUsers['transactions'], [95])[0]]['visitorId'],\n",
    "    ],\n",
    "    axis=0,\n",
    ")\n",
    "visitorsWithExpensiveOrders = orders[orders['revenue'] > np.percentile(orders['revenue'], [95])[0]]['visitorId']\n",
    "abnormalUsers = (\n",
    "    pd.concat([visitorsWithManyOrders, visitorsWithExpensiveOrders], axis=0)\n",
    "    .drop_duplicates()\n",
    "    .sort_values()\n",
    ")\n",
    "print(abnormalUsers.head(5))"
   ]
  },
  {
   "cell_type": "markdown",
   "metadata": {},
   "source": [
    "А затем посчитаем стат значимость"
   ]
  },
  {
   "cell_type": "code",
   "execution_count": 29,
   "metadata": {},
   "outputs": [
    {
     "name": "stdout",
     "output_type": "stream",
     "text": [
      "P-value: 0.01304\n",
      "Различия в среднем количестве заказов на посетителя в %: 17.270\n"
     ]
    }
   ],
   "source": [
    "sampleAFiltered = pd.concat(\n",
    "    [\n",
    "        ordersByUsersA[\n",
    "            np.logical_not(ordersByUsersA['visitorId'].isin(abnormalUsers))\n",
    "        ]['orders'],\n",
    "        pd.Series(\n",
    "            0,\n",
    "            index=np.arange(\n",
    "                data['visitorsPerDateA'].sum() - len(ordersByUsersA['orders'])\n",
    "            ),\n",
    "            name='orders',\n",
    "        ),\n",
    "    ],\n",
    "    axis=0,\n",
    ")\n",
    "\n",
    "sampleBFiltered = pd.concat(\n",
    "    [\n",
    "        ordersByUsersB[\n",
    "            np.logical_not(ordersByUsersB['visitorId'].isin(abnormalUsers))\n",
    "        ]['orders'],\n",
    "        pd.Series(\n",
    "            0,\n",
    "            index=np.arange(\n",
    "                data['visitorsPerDateB'].sum() - len(ordersByUsersB['orders'])\n",
    "            ),\n",
    "            name='orders',\n",
    "        ),\n",
    "    ],\n",
    "    axis=0,\n",
    ") \n",
    "\n",
    "print('P-value: {0:.5f}'.format(stats.mannwhitneyu(sampleAFiltered, sampleBFiltered)[1]))\n",
    "print('Различия в среднем количестве заказов на посетителя в %: {0:.3f}'.format(sampleBFiltered.mean()/sampleAFiltered.mean()*100-100)) "
   ]
  },
  {
   "cell_type": "markdown",
   "metadata": {},
   "source": [
    "**Вывод**: Как и в случае с сырыми данными, стат. значимость достигнута. Сегмент B значительно лучше сегмента A."
   ]
  },
  {
   "cell_type": "markdown",
   "metadata": {},
   "source": [
    "##### Посчитаем статистическую значимость различий в среднем чеке заказа между группами по «очищенным» данным.\n",
    "\n",
    "H_0: Средний чек заказа в группе A по подготовленным данным = среднему чеку заказа в группе B по подготовленным данным.  \n",
    "H_a: Средний чек заказа в группе A по подготовленным данным ≠ среднему чеку заказа в группе B по подготовленным данным."
   ]
  },
  {
   "cell_type": "code",
   "execution_count": 30,
   "metadata": {},
   "outputs": [
    {
     "name": "stdout",
     "output_type": "stream",
     "text": [
      "P-value: 0.738\n",
      "Относительное различие среднего чека между группами: -0.020\n"
     ]
    }
   ],
   "source": [
    "print(\n",
    "    'P-value: {0:.3f}'.format(\n",
    "        stats.mannwhitneyu(\n",
    "            orders[\n",
    "                np.logical_and(\n",
    "                    orders['group'] == 'A',\n",
    "                    np.logical_not(orders['visitorId'].isin(abnormalUsers)),\n",
    "                )\n",
    "            ]['revenue'],\n",
    "            orders[\n",
    "                np.logical_and(\n",
    "                    orders['group'] == 'B',\n",
    "                    np.logical_not(orders['visitorId'].isin(abnormalUsers)),\n",
    "                )\n",
    "            ]['revenue'],\n",
    "        )[1]\n",
    "    )\n",
    ")\n",
    "\n",
    "print(\n",
    "    \"Относительное различие среднего чека между группами: {0:.3f}\".format(\n",
    "        orders[\n",
    "            np.logical_and(\n",
    "                orders['group'] == 'B',\n",
    "                np.logical_not(orders['visitorId'].isin(abnormalUsers)),\n",
    "            )\n",
    "        ]['revenue'].mean()\n",
    "        / orders[\n",
    "            np.logical_and(\n",
    "                orders['group'] == 'A',\n",
    "                np.logical_not(orders['visitorId'].isin(abnormalUsers)),\n",
    "            )\n",
    "        ]['revenue'].mean()\n",
    "        - 1\n",
    "    )\n",
    ") "
   ]
  },
  {
   "cell_type": "markdown",
   "metadata": {},
   "source": [
    "**Вывод**: P-value больше 0,05 – статистически значимых отличий все еще нет. Но относительное различие среднего чека между сегментами практически пропало. Разница по средним чекам пропала после фильтрации аномальных данных."
   ]
  },
  {
   "cell_type": "markdown",
   "metadata": {},
   "source": [
    "### Общий вывод\n",
    "\n",
    "Исходя из обнаруженных фактов, тест следует остановить и признать его успешным.\n",
    "\n",
    "\n",
    "\n",
    "Анализ данных говорит о наличии статистически значимых различий в среднем количестве транзакций между группами как по сырым, так и по очищенным данным. Т.е. среднее количество заказов на посетителя в группе B статистически значимо. \n",
    "\n",
    "Анализ даннхых говорит об отсутствии стат. значимых различий в среднем чеке заказа между группами по сырым и очищенным данным. Но при этом относительное различие среднего чека между сегментами практически пропало после очистки данных от аномалий.\n",
    "\n",
    "В процессе работы с даннми было обнаружено, что некоторые пользователи присутствовали в обеих группах, что нарушает правило проведения A/B тестирования (в нашем случае 58 пользователей видели обе версии сайта, чего допускать нельзя). \n",
    "Рекомендуется проверить корректность обработки показа сайта для пользователей и пересмотреть систему тестирования на наличие ошибок. "
   ]
  },
  {
   "cell_type": "code",
   "execution_count": null,
   "metadata": {},
   "outputs": [],
   "source": []
  }
 ],
 "metadata": {
  "ExecuteTimeLog": [
   {
    "duration": 45,
    "start_time": "2023-01-04T11:58:36.427Z"
   },
   {
    "duration": 685,
    "start_time": "2023-01-04T11:58:39.753Z"
   },
   {
    "duration": 16,
    "start_time": "2023-01-04T11:58:41.057Z"
   },
   {
    "duration": 762,
    "start_time": "2023-01-04T12:13:11.659Z"
   },
   {
    "duration": 7,
    "start_time": "2023-01-04T12:15:02.881Z"
   },
   {
    "duration": 4,
    "start_time": "2023-01-04T12:16:17.439Z"
   },
   {
    "duration": 14,
    "start_time": "2023-01-04T12:16:19.193Z"
   },
   {
    "duration": 11,
    "start_time": "2023-01-04T12:18:06.708Z"
   },
   {
    "duration": 5,
    "start_time": "2023-01-04T12:19:15.488Z"
   },
   {
    "duration": 15,
    "start_time": "2023-01-04T12:19:28.329Z"
   },
   {
    "duration": 4,
    "start_time": "2023-01-04T12:21:13.134Z"
   },
   {
    "duration": 13,
    "start_time": "2023-01-04T12:21:19.119Z"
   },
   {
    "duration": 14,
    "start_time": "2023-01-04T12:22:05.209Z"
   },
   {
    "duration": 14,
    "start_time": "2023-01-04T12:46:36.823Z"
   },
   {
    "duration": 11,
    "start_time": "2023-01-04T12:46:46.105Z"
   },
   {
    "duration": 521,
    "start_time": "2023-01-04T12:55:26.126Z"
   },
   {
    "duration": 231,
    "start_time": "2023-01-04T12:55:31.242Z"
   },
   {
    "duration": 30,
    "start_time": "2023-01-04T12:59:24.990Z"
   },
   {
    "duration": 586,
    "start_time": "2023-01-04T13:01:25.508Z"
   },
   {
    "duration": 685,
    "start_time": "2023-01-04T13:01:38.406Z"
   },
   {
    "duration": 688,
    "start_time": "2023-01-04T13:09:08.972Z"
   },
   {
    "duration": 713,
    "start_time": "2023-01-04T13:09:45.170Z"
   },
   {
    "duration": 699,
    "start_time": "2023-01-04T13:13:28.101Z"
   },
   {
    "duration": 653,
    "start_time": "2023-01-04T13:13:44.135Z"
   },
   {
    "duration": 680,
    "start_time": "2023-01-04T13:13:58.640Z"
   },
   {
    "duration": 800,
    "start_time": "2023-01-04T13:19:46.563Z"
   },
   {
    "duration": 668,
    "start_time": "2023-01-04T13:20:00.260Z"
   },
   {
    "duration": 209,
    "start_time": "2023-01-04T13:27:03.400Z"
   },
   {
    "duration": 31,
    "start_time": "2023-01-04T13:27:27.594Z"
   },
   {
    "duration": 554,
    "start_time": "2023-01-04T13:27:58.446Z"
   },
   {
    "duration": 688,
    "start_time": "2023-01-04T13:28:47.429Z"
   },
   {
    "duration": 589,
    "start_time": "2023-01-04T13:29:17.456Z"
   },
   {
    "duration": 598,
    "start_time": "2023-01-04T13:30:25.848Z"
   },
   {
    "duration": 621,
    "start_time": "2023-01-04T13:30:54.740Z"
   },
   {
    "duration": 468,
    "start_time": "2023-01-04T13:31:10.149Z"
   },
   {
    "duration": 547,
    "start_time": "2023-01-04T13:31:15.614Z"
   },
   {
    "duration": 694,
    "start_time": "2023-01-04T13:31:27.191Z"
   },
   {
    "duration": 577,
    "start_time": "2023-01-04T13:34:31.526Z"
   },
   {
    "duration": 251,
    "start_time": "2023-01-04T13:48:40.030Z"
   },
   {
    "duration": 336,
    "start_time": "2023-01-04T13:49:18.818Z"
   },
   {
    "duration": 310,
    "start_time": "2023-01-04T13:49:38.621Z"
   },
   {
    "duration": 593,
    "start_time": "2023-01-04T13:53:03.766Z"
   },
   {
    "duration": 334,
    "start_time": "2023-01-04T13:53:16.647Z"
   },
   {
    "duration": 501,
    "start_time": "2023-01-04T14:08:38.279Z"
   },
   {
    "duration": 471,
    "start_time": "2023-01-04T14:08:48.361Z"
   },
   {
    "duration": 5,
    "start_time": "2023-01-04T21:37:23.037Z"
   },
   {
    "duration": 4,
    "start_time": "2023-01-04T21:37:23.842Z"
   },
   {
    "duration": 3,
    "start_time": "2023-01-04T21:37:25.126Z"
   },
   {
    "duration": 156,
    "start_time": "2023-01-04T21:37:50.056Z"
   },
   {
    "duration": 3,
    "start_time": "2023-01-04T21:38:15.499Z"
   },
   {
    "duration": 4,
    "start_time": "2023-01-04T21:38:16.515Z"
   },
   {
    "duration": 3,
    "start_time": "2023-01-04T21:38:18.508Z"
   },
   {
    "duration": 5,
    "start_time": "2023-01-04T21:38:20.155Z"
   },
   {
    "duration": 6,
    "start_time": "2023-01-04T21:38:52.977Z"
   },
   {
    "duration": 5,
    "start_time": "2023-01-04T21:39:29.221Z"
   },
   {
    "duration": 192,
    "start_time": "2023-01-04T21:40:15.913Z"
   },
   {
    "duration": 6,
    "start_time": "2023-01-04T21:40:42.621Z"
   },
   {
    "duration": 182,
    "start_time": "2023-01-04T21:40:46.621Z"
   },
   {
    "duration": 3,
    "start_time": "2023-01-04T21:40:55.607Z"
   },
   {
    "duration": 175,
    "start_time": "2023-01-04T21:41:15.681Z"
   },
   {
    "duration": 4,
    "start_time": "2023-01-04T21:41:31.019Z"
   },
   {
    "duration": 4,
    "start_time": "2023-01-04T21:41:32.876Z"
   },
   {
    "duration": 43,
    "start_time": "2023-01-04T21:41:33.932Z"
   },
   {
    "duration": 4,
    "start_time": "2023-01-04T21:41:58.373Z"
   },
   {
    "duration": 3,
    "start_time": "2023-01-04T21:41:59.014Z"
   },
   {
    "duration": 41,
    "start_time": "2023-01-04T21:42:00.116Z"
   },
   {
    "duration": 38,
    "start_time": "2023-01-04T21:42:30.482Z"
   },
   {
    "duration": 30,
    "start_time": "2023-01-04T21:42:32.947Z"
   },
   {
    "duration": 9,
    "start_time": "2023-01-04T21:48:44.968Z"
   },
   {
    "duration": 6,
    "start_time": "2023-01-04T21:49:15.571Z"
   },
   {
    "duration": 15,
    "start_time": "2023-01-04T21:49:27.796Z"
   },
   {
    "duration": 16,
    "start_time": "2023-01-04T21:49:44.142Z"
   },
   {
    "duration": 6,
    "start_time": "2023-01-04T21:50:04.193Z"
   },
   {
    "duration": 10,
    "start_time": "2023-01-04T21:52:09.303Z"
   },
   {
    "duration": 9,
    "start_time": "2023-01-04T21:52:16.706Z"
   },
   {
    "duration": 5,
    "start_time": "2023-01-04T21:52:52.798Z"
   },
   {
    "duration": 12,
    "start_time": "2023-01-04T21:53:16.223Z"
   },
   {
    "duration": 11,
    "start_time": "2023-01-04T21:53:51.477Z"
   },
   {
    "duration": 8,
    "start_time": "2023-01-04T21:54:44.723Z"
   },
   {
    "duration": 52,
    "start_time": "2023-01-04T21:55:41.403Z"
   },
   {
    "duration": 45,
    "start_time": "2023-01-04T21:55:45.755Z"
   },
   {
    "duration": 16,
    "start_time": "2023-01-04T21:56:00.299Z"
   },
   {
    "duration": 12,
    "start_time": "2023-01-04T21:56:13.901Z"
   },
   {
    "duration": 15,
    "start_time": "2023-01-04T21:56:23.366Z"
   },
   {
    "duration": 6,
    "start_time": "2023-01-04T21:56:52.411Z"
   },
   {
    "duration": 7,
    "start_time": "2023-01-04T22:03:30.115Z"
   },
   {
    "duration": 15,
    "start_time": "2023-01-04T22:11:19.621Z"
   },
   {
    "duration": 10,
    "start_time": "2023-01-04T22:11:31.710Z"
   },
   {
    "duration": 12,
    "start_time": "2023-01-04T22:22:40.792Z"
   },
   {
    "duration": 20,
    "start_time": "2023-01-04T22:23:20.729Z"
   },
   {
    "duration": 11,
    "start_time": "2023-01-04T22:23:41.694Z"
   },
   {
    "duration": 8,
    "start_time": "2023-01-04T22:23:58.080Z"
   },
   {
    "duration": 12,
    "start_time": "2023-01-04T22:24:02.744Z"
   },
   {
    "duration": 16,
    "start_time": "2023-01-04T22:24:21.868Z"
   },
   {
    "duration": 16,
    "start_time": "2023-01-04T22:27:57.367Z"
   },
   {
    "duration": 5,
    "start_time": "2023-01-04T22:28:34.250Z"
   },
   {
    "duration": 14,
    "start_time": "2023-01-04T22:29:25.463Z"
   },
   {
    "duration": 28,
    "start_time": "2023-01-04T22:32:30.886Z"
   },
   {
    "duration": 15,
    "start_time": "2023-01-04T22:32:39.480Z"
   },
   {
    "duration": 9,
    "start_time": "2023-01-04T22:41:56.426Z"
   },
   {
    "duration": 11,
    "start_time": "2023-01-04T22:44:07.569Z"
   },
   {
    "duration": 47,
    "start_time": "2023-01-04T22:44:53.193Z"
   },
   {
    "duration": 11,
    "start_time": "2023-01-04T22:49:50.227Z"
   },
   {
    "duration": 10,
    "start_time": "2023-01-04T22:55:53.407Z"
   },
   {
    "duration": 7,
    "start_time": "2023-01-04T22:55:57.688Z"
   },
   {
    "duration": 6,
    "start_time": "2023-01-04T22:56:05.992Z"
   },
   {
    "duration": 6,
    "start_time": "2023-01-04T22:57:10.792Z"
   },
   {
    "duration": 61,
    "start_time": "2023-01-04T22:57:16.184Z"
   },
   {
    "duration": 883,
    "start_time": "2023-01-04T23:15:55.465Z"
   },
   {
    "duration": 294,
    "start_time": "2023-01-04T23:24:49.857Z"
   },
   {
    "duration": 1098,
    "start_time": "2023-01-04T23:25:03.396Z"
   },
   {
    "duration": 350,
    "start_time": "2023-01-04T23:25:35.047Z"
   },
   {
    "duration": 382,
    "start_time": "2023-01-04T23:26:04.618Z"
   },
   {
    "duration": 946,
    "start_time": "2023-01-04T23:36:57.081Z"
   },
   {
    "duration": 943,
    "start_time": "2023-01-04T23:37:09.611Z"
   },
   {
    "duration": 83,
    "start_time": "2023-01-04T23:37:16.038Z"
   },
   {
    "duration": 3,
    "start_time": "2023-01-04T23:37:16.123Z"
   },
   {
    "duration": 54,
    "start_time": "2023-01-04T23:37:16.128Z"
   },
   {
    "duration": 61,
    "start_time": "2023-01-04T23:37:16.184Z"
   },
   {
    "duration": 34,
    "start_time": "2023-01-04T23:37:16.247Z"
   },
   {
    "duration": 32,
    "start_time": "2023-01-04T23:37:16.282Z"
   },
   {
    "duration": 8,
    "start_time": "2023-01-04T23:37:16.315Z"
   },
   {
    "duration": 55,
    "start_time": "2023-01-04T23:37:16.324Z"
   },
   {
    "duration": 27,
    "start_time": "2023-01-04T23:37:16.380Z"
   },
   {
    "duration": 52,
    "start_time": "2023-01-04T23:37:16.409Z"
   },
   {
    "duration": 41,
    "start_time": "2023-01-04T23:37:16.463Z"
   },
   {
    "duration": 13,
    "start_time": "2023-01-04T23:37:16.506Z"
   },
   {
    "duration": 6,
    "start_time": "2023-01-04T23:37:16.521Z"
   },
   {
    "duration": 9,
    "start_time": "2023-01-04T23:37:16.529Z"
   },
   {
    "duration": 18,
    "start_time": "2023-01-04T23:37:16.539Z"
   },
   {
    "duration": 6,
    "start_time": "2023-01-04T23:37:16.558Z"
   },
   {
    "duration": 578,
    "start_time": "2023-01-04T23:37:16.566Z"
   },
   {
    "duration": 256,
    "start_time": "2023-01-04T23:37:17.145Z"
   },
   {
    "duration": 336,
    "start_time": "2023-01-04T23:37:17.402Z"
   },
   {
    "duration": 917,
    "start_time": "2023-01-04T23:37:59.625Z"
   },
   {
    "duration": 272,
    "start_time": "2023-01-04T23:38:30.245Z"
   },
   {
    "duration": 277,
    "start_time": "2023-01-04T23:40:05.265Z"
   },
   {
    "duration": 375,
    "start_time": "2023-01-04T23:40:22.163Z"
   },
   {
    "duration": 260,
    "start_time": "2023-01-04T23:41:21.257Z"
   },
   {
    "duration": 79,
    "start_time": "2023-01-04T23:43:54.321Z"
   },
   {
    "duration": 3,
    "start_time": "2023-01-04T23:43:54.402Z"
   },
   {
    "duration": 10,
    "start_time": "2023-01-04T23:43:54.406Z"
   },
   {
    "duration": 40,
    "start_time": "2023-01-04T23:43:54.417Z"
   },
   {
    "duration": 39,
    "start_time": "2023-01-04T23:43:54.459Z"
   },
   {
    "duration": 198,
    "start_time": "2023-01-04T23:43:54.499Z"
   },
   {
    "duration": 5,
    "start_time": "2023-01-04T23:43:54.699Z"
   },
   {
    "duration": 12,
    "start_time": "2023-01-04T23:43:54.706Z"
   },
   {
    "duration": 4,
    "start_time": "2023-01-04T23:43:54.720Z"
   },
   {
    "duration": 12,
    "start_time": "2023-01-04T23:43:54.725Z"
   },
   {
    "duration": 40,
    "start_time": "2023-01-04T23:43:54.739Z"
   },
   {
    "duration": 13,
    "start_time": "2023-01-04T23:43:54.780Z"
   },
   {
    "duration": 7,
    "start_time": "2023-01-04T23:43:54.795Z"
   },
   {
    "duration": 9,
    "start_time": "2023-01-04T23:43:54.804Z"
   },
   {
    "duration": 11,
    "start_time": "2023-01-04T23:43:54.814Z"
   },
   {
    "duration": 7,
    "start_time": "2023-01-04T23:43:54.827Z"
   },
   {
    "duration": 549,
    "start_time": "2023-01-04T23:43:54.836Z"
   },
   {
    "duration": 253,
    "start_time": "2023-01-04T23:43:55.387Z"
   },
   {
    "duration": 391,
    "start_time": "2023-01-04T23:43:55.642Z"
   },
   {
    "duration": 266,
    "start_time": "2023-01-04T23:43:59.076Z"
   },
   {
    "duration": 12,
    "start_time": "2023-01-05T16:42:07.630Z"
   },
   {
    "duration": 15,
    "start_time": "2023-01-05T16:42:36.712Z"
   },
   {
    "duration": 124,
    "start_time": "2023-01-05T16:43:24.504Z"
   },
   {
    "duration": 823,
    "start_time": "2023-01-05T16:46:37.943Z"
   },
   {
    "duration": 6,
    "start_time": "2023-01-05T16:47:26.741Z"
   },
   {
    "duration": 137,
    "start_time": "2023-01-05T17:00:15.100Z"
   },
   {
    "duration": 135,
    "start_time": "2023-01-05T17:07:01.949Z"
   },
   {
    "duration": 134,
    "start_time": "2023-01-05T17:07:09.694Z"
   },
   {
    "duration": 131,
    "start_time": "2023-01-05T17:07:14.512Z"
   },
   {
    "duration": 140,
    "start_time": "2023-01-05T17:07:19.759Z"
   },
   {
    "duration": 137,
    "start_time": "2023-01-05T17:07:31.169Z"
   },
   {
    "duration": 135,
    "start_time": "2023-01-05T17:07:40.641Z"
   },
   {
    "duration": 14,
    "start_time": "2023-01-05T17:08:27.240Z"
   },
   {
    "duration": 238,
    "start_time": "2023-01-05T17:08:55.312Z"
   },
   {
    "duration": 8,
    "start_time": "2023-01-05T17:09:23.655Z"
   },
   {
    "duration": 391,
    "start_time": "2023-01-05T17:09:35.105Z"
   },
   {
    "duration": 6,
    "start_time": "2023-01-05T17:09:53.009Z"
   },
   {
    "duration": 134,
    "start_time": "2023-01-05T17:10:04.395Z"
   },
   {
    "duration": 141,
    "start_time": "2023-01-05T17:10:13.852Z"
   },
   {
    "duration": 136,
    "start_time": "2023-01-05T17:10:29.894Z"
   },
   {
    "duration": 122,
    "start_time": "2023-01-05T17:11:39.031Z"
   },
   {
    "duration": 116,
    "start_time": "2023-01-05T17:11:49.143Z"
   },
   {
    "duration": 176,
    "start_time": "2023-01-05T17:12:21.190Z"
   },
   {
    "duration": 126,
    "start_time": "2023-01-05T17:12:29.045Z"
   },
   {
    "duration": 9,
    "start_time": "2023-01-05T17:14:03.985Z"
   },
   {
    "duration": 120,
    "start_time": "2023-01-05T17:14:31.919Z"
   },
   {
    "duration": 132,
    "start_time": "2023-01-05T17:14:40.077Z"
   },
   {
    "duration": 143,
    "start_time": "2023-01-05T17:14:55.575Z"
   },
   {
    "duration": 106,
    "start_time": "2023-01-05T17:16:21.994Z"
   },
   {
    "duration": 121,
    "start_time": "2023-01-05T17:16:46.501Z"
   },
   {
    "duration": 109,
    "start_time": "2023-01-05T17:19:09.944Z"
   },
   {
    "duration": 52,
    "start_time": "2023-01-05T17:19:30.691Z"
   },
   {
    "duration": 122,
    "start_time": "2023-01-05T17:19:35.649Z"
   },
   {
    "duration": 118,
    "start_time": "2023-01-05T17:20:13.126Z"
   },
   {
    "duration": 110,
    "start_time": "2023-01-05T17:20:34.200Z"
   },
   {
    "duration": 121,
    "start_time": "2023-01-05T17:23:47.983Z"
   },
   {
    "duration": 125,
    "start_time": "2023-01-05T17:24:05.657Z"
   },
   {
    "duration": 188,
    "start_time": "2023-01-05T17:24:58.928Z"
   },
   {
    "duration": 199,
    "start_time": "2023-01-05T17:25:15.299Z"
   },
   {
    "duration": 168,
    "start_time": "2023-01-05T17:26:35.476Z"
   },
   {
    "duration": 53,
    "start_time": "2023-01-05T17:29:45.323Z"
   },
   {
    "duration": 761,
    "start_time": "2023-01-05T17:29:45.469Z"
   },
   {
    "duration": 4,
    "start_time": "2023-01-05T17:29:46.232Z"
   },
   {
    "duration": 11,
    "start_time": "2023-01-05T17:29:46.238Z"
   },
   {
    "duration": 63,
    "start_time": "2023-01-05T17:29:46.251Z"
   },
   {
    "duration": 84,
    "start_time": "2023-01-05T17:29:46.318Z"
   },
   {
    "duration": 33,
    "start_time": "2023-01-05T17:29:46.404Z"
   },
   {
    "duration": 42,
    "start_time": "2023-01-05T17:29:46.438Z"
   },
   {
    "duration": 13,
    "start_time": "2023-01-05T17:29:46.483Z"
   },
   {
    "duration": 9,
    "start_time": "2023-01-05T17:29:46.498Z"
   },
   {
    "duration": 26,
    "start_time": "2023-01-05T17:29:46.509Z"
   },
   {
    "duration": 14,
    "start_time": "2023-01-05T17:29:46.537Z"
   },
   {
    "duration": 31,
    "start_time": "2023-01-05T17:29:46.553Z"
   },
   {
    "duration": 8,
    "start_time": "2023-01-05T17:29:46.586Z"
   },
   {
    "duration": 13,
    "start_time": "2023-01-05T17:29:46.597Z"
   },
   {
    "duration": 16,
    "start_time": "2023-01-05T17:29:46.612Z"
   },
   {
    "duration": 9,
    "start_time": "2023-01-05T17:29:46.630Z"
   },
   {
    "duration": 712,
    "start_time": "2023-01-05T17:29:46.641Z"
   },
   {
    "duration": 315,
    "start_time": "2023-01-05T17:29:47.355Z"
   },
   {
    "duration": 441,
    "start_time": "2023-01-05T17:29:47.672Z"
   },
   {
    "duration": 474,
    "start_time": "2023-01-05T17:29:48.116Z"
   },
   {
    "duration": 270,
    "start_time": "2023-01-05T17:29:48.592Z"
   },
   {
    "duration": 138,
    "start_time": "2023-01-05T17:29:48.864Z"
   },
   {
    "duration": 7,
    "start_time": "2023-01-05T17:29:49.004Z"
   },
   {
    "duration": 16916,
    "start_time": "2023-01-05T17:29:49.012Z"
   },
   {
    "duration": 1708,
    "start_time": "2023-01-05T17:30:58.061Z"
   },
   {
    "duration": 117,
    "start_time": "2023-01-05T17:31:05.453Z"
   },
   {
    "duration": 145,
    "start_time": "2023-01-05T17:31:08.821Z"
   },
   {
    "duration": 170,
    "start_time": "2023-01-05T17:31:48.997Z"
   },
   {
    "duration": 189,
    "start_time": "2023-01-05T17:32:01.812Z"
   },
   {
    "duration": 1753,
    "start_time": "2023-01-05T17:32:09.150Z"
   },
   {
    "duration": 167,
    "start_time": "2023-01-05T17:32:13.757Z"
   },
   {
    "duration": 179,
    "start_time": "2023-01-05T17:32:41.857Z"
   },
   {
    "duration": 113,
    "start_time": "2023-01-05T17:33:10.853Z"
   },
   {
    "duration": 179,
    "start_time": "2023-01-05T17:33:14.893Z"
   },
   {
    "duration": 78,
    "start_time": "2023-01-05T17:37:21.564Z"
   },
   {
    "duration": 7,
    "start_time": "2023-01-05T17:37:57.646Z"
   },
   {
    "duration": 45,
    "start_time": "2023-01-05T20:37:23.880Z"
   },
   {
    "duration": 927,
    "start_time": "2023-01-05T20:40:18.099Z"
   },
   {
    "duration": 164,
    "start_time": "2023-01-05T20:41:01.804Z"
   },
   {
    "duration": 866,
    "start_time": "2023-01-05T20:41:48.824Z"
   },
   {
    "duration": 13,
    "start_time": "2023-01-05T20:43:51.877Z"
   },
   {
    "duration": 129,
    "start_time": "2023-01-05T20:47:30.353Z"
   },
   {
    "duration": 446,
    "start_time": "2023-01-05T20:50:15.156Z"
   },
   {
    "duration": 653,
    "start_time": "2023-01-05T20:50:33.046Z"
   },
   {
    "duration": 423,
    "start_time": "2023-01-05T20:50:43.263Z"
   },
   {
    "duration": 358,
    "start_time": "2023-01-05T20:51:37.139Z"
   },
   {
    "duration": 15,
    "start_time": "2023-01-05T21:02:09.858Z"
   },
   {
    "duration": 745,
    "start_time": "2023-01-05T21:22:53.401Z"
   },
   {
    "duration": 15,
    "start_time": "2023-01-05T21:23:07.523Z"
   },
   {
    "duration": 10,
    "start_time": "2023-01-05T21:24:05.849Z"
   },
   {
    "duration": 9,
    "start_time": "2023-01-05T21:24:56.255Z"
   },
   {
    "duration": 9,
    "start_time": "2023-01-05T21:25:33.381Z"
   },
   {
    "duration": 9,
    "start_time": "2023-01-05T21:25:40.517Z"
   },
   {
    "duration": 10,
    "start_time": "2023-01-05T21:44:27.926Z"
   },
   {
    "duration": 11,
    "start_time": "2023-01-05T21:44:34.767Z"
   },
   {
    "duration": 15,
    "start_time": "2023-01-05T21:44:43.773Z"
   },
   {
    "duration": 39,
    "start_time": "2023-01-05T21:47:04.938Z"
   },
   {
    "duration": 54,
    "start_time": "2023-01-05T21:48:18.371Z"
   },
   {
    "duration": 45,
    "start_time": "2023-01-05T21:48:43.622Z"
   },
   {
    "duration": 23,
    "start_time": "2023-01-05T21:49:39.108Z"
   },
   {
    "duration": 9,
    "start_time": "2023-01-05T21:51:31.266Z"
   },
   {
    "duration": 25,
    "start_time": "2023-01-05T21:51:37.667Z"
   },
   {
    "duration": 14,
    "start_time": "2023-01-05T21:51:49.229Z"
   },
   {
    "duration": 1156,
    "start_time": "2023-01-06T14:28:12.676Z"
   },
   {
    "duration": 4,
    "start_time": "2023-01-06T14:28:13.834Z"
   },
   {
    "duration": 11,
    "start_time": "2023-01-06T14:28:13.839Z"
   },
   {
    "duration": 50,
    "start_time": "2023-01-06T14:28:13.853Z"
   },
   {
    "duration": 39,
    "start_time": "2023-01-06T14:28:13.905Z"
   },
   {
    "duration": 29,
    "start_time": "2023-01-06T14:28:13.978Z"
   },
   {
    "duration": 5,
    "start_time": "2023-01-06T14:28:14.009Z"
   },
   {
    "duration": 11,
    "start_time": "2023-01-06T14:28:14.015Z"
   },
   {
    "duration": 4,
    "start_time": "2023-01-06T14:28:14.028Z"
   },
   {
    "duration": 44,
    "start_time": "2023-01-06T14:28:14.035Z"
   },
   {
    "duration": 14,
    "start_time": "2023-01-06T14:28:14.081Z"
   },
   {
    "duration": 13,
    "start_time": "2023-01-06T14:28:14.097Z"
   },
   {
    "duration": 6,
    "start_time": "2023-01-06T14:28:14.113Z"
   },
   {
    "duration": 10,
    "start_time": "2023-01-06T14:28:14.121Z"
   },
   {
    "duration": 46,
    "start_time": "2023-01-06T14:28:14.133Z"
   },
   {
    "duration": 10,
    "start_time": "2023-01-06T14:28:14.181Z"
   },
   {
    "duration": 609,
    "start_time": "2023-01-06T14:28:14.193Z"
   },
   {
    "duration": 251,
    "start_time": "2023-01-06T14:28:14.804Z"
   },
   {
    "duration": 371,
    "start_time": "2023-01-06T14:28:15.059Z"
   },
   {
    "duration": 314,
    "start_time": "2023-01-06T14:28:15.431Z"
   },
   {
    "duration": 286,
    "start_time": "2023-01-06T14:28:15.747Z"
   },
   {
    "duration": 119,
    "start_time": "2023-01-06T14:28:16.035Z"
   },
   {
    "duration": 5,
    "start_time": "2023-01-06T14:28:16.156Z"
   },
   {
    "duration": 159,
    "start_time": "2023-01-06T14:28:16.162Z"
   },
   {
    "duration": 5,
    "start_time": "2023-01-06T14:28:16.323Z"
   },
   {
    "duration": 383,
    "start_time": "2023-01-06T14:28:16.330Z"
   },
   {
    "duration": 10,
    "start_time": "2023-01-06T14:28:16.714Z"
   },
   {
    "duration": 8,
    "start_time": "2023-01-06T14:28:16.727Z"
   },
   {
    "duration": 50,
    "start_time": "2023-01-06T14:28:16.737Z"
   },
   {
    "duration": 15,
    "start_time": "2023-01-06T14:28:16.790Z"
   },
   {
    "duration": 79,
    "start_time": "2023-01-06T19:03:52.685Z"
   },
   {
    "duration": 38,
    "start_time": "2023-01-06T19:04:18.742Z"
   },
   {
    "duration": 788,
    "start_time": "2023-01-06T19:07:38.568Z"
   },
   {
    "duration": 81,
    "start_time": "2023-01-06T19:07:44.182Z"
   },
   {
    "duration": 3,
    "start_time": "2023-01-06T19:07:44.265Z"
   },
   {
    "duration": 35,
    "start_time": "2023-01-06T19:07:44.270Z"
   },
   {
    "duration": 65,
    "start_time": "2023-01-06T19:07:44.308Z"
   },
   {
    "duration": 39,
    "start_time": "2023-01-06T19:07:44.374Z"
   },
   {
    "duration": 64,
    "start_time": "2023-01-06T19:07:44.415Z"
   },
   {
    "duration": 7,
    "start_time": "2023-01-06T19:07:44.481Z"
   },
   {
    "duration": 31,
    "start_time": "2023-01-06T19:07:44.490Z"
   },
   {
    "duration": 32,
    "start_time": "2023-01-06T19:07:44.523Z"
   },
   {
    "duration": 13,
    "start_time": "2023-01-06T19:07:48.552Z"
   },
   {
    "duration": 17,
    "start_time": "2023-01-06T19:07:51.857Z"
   },
   {
    "duration": 620,
    "start_time": "2023-01-06T19:22:46.113Z"
   },
   {
    "duration": 509,
    "start_time": "2023-01-06T19:23:14.284Z"
   },
   {
    "duration": 578,
    "start_time": "2023-01-06T19:24:28.123Z"
   },
   {
    "duration": 81,
    "start_time": "2023-01-06T19:24:31.817Z"
   },
   {
    "duration": 3,
    "start_time": "2023-01-06T19:24:31.900Z"
   },
   {
    "duration": 7,
    "start_time": "2023-01-06T19:24:31.905Z"
   },
   {
    "duration": 39,
    "start_time": "2023-01-06T19:24:31.914Z"
   },
   {
    "duration": 52,
    "start_time": "2023-01-06T19:24:31.954Z"
   },
   {
    "duration": 36,
    "start_time": "2023-01-06T19:24:32.008Z"
   },
   {
    "duration": 8,
    "start_time": "2023-01-06T19:24:32.079Z"
   },
   {
    "duration": 16,
    "start_time": "2023-01-06T19:24:32.090Z"
   },
   {
    "duration": 6,
    "start_time": "2023-01-06T19:24:32.108Z"
   },
   {
    "duration": 21,
    "start_time": "2023-01-06T19:24:32.117Z"
   },
   {
    "duration": 38,
    "start_time": "2023-01-06T19:24:32.140Z"
   },
   {
    "duration": 17,
    "start_time": "2023-01-06T19:24:32.180Z"
   },
   {
    "duration": 7,
    "start_time": "2023-01-06T19:24:32.199Z"
   },
   {
    "duration": 11,
    "start_time": "2023-01-06T19:24:32.208Z"
   },
   {
    "duration": 14,
    "start_time": "2023-01-06T19:24:32.221Z"
   },
   {
    "duration": 40,
    "start_time": "2023-01-06T19:24:32.237Z"
   },
   {
    "duration": 534,
    "start_time": "2023-01-06T19:24:35.548Z"
   },
   {
    "duration": 533,
    "start_time": "2023-01-06T19:24:51.142Z"
   },
   {
    "duration": 578,
    "start_time": "2023-01-06T19:25:38.156Z"
   },
   {
    "duration": 244,
    "start_time": "2023-01-06T19:27:39.620Z"
   },
   {
    "duration": 315,
    "start_time": "2023-01-06T19:27:48.119Z"
   },
   {
    "duration": 375,
    "start_time": "2023-01-06T19:29:14.078Z"
   },
   {
    "duration": 357,
    "start_time": "2023-01-06T19:29:22.878Z"
   },
   {
    "duration": 358,
    "start_time": "2023-01-06T19:29:56.763Z"
   },
   {
    "duration": 480,
    "start_time": "2023-01-06T19:30:18.661Z"
   },
   {
    "duration": 340,
    "start_time": "2023-01-06T19:31:10.526Z"
   },
   {
    "duration": 296,
    "start_time": "2023-01-06T19:32:38.319Z"
   },
   {
    "duration": 272,
    "start_time": "2023-01-06T19:33:30.062Z"
   },
   {
    "duration": 253,
    "start_time": "2023-01-06T19:34:33.861Z"
   },
   {
    "duration": 258,
    "start_time": "2023-01-06T19:35:44.589Z"
   },
   {
    "duration": 254,
    "start_time": "2023-01-06T19:35:49.721Z"
   },
   {
    "duration": 266,
    "start_time": "2023-01-06T19:37:00.366Z"
   },
   {
    "duration": 334,
    "start_time": "2023-01-06T19:48:39.915Z"
   },
   {
    "duration": 353,
    "start_time": "2023-01-06T19:49:20.801Z"
   },
   {
    "duration": 16,
    "start_time": "2023-01-06T19:56:07.572Z"
   },
   {
    "duration": 42,
    "start_time": "2023-01-06T19:56:51.424Z"
   },
   {
    "duration": 6,
    "start_time": "2023-01-06T19:56:59.584Z"
   },
   {
    "duration": 5,
    "start_time": "2023-01-06T19:57:16.393Z"
   },
   {
    "duration": 11,
    "start_time": "2023-01-06T19:57:49.519Z"
   },
   {
    "duration": 5,
    "start_time": "2023-01-06T19:58:16.513Z"
   },
   {
    "duration": 6,
    "start_time": "2023-01-06T19:58:25.491Z"
   },
   {
    "duration": 5,
    "start_time": "2023-01-06T19:58:40.470Z"
   },
   {
    "duration": 10,
    "start_time": "2023-01-06T20:00:46.795Z"
   },
   {
    "duration": 10,
    "start_time": "2023-01-06T20:00:59.038Z"
   },
   {
    "duration": 27,
    "start_time": "2023-01-06T20:02:01.956Z"
   },
   {
    "duration": 80,
    "start_time": "2023-01-06T20:02:34.585Z"
   },
   {
    "duration": 3,
    "start_time": "2023-01-06T20:02:34.667Z"
   },
   {
    "duration": 35,
    "start_time": "2023-01-06T20:02:34.672Z"
   },
   {
    "duration": 68,
    "start_time": "2023-01-06T20:02:34.709Z"
   },
   {
    "duration": 35,
    "start_time": "2023-01-06T20:02:34.779Z"
   },
   {
    "duration": 34,
    "start_time": "2023-01-06T20:02:34.815Z"
   },
   {
    "duration": 6,
    "start_time": "2023-01-06T20:02:34.878Z"
   },
   {
    "duration": 27,
    "start_time": "2023-01-06T20:02:34.886Z"
   },
   {
    "duration": 19,
    "start_time": "2023-01-06T20:02:34.914Z"
   },
   {
    "duration": 37,
    "start_time": "2023-01-06T20:02:34.935Z"
   },
   {
    "duration": 29,
    "start_time": "2023-01-06T20:02:34.973Z"
   },
   {
    "duration": 28,
    "start_time": "2023-01-06T20:02:35.003Z"
   },
   {
    "duration": 38,
    "start_time": "2023-01-06T20:02:35.032Z"
   },
   {
    "duration": 17,
    "start_time": "2023-01-06T20:02:35.072Z"
   },
   {
    "duration": 31,
    "start_time": "2023-01-06T20:02:35.090Z"
   },
   {
    "duration": 21,
    "start_time": "2023-01-06T20:02:35.123Z"
   },
   {
    "duration": 558,
    "start_time": "2023-01-06T20:02:35.146Z"
   },
   {
    "duration": 278,
    "start_time": "2023-01-06T20:02:35.706Z"
   },
   {
    "duration": 459,
    "start_time": "2023-01-06T20:02:35.985Z"
   },
   {
    "duration": 274,
    "start_time": "2023-01-06T20:02:36.445Z"
   },
   {
    "duration": 260,
    "start_time": "2023-01-06T20:02:36.721Z"
   },
   {
    "duration": 119,
    "start_time": "2023-01-06T20:02:36.983Z"
   },
   {
    "duration": 5,
    "start_time": "2023-01-06T20:02:37.104Z"
   },
   {
    "duration": 155,
    "start_time": "2023-01-06T20:02:37.111Z"
   },
   {
    "duration": 6,
    "start_time": "2023-01-06T20:02:41.649Z"
   },
   {
    "duration": 135,
    "start_time": "2023-01-06T20:04:49.128Z"
   },
   {
    "duration": 149,
    "start_time": "2023-01-06T20:04:56.073Z"
   },
   {
    "duration": 12,
    "start_time": "2023-01-06T20:06:41.263Z"
   },
   {
    "duration": 11,
    "start_time": "2023-01-06T20:06:53.792Z"
   },
   {
    "duration": 348,
    "start_time": "2023-01-06T20:07:06.194Z"
   },
   {
    "duration": 80,
    "start_time": "2023-01-06T20:07:37.807Z"
   },
   {
    "duration": 4,
    "start_time": "2023-01-06T20:07:37.889Z"
   },
   {
    "duration": 35,
    "start_time": "2023-01-06T20:07:37.894Z"
   },
   {
    "duration": 44,
    "start_time": "2023-01-06T20:07:37.931Z"
   },
   {
    "duration": 38,
    "start_time": "2023-01-06T20:07:37.977Z"
   },
   {
    "duration": 63,
    "start_time": "2023-01-06T20:07:38.017Z"
   },
   {
    "duration": 7,
    "start_time": "2023-01-06T20:07:38.082Z"
   },
   {
    "duration": 14,
    "start_time": "2023-01-06T20:07:38.091Z"
   },
   {
    "duration": 6,
    "start_time": "2023-01-06T20:07:38.106Z"
   },
   {
    "duration": 21,
    "start_time": "2023-01-06T20:07:38.114Z"
   },
   {
    "duration": 16,
    "start_time": "2023-01-06T20:07:38.136Z"
   },
   {
    "duration": 38,
    "start_time": "2023-01-06T20:07:38.154Z"
   },
   {
    "duration": 11,
    "start_time": "2023-01-06T20:07:38.194Z"
   },
   {
    "duration": 15,
    "start_time": "2023-01-06T20:07:38.208Z"
   },
   {
    "duration": 21,
    "start_time": "2023-01-06T20:07:38.226Z"
   },
   {
    "duration": 11,
    "start_time": "2023-01-06T20:07:38.250Z"
   },
   {
    "duration": 562,
    "start_time": "2023-01-06T20:07:38.263Z"
   },
   {
    "duration": 263,
    "start_time": "2023-01-06T20:07:38.828Z"
   },
   {
    "duration": 352,
    "start_time": "2023-01-06T20:07:39.093Z"
   },
   {
    "duration": 374,
    "start_time": "2023-01-06T20:07:39.447Z"
   },
   {
    "duration": 278,
    "start_time": "2023-01-06T20:07:39.823Z"
   },
   {
    "duration": 120,
    "start_time": "2023-01-06T20:07:40.103Z"
   },
   {
    "duration": 5,
    "start_time": "2023-01-06T20:07:40.225Z"
   },
   {
    "duration": 166,
    "start_time": "2023-01-06T20:07:40.232Z"
   },
   {
    "duration": 6,
    "start_time": "2023-01-06T20:07:40.399Z"
   },
   {
    "duration": 28,
    "start_time": "2023-01-06T20:15:54.193Z"
   },
   {
    "duration": 360,
    "start_time": "2023-01-06T20:18:21.789Z"
   },
   {
    "duration": 15,
    "start_time": "2023-01-06T20:19:55.295Z"
   },
   {
    "duration": 1218,
    "start_time": "2023-01-06T20:20:19.407Z"
   },
   {
    "duration": 4,
    "start_time": "2023-01-06T20:20:20.627Z"
   },
   {
    "duration": 8,
    "start_time": "2023-01-06T20:20:20.632Z"
   },
   {
    "duration": 46,
    "start_time": "2023-01-06T20:20:20.642Z"
   },
   {
    "duration": 36,
    "start_time": "2023-01-06T20:20:20.690Z"
   },
   {
    "duration": 62,
    "start_time": "2023-01-06T20:20:20.729Z"
   },
   {
    "duration": 6,
    "start_time": "2023-01-06T20:20:20.793Z"
   },
   {
    "duration": 11,
    "start_time": "2023-01-06T20:20:20.801Z"
   },
   {
    "duration": 6,
    "start_time": "2023-01-06T20:20:20.814Z"
   },
   {
    "duration": 13,
    "start_time": "2023-01-06T20:20:20.822Z"
   },
   {
    "duration": 43,
    "start_time": "2023-01-06T20:20:20.837Z"
   },
   {
    "duration": 13,
    "start_time": "2023-01-06T20:20:20.882Z"
   },
   {
    "duration": 12,
    "start_time": "2023-01-06T20:20:20.896Z"
   },
   {
    "duration": 11,
    "start_time": "2023-01-06T20:20:20.909Z"
   },
   {
    "duration": 12,
    "start_time": "2023-01-06T20:20:20.922Z"
   },
   {
    "duration": 14,
    "start_time": "2023-01-06T20:20:20.935Z"
   },
   {
    "duration": 646,
    "start_time": "2023-01-06T20:20:20.951Z"
   },
   {
    "duration": 258,
    "start_time": "2023-01-06T20:20:21.599Z"
   },
   {
    "duration": 377,
    "start_time": "2023-01-06T20:20:21.859Z"
   },
   {
    "duration": 313,
    "start_time": "2023-01-06T20:20:22.239Z"
   },
   {
    "duration": 281,
    "start_time": "2023-01-06T20:20:22.554Z"
   },
   {
    "duration": 144,
    "start_time": "2023-01-06T20:20:22.877Z"
   },
   {
    "duration": 5,
    "start_time": "2023-01-06T20:20:23.023Z"
   },
   {
    "duration": 168,
    "start_time": "2023-01-06T20:20:23.030Z"
   },
   {
    "duration": 4,
    "start_time": "2023-01-06T20:20:23.200Z"
   },
   {
    "duration": 381,
    "start_time": "2023-01-06T20:20:23.206Z"
   },
   {
    "duration": 13,
    "start_time": "2023-01-06T20:20:23.589Z"
   },
   {
    "duration": 12,
    "start_time": "2023-01-06T20:20:23.606Z"
   },
   {
    "duration": 27,
    "start_time": "2023-01-06T20:20:23.620Z"
   },
   {
    "duration": 40,
    "start_time": "2023-01-06T20:20:23.649Z"
   },
   {
    "duration": 1178,
    "start_time": "2023-01-06T20:20:33.400Z"
   },
   {
    "duration": 3,
    "start_time": "2023-01-06T20:20:34.580Z"
   },
   {
    "duration": 10,
    "start_time": "2023-01-06T20:20:34.584Z"
   },
   {
    "duration": 49,
    "start_time": "2023-01-06T20:20:34.596Z"
   },
   {
    "duration": 55,
    "start_time": "2023-01-06T20:20:34.647Z"
   },
   {
    "duration": 28,
    "start_time": "2023-01-06T20:20:34.703Z"
   },
   {
    "duration": 5,
    "start_time": "2023-01-06T20:20:34.733Z"
   },
   {
    "duration": 8,
    "start_time": "2023-01-06T20:20:34.777Z"
   },
   {
    "duration": 14,
    "start_time": "2023-01-06T20:20:34.786Z"
   },
   {
    "duration": 23,
    "start_time": "2023-01-06T20:20:34.803Z"
   },
   {
    "duration": 12,
    "start_time": "2023-01-06T20:20:34.827Z"
   },
   {
    "duration": 18,
    "start_time": "2023-01-06T20:20:34.840Z"
   },
   {
    "duration": 7,
    "start_time": "2023-01-06T20:20:34.860Z"
   },
   {
    "duration": 17,
    "start_time": "2023-01-06T20:20:34.868Z"
   },
   {
    "duration": 13,
    "start_time": "2023-01-06T20:20:34.886Z"
   },
   {
    "duration": 8,
    "start_time": "2023-01-06T20:20:34.901Z"
   },
   {
    "duration": 637,
    "start_time": "2023-01-06T20:20:34.910Z"
   },
   {
    "duration": 285,
    "start_time": "2023-01-06T20:20:35.548Z"
   },
   {
    "duration": 390,
    "start_time": "2023-01-06T20:20:35.835Z"
   },
   {
    "duration": 289,
    "start_time": "2023-01-06T20:20:36.227Z"
   },
   {
    "duration": 265,
    "start_time": "2023-01-06T20:20:36.518Z"
   },
   {
    "duration": 119,
    "start_time": "2023-01-06T20:20:36.784Z"
   },
   {
    "duration": 4,
    "start_time": "2023-01-06T20:20:36.905Z"
   },
   {
    "duration": 156,
    "start_time": "2023-01-06T20:20:36.911Z"
   },
   {
    "duration": 9,
    "start_time": "2023-01-06T20:20:37.068Z"
   },
   {
    "duration": 358,
    "start_time": "2023-01-06T20:20:37.079Z"
   },
   {
    "duration": 11,
    "start_time": "2023-01-06T20:20:37.439Z"
   },
   {
    "duration": 28,
    "start_time": "2023-01-06T20:20:37.454Z"
   },
   {
    "duration": 28,
    "start_time": "2023-01-06T20:20:37.483Z"
   },
   {
    "duration": 14,
    "start_time": "2023-01-06T20:20:37.513Z"
   }
  ],
  "kernelspec": {
   "display_name": "Python 3 (ipykernel)",
   "language": "python",
   "name": "python3"
  },
  "language_info": {
   "codemirror_mode": {
    "name": "ipython",
    "version": 3
   },
   "file_extension": ".py",
   "mimetype": "text/x-python",
   "name": "python",
   "nbconvert_exporter": "python",
   "pygments_lexer": "ipython3",
   "version": "3.9.12"
  },
  "toc": {
   "base_numbering": 1,
   "nav_menu": {},
   "number_sections": false,
   "sideBar": true,
   "skip_h1_title": true,
   "title_cell": "Table of Contents",
   "title_sidebar": "Contents",
   "toc_cell": false,
   "toc_position": {
    "height": "calc(100% - 180px)",
    "left": "10px",
    "top": "150px",
    "width": "457.188px"
   },
   "toc_section_display": true,
   "toc_window_display": false
  }
 },
 "nbformat": 4,
 "nbformat_minor": 2
}
